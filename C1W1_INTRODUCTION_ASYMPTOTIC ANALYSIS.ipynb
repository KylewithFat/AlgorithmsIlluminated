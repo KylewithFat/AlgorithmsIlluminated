{
 "cells": [
  {
   "cell_type": "markdown",
   "metadata": {},
   "source": [
    "# I. Introduction\n",
    "We will start by looking at the Integer Multiplication problem.\n",
    "\n",
    "To multiply two numbers we need to have the following primitive operations\n",
    "\n",
    "Add two single digit numbers\n",
    "Multiply two single-digit numbers\n",
    "Append of prepend a 0 to a number\n",
    "Following image shows how perform the following multiplication $5678 \\times 1234$\n",
    "\n",
    "<img src=\"images/1_multiply.png\">\n",
    "\n",
    "**What you probably realized back in third grade, is that this algorithm is what we would call correct. That is, no matter what integers x and y you start with If you carry out this procedure, this algorithm. And all of your intermediate computations are done properly. Then the algorithm will eventually terminate with the product, x times y, of the two input numbers. You're never going to get a wrong answer. **\n",
    "\n",
    "Let us now analyze the total number of operations for multiplying two n digit numbers\n",
    "\n",
    "A partial product involves multiplying 1 digit of an n digit number with another n digit. Each multiplication involves atmost $2n$ operations where we have n multiplications for an n digit number and then an addition if a carry is generated from the previous multiplication operation. Essentially we have $n \\times 2n$ operations giving is $2n^2$ multiply operations for multiplying two n digit numbers.\n",
    "\n",
    "We still are left with adding up these partial products. We have n rows of these partial sums and each of these n rows can have a carry giving us a maximum of 2n operations per row and thus adding up all partial sums gives is $n \\times 2n = 2n^2$ operations\n",
    "\n",
    "Thus the conventional multiplication takes $2n^2 + 2n^2 = 4n^2$ operations. Or, more generally the number of operations for performing multiplication of two n digit numbers is $Cn^ 2$ operations. **Thus the work in the Grade-School Multiplication Algorithm increases quadratically with the number of digits in the the number.** For example, if you double the size of the input, if you double the number of digits in each of the two integers that you're given. Then the number of operations you will have to perform using this algorithm has to go up by a factor of four. Similarly, if you quadruple the input length, the number of operations going, is going to go up by a factor of 16, and so on.\n",
    "\n",
    "\n",
    "***\n",
    "\n",
    " **Can we do better than $n^2$ complexity?**\n",
    "\n",
    "Let us look at an alternate way to multiply two numbers known as *Karatsuba Multiplication*. We will us ethe same two numbers 5678 and 1234 and see Karatsuba Multiplication in action.\n",
    "\n",
    "Break up these two 4 digit numbers into halfs, thus we get 4 smaller numbers of 2 digits each. We call them a, b, c and d. Thus for the above example, 5678 will be split in two numbers 56 and 78 and we call them a and b respectively. Similarly, 1234 will be split into c and d with values 12 and 34 respectively.\n",
    "Compute $a \\times c$ which is $56 \\times 12 = 672$\n",
    "Compute $b \\times d$ which is $78 \\times 34 = 2652$\n",
    "Compute $(a + b) \\times (c + d)$ which is $(56 + 78) \\times (12 + 34) = 6164$\n",
    "Subtract the first two results from the third, thus we get $6164 - 672 - 2652 = 2840$\n",
    "Compute $10^4 \\times 672 + 10^2 \\times  2840 + 2652 = 7006652$\n",
    "\n",
    "The above result is exactly same as the one we got using the conventional method.\n",
    "\n",
    "***\n",
    "\n",
    "Before we implement the Karatsuba multiplication, let us implement a **recursive approach to multiply two numbers**. Let the two number be n digit numbers x and y, to keep the initial implementation simple, we assume both the numbers are n digits but can easily be extended to two numbers of different number of digits.\n",
    "\n",
    "Let x and y be split into two $n/2$ digit numbers a, b and c,d respectively.\n",
    "\n",
    "Thus  $x = 10^{n/2}.a + b$ and $y = 10^ {n/2}.c + d$\n",
    "\n",
    "$x.y   =   (10^ {n/2}.a + b) \\times (10^ {n/2}.c + d)$<br>\n",
    "&nbsp;&nbsp;&nbsp;&nbsp;&nbsp;&nbsp;  $ =   10^n.ab + 10^{n/2}.(a.d + b.c) + b.d $\n",
    "\n",
    "\n",
    "Let us call the following expression on RHS as Star (*) expression : <br>\n",
    " $x.y = 10^n.ab + 10^{n/2}.(a.d + b.c) + b.d $ \n",
    "\n",
    "\n",
    "Following code snippet rec_int_mult implements this recursive multiplication of two numbers. But first we will be defining a simple function which will take a number and pad it with leading 0 so that the length of the number if a power of 2 for simplicity in recursion"
   ]
  },
  {
   "cell_type": "code",
   "execution_count": 72,
   "metadata": {},
   "outputs": [
    {
     "name": "stdout",
     "output_type": "stream",
     "text": [
      "6164\n"
     ]
    }
   ],
   "source": [
    "def recursive_integer_multiplication(x, y):\n",
    "    #print(\"x: {} , y: {}\".format(x,y))\n",
    "    if len(x) == 1 and len(y) == 1:\n",
    "        return int(x) * int(y)\n",
    "    if len(x) < len(y):\n",
    "        x = '0'*(len(y) - len(x))  + x  \n",
    "    elif len(x) > len(y):\n",
    "        y = '0'*(len(x) - len(y))  + y  \n",
    "    \n",
    "    split = len(x) // 2\n",
    "    if len(x) % 2 != 0:\n",
    "        split += 1\n",
    "    \n",
    "    a , b =  x[:split], x[split:]\n",
    "    c , d =  y[:split], y[split:]\n",
    "        \n",
    "    # We cheat a bit here by multiplying by powers of 10 which can be implemented purely as addition\n",
    "    return (10**(len(x) if len(x) % 2 == 0 else (len(x)-1)) * recursive_integer_multiplication(a, c))  \\\n",
    "            + 10**(split if len(x) % 2 == 0 else (split-1)) \\\n",
    "                    * (recursive_integer_multiplication(a, d) + recursive_integer_multiplication(b, c)) \\\n",
    "            + recursive_integer_multiplication(b, d)\n",
    "\n",
    "#print(recursive_integer_multiplication('1234','5678'))\n",
    "print(recursive_integer_multiplication('46','134'))\n",
    "#print(recursive_integer_multiplication('6','4'))"
   ]
  },
  {
   "cell_type": "code",
   "execution_count": 111,
   "metadata": {},
   "outputs": [
    {
     "name": "stdout",
     "output_type": "stream",
     "text": [
      " x * y  =  RecursiveMul  vs  x*y \n",
      "\n",
      "1234 * 5678 = 7006652   vs 7006652  \n",
      "46 * 134 = 6164   vs 6164  \n",
      "6 * 4 = 24   vs 24  \n",
      "10000 * 67568 = 675680000   vs 675680000  \n",
      "78229 * 192 = 15019968   vs 15019968  \n",
      "29219 * 4 = 116876   vs 116876  \n",
      "9299299200010293988475756643209128374645637282901001929837376447388292902038 * 01092983837476464545367388829292920202002020200202093983746464553552 = 10163983725469067928590493644244661053399214734991984685649826345477632767222851187708654237342103435977895678489334865506150114865206140938976   vs 10163983725469067928590493644244661053399214734991984685649826345477632767222851187708654237342103435977895678489334865506150114865206140938976  \n",
      "4321 * 81882929828818 = 353816139790322578   vs 353816139790322578  \n",
      "1111 * 222 = 246642   vs 246642  \n"
     ]
    }
   ],
   "source": [
    "def print_rec_int_mul(x, y):\n",
    "    r = recursive_integer_multiplication(x, y)\n",
    "    print(\"{} * {} = {}   vs {}  \".format(x, y, r, int(x)*int(y)))\n",
    "    assert (r == int(x)*int(y)),\"Not matched multiplication\"\n",
    "\n",
    "    \n",
    "print(\" x * y  =  RecursiveMul  vs  x*y \\n\")\n",
    "print_rec_int_mul('1234','5678')   \n",
    "print_rec_int_mul('46','134')   \n",
    "print_rec_int_mul('6','4')   \n",
    "print_rec_int_mul('10000','67568')\n",
    "print_rec_int_mul('78229','192') \n",
    "print_rec_int_mul('29219','4') \n",
    "print_rec_int_mul('9299299200010293988475756643209128374645637282901001929837376447388292902038','01092983837476464545367388829292920202002020200202093983746464553552') \n",
    "print_rec_int_mul('4321','81882929828818') \n",
    "print_rec_int_mul('1111','222') "
   ]
  },
  {
   "cell_type": "markdown",
   "metadata": {},
   "source": [
    "## **Karatsuba multiplication**\n",
    "\n",
    "The above code snippet involves performing 4 multiplications of smaller digit numbers. \n",
    "\n",
    "Gauss instead worked out a way to replace these 4 multiplications with 3 multiplications and some additions.\n",
    "\n",
    "**Gauss's trick** : Essentially $(a.d + b.c)$ be replaced with $(a + b).(c + d) - a.c - b.d$ thus reducing the multiplications to the following three multiplications\n",
    "\n",
    "- $a.c$\n",
    "- $b.d$\n",
    "- $(a + b).(c + d)$\n",
    "\n",
    "Essentially we reduce 4 recursive calls with 3 as seen in the following code snippet which is generic enough to accept numbers with not necessarily same number of digits"
   ]
  },
  {
   "cell_type": "code",
   "execution_count": 131,
   "metadata": {},
   "outputs": [],
   "source": [
    "def Karatsuba_Multiplication(x, y):\n",
    "    #print(\"x: {} , y: {}\".format(x,y))\n",
    "    if len(x) == 1 and len(y) == 1:\n",
    "        return int(x) * int(y)\n",
    "    if len(x) < len(y):\n",
    "        x = '0'*(len(y) - len(x))  + x  \n",
    "    elif len(x) > len(y):\n",
    "        y = '0'*(len(x) - len(y))  + y  \n",
    "    \n",
    "    split = len(x) // 2\n",
    "    if len(x) % 2 != 0:\n",
    "        split += 1\n",
    "    \n",
    "    a , b =  x[:split], x[split:]\n",
    "    c , d =  y[:split], y[split:]\n",
    "    \n",
    "    # 3 multiplications instead of 4\n",
    "    ac = Karatsuba_Multiplication(a, c)\n",
    "    aplusb_times_cplusd =  Karatsuba_Multiplication(str(int(a)+int(b)), str(int(c)+int(d))) #Gauss's Trick : (a+b).(c+d) = (a+b).(c+d) − a.c − b.d\n",
    "    bd = Karatsuba_Multiplication(b, d)\n",
    "        \n",
    "    return (10**(len(x) if len(x) % 2 == 0 else (len(x)-1)) * ac)  \\\n",
    "            + 10**(split if len(x) % 2 == 0 else (split-1)) * (aplusb_times_cplusd - ac - bd) \\\n",
    "            + bd "
   ]
  },
  {
   "cell_type": "code",
   "execution_count": 132,
   "metadata": {},
   "outputs": [
    {
     "name": "stdout",
     "output_type": "stream",
     "text": [
      " x * y  =  Karatsuba_Multiplication  vs  x*y \n",
      "\n",
      "1234 * 5678 = 7006652   vs 7006652  \n",
      "46 * 134 = 6164   vs 6164  \n",
      "6 * 4 = 24   vs 24  \n",
      "10000 * 67568 = 675680000   vs 675680000  \n",
      "78229 * 192 = 15019968   vs 15019968  \n",
      "29219 * 4 = 116876   vs 116876  \n",
      "9299299200010293988475756643209128374645637282901001929837376447388292902038 * 01092983837476464545367388829292920202002020200202093983746464553552 = 10163983725469067928590493644244661053399214734991984685649826345477632767222851187708654237342103435977895678489334865506150114865206140938976   vs 10163983725469067928590493644244661053399214734991984685649826345477632767222851187708654237342103435977895678489334865506150114865206140938976  \n",
      "4321 * 81882929828818 = 353816139790322578   vs 353816139790322578  \n",
      "1111 * 222 = 246642   vs 246642  \n"
     ]
    }
   ],
   "source": [
    "def print_Karatsuba_Multiplication(x, y):\n",
    "    r = Karatsuba_Multiplication(x, y)\n",
    "    print(\"{} * {} = {}   vs {}  \".format(x, y, r, int(x)*int(y)))\n",
    "    assert (r == int(x)*int(y)),\"Not matched multiplication\"\n",
    "\n",
    "    \n",
    "print(\" x * y  =  Karatsuba_Multiplication  vs  x*y \\n\")\n",
    "print_Karatsuba_Multiplication('1234','5678')   \n",
    "print_Karatsuba_Multiplication('46','134')   \n",
    "print_Karatsuba_Multiplication('6','4')   \n",
    "print_Karatsuba_Multiplication('10000','67568')\n",
    "print_Karatsuba_Multiplication('78229','192') \n",
    "print_Karatsuba_Multiplication('29219','4') \n",
    "print_Karatsuba_Multiplication('9299299200010293988475756643209128374645637282901001929837376447388292902038','01092983837476464545367388829292920202002020200202093983746464553552') \n",
    "print_Karatsuba_Multiplication('4321','81882929828818') \n",
    "print_Karatsuba_Multiplication('1111','222') "
   ]
  },
  {
   "cell_type": "markdown",
   "metadata": {},
   "source": [
    "Following two cells demonstrate execute the test case and the challenge problem given at [this URL](http://algorithmsilluminated.org/)."
   ]
  },
  {
   "cell_type": "code",
   "execution_count": 127,
   "metadata": {},
   "outputs": [
    {
     "name": "stdout",
     "output_type": "stream",
     "text": [
      "99999 * 9999 = 999890001   vs 999890001  \n",
      "3141592653589793238462643383279502884197169399375105820974944592 * 2718281828459045235360287471352662497757247093699959574966967627 = 8539734222673567065463550869546574495034888535765114961879601127067743044893204848617875072216249073013374895871952806582723184   vs 8539734222673567065463550869546574495034888535765114961879601127067743044893204848617875072216249073013374895871952806582723184  \n"
     ]
    }
   ],
   "source": [
    "print_Karatsuba_Multiplication('99999','9999') \n",
    "print_Karatsuba_Multiplication('3141592653589793238462643383279502884197169399375105820974944592','2718281828459045235360287471352662497757247093699959574966967627') "
   ]
  },
  {
   "cell_type": "markdown",
   "metadata": {},
   "source": [
    "By exactly how much Karatsuba_Multiplication is better than the Grade-School Multiplication Algorithm approach and is the divide and conquer approach in recursive_integer_multiplication any better than the Grade-School Multiplication Algorithm approach? We will look at answering this later after we finish the IV Chapter where we explore the Master Method."
   ]
  },
  {
   "cell_type": "markdown",
   "metadata": {},
   "source": [
    "## Merge Sort\n",
    "\n",
    "We will now analyse one of the most widely used and an efficient sorting algorithm, *Merge Sort*\n",
    "\n",
    "***\n",
    "\n",
    "Following implementation is an example of **Insertion sort** which requires 2 passes of the array giving it **$O(n^2)$** complexity"
   ]
  },
  {
   "cell_type": "code",
   "execution_count": 185,
   "metadata": {},
   "outputs": [
    {
     "name": "stdout",
     "output_type": "stream",
     "text": [
      "[1, 2, 3, 4, 5, 6, 10, 12]\n"
     ]
    }
   ],
   "source": [
    "def insertion_sort(arr):\n",
    "    n = len(arr)\n",
    "    for i in (range(1, n)):\n",
    "        key = arr[i]\n",
    "        j = i-1\n",
    "        while j >=0 and arr[j] > key:\n",
    "            arr[j+1] = arr[j]\n",
    "            j -= 1\n",
    "        arr[j+1] = key\n",
    "    return arr\n",
    "\n",
    "print(insertion_sort([4, 3, 2, 10, 12, 1, 5, 6]))"
   ]
  },
  {
   "cell_type": "markdown",
   "metadata": {},
   "source": [
    "\n",
    "Quadratic time is not desirable for large arrays and we would ideally want to have an algorithm which have complexity $O(n)$.\n",
    "\n",
    "With this goal in mind, let us see what merge sort does and then later derive it's time complexity.\n",
    "\n",
    "The following picture shows how merge sort works\n",
    "\n",
    "<img src=\"images/2_mergesort.png\">\n",
    "\n",
    "\n",
    "Following three operations is what we have in Merge Sort\n",
    "\n",
    "- Split the input array in two, this is usually done by finding the middle index of the input array\n",
    "- Recursively call sort on these two splits, this operation should return us two sorted arrays\n",
    "- Merge the two sorted arrays in one array which would be sorted.\n",
    "\n",
    "In the following code snippet we will implement merge sort. To keep the code simple and readable, we will not be making it efficient in terms of space. That is, we can allocate the entire array upfront and have the subproblems update a part of this preinitialized array."
   ]
  },
  {
   "cell_type": "code",
   "execution_count": 181,
   "metadata": {},
   "outputs": [
    {
     "name": "stdout",
     "output_type": "stream",
     "text": [
      "arr  [4, 3, 2, 10, 12, 1, 5, 6, 24, 33, 23, 54, 12, 6]\n",
      "arr  [4, 3, 2, 10, 12, 1, 5]\n",
      "arr  [4, 3, 2]\n",
      "arr  [4]\n",
      "left_tree  [4]\n",
      "arr  [3, 2]\n",
      "arr  [3]\n",
      "left_tree  [3]\n",
      "arr  [2]\n",
      "right_tree  [2]\n",
      "2. sorted_arr  [2, None]\n",
      "4. sorted_arr  [2, 3]\n",
      "right_tree  [2, 3]\n",
      "2. sorted_arr  [2, None, None]\n",
      "2. sorted_arr  [2, 3, None]\n",
      "4. sorted_arr  [2, 3, 4]\n",
      "left_tree  [2, 3, 4]\n",
      "arr  [10, 12, 1, 5]\n",
      "arr  [10, 12]\n",
      "arr  [10]\n",
      "left_tree  [10]\n",
      "arr  [12]\n",
      "right_tree  [12]\n",
      "1. sorted_arr  [10, None]\n",
      "3. sorted_arr  [10, 12]\n",
      "left_tree  [10, 12]\n",
      "arr  [1, 5]\n",
      "arr  [1]\n",
      "left_tree  [1]\n",
      "arr  [5]\n",
      "right_tree  [5]\n",
      "1. sorted_arr  [1, None]\n",
      "3. sorted_arr  [1, 5]\n",
      "right_tree  [1, 5]\n",
      "2. sorted_arr  [1, None, None, None]\n",
      "2. sorted_arr  [1, 5, None, None]\n",
      "4. sorted_arr  [1, 5, 10, None]\n",
      "4. sorted_arr  [1, 5, 10, 12]\n",
      "right_tree  [1, 5, 10, 12]\n",
      "2. sorted_arr  [1, None, None, None, None, None, None]\n",
      "1. sorted_arr  [1, 2, None, None, None, None, None]\n",
      "1. sorted_arr  [1, 2, 3, None, None, None, None]\n",
      "1. sorted_arr  [1, 2, 3, 4, None, None, None]\n",
      "3. sorted_arr  [1, 2, 3, 4, 5, None, None]\n",
      "3. sorted_arr  [1, 2, 3, 4, 5, 10, None]\n",
      "3. sorted_arr  [1, 2, 3, 4, 5, 10, 12]\n",
      "left_tree  [1, 2, 3, 4, 5, 10, 12]\n",
      "arr  [6, 24, 33, 23, 54, 12, 6]\n",
      "arr  [6, 24, 33]\n",
      "arr  [6]\n",
      "left_tree  [6]\n",
      "arr  [24, 33]\n",
      "arr  [24]\n",
      "left_tree  [24]\n",
      "arr  [33]\n",
      "right_tree  [33]\n",
      "1. sorted_arr  [24, None]\n",
      "3. sorted_arr  [24, 33]\n",
      "right_tree  [24, 33]\n",
      "1. sorted_arr  [6, None, None]\n",
      "3. sorted_arr  [6, 24, None]\n",
      "3. sorted_arr  [6, 24, 33]\n",
      "left_tree  [6, 24, 33]\n",
      "arr  [23, 54, 12, 6]\n",
      "arr  [23, 54]\n",
      "arr  [23]\n",
      "left_tree  [23]\n",
      "arr  [54]\n",
      "right_tree  [54]\n",
      "1. sorted_arr  [23, None]\n",
      "3. sorted_arr  [23, 54]\n",
      "left_tree  [23, 54]\n",
      "arr  [12, 6]\n",
      "arr  [12]\n",
      "left_tree  [12]\n",
      "arr  [6]\n",
      "right_tree  [6]\n",
      "2. sorted_arr  [6, None]\n",
      "4. sorted_arr  [6, 12]\n",
      "right_tree  [6, 12]\n",
      "2. sorted_arr  [6, None, None, None]\n",
      "2. sorted_arr  [6, 12, None, None]\n",
      "4. sorted_arr  [6, 12, 23, None]\n",
      "4. sorted_arr  [6, 12, 23, 54]\n",
      "right_tree  [6, 12, 23, 54]\n",
      "1. sorted_arr  [6, None, None, None, None, None, None]\n",
      "2. sorted_arr  [6, 6, None, None, None, None, None]\n",
      "2. sorted_arr  [6, 6, 12, None, None, None, None]\n",
      "2. sorted_arr  [6, 6, 12, 23, None, None, None]\n",
      "1. sorted_arr  [6, 6, 12, 23, 24, None, None]\n",
      "1. sorted_arr  [6, 6, 12, 23, 24, 33, None]\n",
      "3. sorted_arr  [6, 6, 12, 23, 24, 33, 54]\n",
      "right_tree  [6, 6, 12, 23, 24, 33, 54]\n",
      "1. sorted_arr  [1, None, None, None, None, None, None, None, None, None, None, None, None, None]\n",
      "1. sorted_arr  [1, 2, None, None, None, None, None, None, None, None, None, None, None, None]\n",
      "1. sorted_arr  [1, 2, 3, None, None, None, None, None, None, None, None, None, None, None]\n",
      "1. sorted_arr  [1, 2, 3, 4, None, None, None, None, None, None, None, None, None, None]\n",
      "1. sorted_arr  [1, 2, 3, 4, 5, None, None, None, None, None, None, None, None, None]\n",
      "2. sorted_arr  [1, 2, 3, 4, 5, 6, None, None, None, None, None, None, None, None]\n",
      "2. sorted_arr  [1, 2, 3, 4, 5, 6, 6, None, None, None, None, None, None, None]\n",
      "1. sorted_arr  [1, 2, 3, 4, 5, 6, 6, 10, None, None, None, None, None, None]\n",
      "1. sorted_arr  [1, 2, 3, 4, 5, 6, 6, 10, 12, None, None, None, None, None]\n",
      "3. sorted_arr  [1, 2, 3, 4, 5, 6, 6, 10, 12, 12, None, None, None, None]\n",
      "3. sorted_arr  [1, 2, 3, 4, 5, 6, 6, 10, 12, 12, 23, None, None, None]\n",
      "3. sorted_arr  [1, 2, 3, 4, 5, 6, 6, 10, 12, 12, 23, 24, None, None]\n",
      "3. sorted_arr  [1, 2, 3, 4, 5, 6, 6, 10, 12, 12, 23, 24, 33, None]\n",
      "3. sorted_arr  [1, 2, 3, 4, 5, 6, 6, 10, 12, 12, 23, 24, 33, 54]\n",
      "[1, 2, 3, 4, 5, 6, 6, 10, 12, 12, 23, 24, 33, 54]\n"
     ]
    }
   ],
   "source": [
    "def merge_sort(arr):\n",
    "    n = len(arr)\n",
    "    print(\"arr  {}\".format(arr))\n",
    "    if n == 1:\n",
    "        return arr\n",
    "\n",
    "    if n >= 1:\n",
    "        left_tree = merge_sort(arr[ : n/2])   \n",
    "        print(\"left_tree  {}\".format(left_tree))\n",
    "        right_tree = merge_sort(arr[n/2 : ])\n",
    "        print(\"right_tree  {}\".format(right_tree))\n",
    "        sorted_arr = [None] * n\n",
    "        i = 0\n",
    "        j = 0\n",
    "        for k in range(n):\n",
    "            if(i < len(left_tree) and j < len(right_tree)):\n",
    "                if left_tree[i] <= right_tree[j]:\n",
    "                    sorted_arr[k] = left_tree[i]\n",
    "                    print(\"1. sorted_arr  {}\".format(sorted_arr))\n",
    "                    i+=1 \n",
    "                elif left_tree[i] > right_tree[j]:\n",
    "                    sorted_arr[k] = right_tree[j]\n",
    "                    print(\"2. sorted_arr  {}\".format(sorted_arr))\n",
    "                    j+=1 \n",
    "                \n",
    "            elif i >= len(left_tree) and j < len(right_tree):\n",
    "                sorted_arr[k] = right_tree[j]\n",
    "                print(\"3. sorted_arr  {}\".format(sorted_arr))\n",
    "                j += 1\n",
    "            elif j >= len(right_tree) and i < len(left_tree):\n",
    "                sorted_arr[k] = left_tree[i]\n",
    "                print(\"4. sorted_arr  {}\".format(sorted_arr))\n",
    "                i += 1\n",
    "\n",
    "    return  sorted_arr   \n",
    "    \n",
    "\n",
    "#print(merge_sort([4, 3, 2]))    \n",
    "print(merge_sort([4, 3, 2, 10, 12, 1, 5, 6, 24, 33, 23,54, 12, 6 ]))"
   ]
  },
  {
   "cell_type": "code",
   "execution_count": 184,
   "metadata": {},
   "outputs": [
    {
     "name": "stdout",
     "output_type": "stream",
     "text": [
      "[1, 2, 3, 3, 4, 5, 6, 6, 10, 12, 12, 23, 24, 33, 54]\n"
     ]
    }
   ],
   "source": [
    "def merge_sort(arr):\n",
    "    # Merge sort arrays in quasilinear time or log-linear time\n",
    "    n = len(arr)\n",
    "    if n == 1:\n",
    "        return arr\n",
    "\n",
    "    if n >= 1:\n",
    "        left_tree = merge_sort(arr[ : n/2])   \n",
    "        right_tree = merge_sort(arr[n/2 : ])\n",
    "        # Merges the two sorted arrays into one sorted array in linear time\n",
    "        sorted_arr = [None] * n\n",
    "        i = 0\n",
    "        j = 0\n",
    "        for k in range(n):\n",
    "            if(i < len(left_tree) and j < len(right_tree)):\n",
    "                if left_tree[i] <= right_tree[j]:\n",
    "                    sorted_arr[k] = left_tree[i]\n",
    "                    i+=1 \n",
    "                elif left_tree[i] > right_tree[j]:\n",
    "                    sorted_arr[k] = right_tree[j]\n",
    "                    j+=1 \n",
    "                \n",
    "            elif i >= len(left_tree):\n",
    "                sorted_arr[k] = right_tree[j]\n",
    "                j += 1\n",
    "            elif j >= len(right_tree):\n",
    "                sorted_arr[k] = left_tree[i]\n",
    "                i += 1\n",
    "\n",
    "    return  sorted_arr   \n",
    "    \n",
    "\n",
    "#print(merge_sort([4, 3, 2]))    \n",
    "print(merge_sort([4, 3, 2, 10, 12, 1, 5, 6, 24, 33, 23,54, 12, 6,3 ]))"
   ]
  },
  {
   "cell_type": "markdown",
   "metadata": {},
   "source": [
    "Again, as mentioned previously the above implementation is not efficient in terms of space as each recursive call generates a new list which is then discarted. Nevertheless it is succinct and is a good translation of the pseudocode to a working code.\n",
    "\n",
    "We are more interested in the running time complexity of the Merge sort which we will analyze now. Following is the psuedo code for the merge operation we implemented above\n",
    "\n",
    "<img src=\"images/3_mergesortalgo.png\">\n",
    "\n",
    "We see there are 2 operations for initilizing the variables i and j, and then the loop that runs n times. In the loop we peform the following\n",
    "\n",
    "- Comparison C[i] < D[j]\n",
    "- Assignment B[k] := C[i] or B[k] := D[j]\n",
    "- Increment of variable i or j\n",
    "- Increment of loop variable k\n",
    "\n",
    "This we have a total of $4n + 2$ operations. We will make this a total of $6n$ since $6n > 4n + 2$\n",
    "\n",
    "The number $6n$ is just an estimate and doesn't really consider a programming language's implementation. For example, the Python implementation of merge we have is strkingly similar to the the merge pseudo code and also implements some edge cases when all elements of one of the array are copied over. For the sake of analysis $6n$ is a reasonable estimate.\n",
    "\n",
    "We thus have the following Lemma\n",
    "\n",
    "For a input array of size $n$, merge function will merge them in one sorted list in no more than $6n$ operations\n",
    "\n",
    "Now that we have an upper bound on the running time of Merge, let us see how many operations are required for entire merge sort call.\n",
    "\n",
    "Following is the theorem we are looking to prove\n",
    "\n",
    "Merge sort algoritm runs in at most $6nlog_2{x} + 6n$ operations for an input of size n\n",
    "\n",
    "Following plots a linear and a log function for comparison (we imagine how huge the gains are by reducing the complexity from polynomial to logarithmic).\n",
    "\n"
   ]
  },
  {
   "cell_type": "code",
   "execution_count": 200,
   "metadata": {},
   "outputs": [
    {
     "data": {
      "image/png": "[encoded data removed]",
      "text/plain": [
       "<matplotlib.figure.Figure at 0x106ac69d0>"
      ]
     },
     "metadata": {},
     "output_type": "display_data"
    }
   ],
   "source": [
    "%matplotlib inline\n",
    "import matplotlib.pyplot as plt\n",
    "import numpy as np\n",
    "x = np.array([x for x in range(1, 40)])\n",
    "logx = np.log2(x)\n",
    "plt.plot(x, x, label = 'f(n) = n')\n",
    "plt.plot(x, logx, label = 'f(n) = log n')\n",
    "plt.legend()\n",
    "plt.show()"
   ]
  },
  {
   "cell_type": "code",
   "execution_count": 201,
   "metadata": {},
   "outputs": [
    {
     "data": {
      "image/png": "[encoded data removed]",
      "text/plain": [
       "<matplotlib.figure.Figure at 0x106b12a90>"
      ]
     },
     "metadata": {},
     "output_type": "display_data"
    }
   ],
   "source": [
    "x = np.array([x for x in range(1, 10000)])\n",
    "logx = np.log2(x)\n",
    "plt.plot(x, x, label = 'f(n) = n')\n",
    "plt.plot(x, logx, label = 'f(n) = log n')\n",
    "plt.legend()\n",
    "plt.show()"
   ]
  },
  {
   "cell_type": "markdown",
   "metadata": {},
   "source": [
    "We will prove the claim of the above theorem that merge sort runs in  $6nlog_2n + 6n$ time\n",
    "\n",
    "Given an input of size n, we split it in two portions and call them the left and the right portion of the input array. We recursively do the same till we reach the leaves where we have 1 element each and no further splitting of the input can be done. With this splitting we end up getting $log_2n$ levels of the tree.\n",
    "At each level we double the number of subproblems we have on the previous level. At root level we have 1 problem, at level 1 we have 2 problems, at level 2 we have 4 subproblems and so on. Generalizing this we see that at level j we have $2^n$ subproblems.\n",
    "Similarly at each level, we split the input in two parts and call the the sort function recursively on these two halfs. For example, suppose at level 0(root) we have 8 inputs values. Then at level 1 we have all inputs presented with an input of size 4, at level 2 each subproblem is presented with an input of size 2 and finally at level 3 each subproblem is presented with an input of size 1. Thus generalizing this, we see that at each level the size of the input presented to a subproblem at level j is $n / 2^j$\n",
    "We have seen earlier that for an input of size l, the work done by l is no more than than $6l$. Thus for an input of size $n/2^j$, the work done in merging it is $6n/2^j$.\n",
    "\n",
    "If we simply focus on a level j of this recursive call tree (ignoring the recursive calls at level j). Then the total work done at level j is\n",
    "\n",
    "#number of subproblems at level j $\\times$ work done on input to level j subproblem which is\n",
    "\n",
    "$2^n \\times 6n/2^n = 6n$\n",
    "\n",
    "This shows that irrespective of the level, the work done at level n is $6n$. This is due to the fact that the number of subproblems grow at the same rate at which the input to these sub problems shrink cancelling out each other.\n",
    "\n",
    "For an input of size n we have $log_2n + 1$ levels. Thus the total work done by the merge sort to sort an input of size n is $6n \\times (log_2n + 1) = 6nlog_2n + 6n$ proving our claim in the theorem.\n",
    "\n",
    "***\n",
    "\n",
    "### Guiding principles in the analysis of the algorithms\n",
    "#### Principle #1, Worst-Case Analysis\n",
    "For the above problem of merge sort, the worst case time complexity is $6nlog_2n + 6n$. Which essentially says that no matter what, for any possible input (in the domain of the valid acceptable inputs by the function), the complexity stated is what we can expect. Other approaches like average-case analysis assumes some most common inputs from the distribution of the possible inputs we expect to see and then give a complexity. Some other approach would be to benchmark the running time of the algorithm on a dataset which is the representative of the real world problems. In case of average-case analysis and running time analysis, we require domain knowledge where as in case of worst case we don't make any assumptions on the possible inputs.\n",
    "\n",
    "#### Principle #2, Big-Picture Analysis\n",
    "We will be ignoring the constants and the lower order terms of the number of operations taken to execute the algorithm for an input of size n. There are few reasons for that\n",
    "\n",
    "It makes it easier for mathematical analysis\n",
    "Constants heavily depend on the environment. For example, the complexity of 6n for the merge operation seems reasonable in Pusedo code, but not really convincing when we look at the Python implementation of merge\n",
    "We lose little predictive power. The constants and lower order complexity might be necessary for problems where its absolutely necessary for perform the analysis of the performance to the very fine details of the code, but for the big picture it is not necessary.\n",
    "\n",
    "#### Principle #3, Asymptotic Analysis\n",
    "This principle focuses on the growth rate of the algorithm with increase in size of the input. For example, the complexity of merge sort is $6nlog_2n + 6n$ and suppose another sorting algorithm has a complexity of $n^2 / 2$, the algorithm with quadaratic complexity will be faster than merge sort for smaller inputs. However when we analyse the complexity, it will be be large inputs as that is where the performance of the algorithms count. For an input of size 1000 or so, any sorting algorithm will give results quickly on modern computers. Following plot shows is the comparison of the above mentioned equations."
   ]
  },
  {
   "cell_type": "code",
   "execution_count": 220,
   "metadata": {},
   "outputs": [
    {
     "data": {
      "image/png": "[encoded data removed]",
      "text/plain": [
       "<matplotlib.figure.Figure at 0x106d3a710>"
      ]
     },
     "metadata": {},
     "output_type": "display_data"
    }
   ],
   "source": [
    "#Comparing Merg Sort and Insertion Sort running times\n",
    "x = np.array([x for x in range(1, 1500)])\n",
    "mruningtime = 6 * x * np.log2(x) + 6 * x\n",
    "iruningtime = 0.5 * x**2\n",
    "\n",
    "plt.subplot(121)\n",
    "plt.plot(x[1:150], mruningtime[1:150],  label = 'f(n)=6nlog n + 6n')\n",
    "plt.plot(x[1:150], iruningtime[1:150], label = 'f(n)=n*n/2')\n",
    "plt.title('For small values of n', size=8)\n",
    "plt.legend()\n",
    "\n",
    "plt.subplot(122) \n",
    "plt.plot(x, mruningtime,  label = 'f(n)=6nlog n + 6n')\n",
    "plt.plot(x, iruningtime, label = 'f(n)=n*n/2')\n",
    "plt.title('For large values of n', size=8)\n",
    "plt.legend()\n",
    "\n",
    "plt.suptitle('Comparing Merg Sort and Insertion Sort running times', size=16).set_position([.5, 1.05])\n",
    "plt.tight_layout()\n",
    "plt.show()"
   ]
  },
  {
   "cell_type": "markdown",
   "metadata": {},
   "source": [
    "### Test Your Understanding\n",
    "Following is correct to the best of my understanding to the problems and not necessarily correct.\n",
    "\n",
    "**Problem 1.1:** Suppose we run MergeSort on the following input, 5 3 8 9 1 7 0 2 6 4, after the two outermost recursive calls before the merge step, the two arrays glued together would be 1 3 5 8 9 0 2 4 6 7, thus the seventh element would be 2\n",
    "\n",
    "**Problem 1.2:** A Modification to merge sort for splitting the input in three (3 way merge sort) will give us the complexity $nlog_3n$ complexity of more generally $nlogn$ complexity. We saw the merge is independent of the level as long as the sub problems grows at the same rate as the input shrinks. The number of levels in case of 3 way merge sort is $log_3n + 1$ levels.\n",
    "\n",
    "**Problem 1.3:** We have k arrays of size n. Lets say k is 4, then for the first call of merge we have merge calls on array of size n, on second call we have array of size 2n and n and on third and final call we have array of size 3n and n. The complexity is $n + 2n + 3n =n(1 + 2 + 3) = nk(k - 1) / 2 \\approx nk^2$\n",
    "\n",
    "**Problem 1.4:** The total input size we have is nk. Going by the proof of Merge sort. If we split the arrays in 2 k/2 arrays of size n and recursively call merge on two sub groups, the effort to merge these segments of size n at each level is nk. We have a total of $\\approx log_2k$ levels thus the complexity is $nklog_2k$\n",
    "\n",
    "**Problem 1.5:** Find $2^{nd}$ largest element with no more than $n + log_2n - 2$ comparisons. See the code below for an implementation.\n",
    "\n",
    "**Problem 1.6:** Already implemented in the notebook earlier."
   ]
  },
  {
   "cell_type": "code",
   "execution_count": null,
   "metadata": {},
   "outputs": [],
   "source": []
  }
 ],
 "metadata": {
  "kernelspec": {
   "display_name": "Python 2",
   "language": "python",
   "name": "python2"
  },
  "language_info": {
   "codemirror_mode": {
    "name": "ipython",
    "version": 2
   },
   "file_extension": ".py",
   "mimetype": "text/x-python",
   "name": "python",
   "nbconvert_exporter": "python",
   "pygments_lexer": "ipython2",
   "version": "2.7.14"
  }
 },
 "nbformat": 4,
 "nbformat_minor": 2
}
