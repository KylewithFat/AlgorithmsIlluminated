{
 "cells": [
  {
   "cell_type": "markdown",
   "metadata": {},
   "source": [
    "# I. Introduction\n",
    "We will start by looking at the Integer Multiplication problem.\n",
    "\n",
    "To multiply two numbers we need to have the following primitive operations\n",
    "\n",
    "Add two single digit numbers\n",
    "Multiply two single-digit numbers\n",
    "Append of prepend a 0 to a number\n",
    "Following image shows how perform the following multiplication $5678 \\times 1234$\n",
    "\n",
    "<img src=\"images/1_multiply.png\">\n",
    "\n",
    "**What you probably realized back in third grade, is that this algorithm is what we would call correct. That is, no matter what integers x and y you start with If you carry out this procedure, this algorithm. And all of your intermediate computations are done properly. Then the algorithm will eventually terminate with the product, x times y, of the two input numbers. You're never going to get a wrong answer. **\n",
    "\n",
    "Let us now analyze the total number of operations for multiplying two n digit numbers\n",
    "\n",
    "A partial product involves multiplying 1 digit of an n digit number with another n digit. Each multiplication involves atmost $2n$ operations where we have n multiplications for an n digit number and then an addition if a carry is generated from the previous multiplication operation. Essentially we have $n \\times 2n$ operations giving is $2n^2$ multiply operations for multiplying two n digit numbers.\n",
    "\n",
    "We still are left with adding up these partial products. We have n rows of these partial sums and each of these n rows can have a carry giving us a maximum of 2n operations per row and thus adding up all partial sums gives is $n \\times 2n = 2n^2$ operations\n",
    "\n",
    "Thus the conventional multiplication takes $2n^2 + 2n^2 = 4n^2$ operations. Or, more generally the number of operations for performing multiplication of two n digit numbers is $Cn^ 2$ operations. **Thus the work in the Grade-School Multiplication Algorithm increases quadratically with the number of digits in the the number.** For example, if you double the size of the input, if you double the number of digits in each of the two integers that you're given. Then the number of operations you will have to perform using this algorithm has to go up by a factor of four. Similarly, if you quadruple the input length, the number of operations going, is going to go up by a factor of 16, and so on.\n",
    "\n",
    "\n",
    "***\n",
    "\n",
    " **Can we do better than $n^2$ complexity?**\n",
    "\n",
    "Let us look at an alternate way to multiply two numbers known as *Karatsuba Multiplication*. We will us ethe same two numbers 5678 and 1234 and see Karatsuba Multiplication in action.\n",
    "\n",
    "Break up these two 4 digit numbers into halfs, thus we get 4 smaller numbers of 2 digits each. We call them a, b, c and d. Thus for the above example, 5678 will be split in two numbers 56 and 78 and we call them a and b respectively. Similarly, 1234 will be split into c and d with values 12 and 34 respectively.\n",
    "Compute $a \\times c$ which is $56 \\times 12 = 672$\n",
    "Compute $b \\times d$ which is $78 \\times 34 = 2652$\n",
    "Compute $(a + b) \\times (c + d)$ which is $(56 + 78) \\times (12 + 34) = 6164$\n",
    "Subtract the first two results from the third, thus we get $6164 - 672 - 2652 = 2840$\n",
    "Compute $10^4 \\times 672 + 10^2 \\times  2840 + 2652 = 7006652$\n",
    "\n",
    "The above result is exactly same as the one we got using the conventional method.\n",
    "\n",
    "***\n",
    "\n",
    "Before we implement the Karatsuba multiplication, let us implement a **recursive approach to multiply two numbers**. Let the two number be n digit numbers x and y, to keep the initial implementation simple, we assume both the numbers are n digits but can easily be extended to two numbers of different number of digits.\n",
    "\n",
    "Let x and y be split into two $n$ digit numbers a, b and c,d respectively.\n",
    "\n",
    "Thus  $x = 10^{n/2}.a + b$ and $y = 10^ {n/2}.c + d$\n",
    "\n",
    "$x.y   =   (10^ {n/2}.a + b) \\times (10^ {n/2}.c + d)$<br>\n",
    "&nbsp;&nbsp;&nbsp;&nbsp;&nbsp;&nbsp;  $ =   10^n.ab + 10^{n/2}.(a.d + b.c) + b.d $\n",
    "\n",
    "\n",
    "Let us call the following expression on RHS as Star (*) expression : <br>\n",
    " $x.y = 10^n.ab + 10^{n/2}.(a.d + b.c) + b.d $ \n",
    "\n",
    "\n",
    "Following code snippet rec_int_mult implements this recursive multiplication of two numbers. But first we will be defining a simple function which will take a number and pad it with leading 0 so that the length of the number if a power of 2 for simplicity in recursion"
   ]
  },
  {
   "cell_type": "code",
   "execution_count": 72,
   "metadata": {},
   "outputs": [
    {
     "name": "stdout",
     "output_type": "stream",
     "text": [
      "6164\n"
     ]
    }
   ],
   "source": [
    "def recursive_integer_multiplication(x, y):\n",
    "    #print(\"x: {} , y: {}\".format(x,y))\n",
    "    if len(x) == 1 and len(y) == 1:\n",
    "        return int(x) * int(y)\n",
    "    if len(x) < len(y):\n",
    "        x = '0'*(len(y) - len(x))  + x  \n",
    "    elif len(x) > len(y):\n",
    "        y = '0'*(len(x) - len(y))  + y  \n",
    "    \n",
    "    split = len(x) // 2\n",
    "    if len(x) % 2 != 0:\n",
    "        split += 1\n",
    "    \n",
    "    a , b =  x[:split], x[split:]\n",
    "    c , d =  y[:split], y[split:]\n",
    "        \n",
    "    # We cheat a bit here by multiplying by powers of 10 which can be implemented purely as addition\n",
    "    return (10**(len(x) if len(x) % 2 == 0 else (len(x)-1)) * recursive_integer_multiplication(a, c))  \\\n",
    "            + 10**(split if len(x) % 2 == 0 else (split-1)) \\\n",
    "                    * (recursive_integer_multiplication(a, d) + recursive_integer_multiplication(b, c)) \\\n",
    "            + recursive_integer_multiplication(b, d)\n",
    "\n",
    "#print(recursive_integer_multiplication('1234','5678'))\n",
    "print(recursive_integer_multiplication('46','134'))\n",
    "#print(recursive_integer_multiplication('6','4'))"
   ]
  },
  {
   "cell_type": "code",
   "execution_count": 111,
   "metadata": {},
   "outputs": [
    {
     "name": "stdout",
     "output_type": "stream",
     "text": [
      " x * y  =  RecursiveMul  vs  x*y \n",
      "\n",
      "1234 * 5678 = 7006652   vs 7006652  \n",
      "46 * 134 = 6164   vs 6164  \n",
      "6 * 4 = 24   vs 24  \n",
      "10000 * 67568 = 675680000   vs 675680000  \n",
      "78229 * 192 = 15019968   vs 15019968  \n",
      "29219 * 4 = 116876   vs 116876  \n",
      "9299299200010293988475756643209128374645637282901001929837376447388292902038 * 01092983837476464545367388829292920202002020200202093983746464553552 = 10163983725469067928590493644244661053399214734991984685649826345477632767222851187708654237342103435977895678489334865506150114865206140938976   vs 10163983725469067928590493644244661053399214734991984685649826345477632767222851187708654237342103435977895678489334865506150114865206140938976  \n",
      "4321 * 81882929828818 = 353816139790322578   vs 353816139790322578  \n",
      "1111 * 222 = 246642   vs 246642  \n"
     ]
    }
   ],
   "source": [
    "def print_rec_int_mul(x, y):\n",
    "    r = recursive_integer_multiplication(x, y)\n",
    "    print(\"{} * {} = {}   vs {}  \".format(x, y, r, int(x)*int(y)))\n",
    "    assert (r == int(x)*int(y)),\"Not matched multiplication\"\n",
    "\n",
    "    \n",
    "print(\" x * y  =  RecursiveMul  vs  x*y \\n\")\n",
    "print_rec_int_mul('1234','5678')   \n",
    "print_rec_int_mul('46','134')   \n",
    "print_rec_int_mul('6','4')   \n",
    "print_rec_int_mul('10000','67568')\n",
    "print_rec_int_mul('78229','192') \n",
    "print_rec_int_mul('29219','4') \n",
    "print_rec_int_mul('9299299200010293988475756643209128374645637282901001929837376447388292902038','01092983837476464545367388829292920202002020200202093983746464553552') \n",
    "print_rec_int_mul('4321','81882929828818') \n",
    "print_rec_int_mul('1111','222') "
   ]
  },
  {
   "cell_type": "markdown",
   "metadata": {},
   "source": [
    "# **Karatsuba multiplication**\n",
    "\n",
    "The above code snippet involves performing 4 multiplications of smaller digit numbers. \n",
    "\n",
    "Gauss instead worked out a way to replace these 4 multiplications with 3 multiplications and some additions.\n",
    "\n",
    "**Gauss's trick** : Essentially $(a.d + b.c)$ be replaced with $(a + b).(c + d) - a.c - b.d$ thus reducing the multiplications to the following three multiplications\n",
    "\n",
    "- $a.c$\n",
    "- $b.d$\n",
    "- $(a + b).(c + d)$\n",
    "\n",
    "Essentially we reduce 4 recursive calls with 3 as seen in the following code snippet which is generic enough to accept numbers with not necessarily same number of digits"
   ]
  },
  {
   "cell_type": "code",
   "execution_count": 125,
   "metadata": {},
   "outputs": [],
   "source": [
    "def Karatsuba_Multiplication(x, y):\n",
    "    #print(\"x: {} , y: {}\".format(x,y))\n",
    "    if len(x) == 1 and len(y) == 1:\n",
    "        return int(x) * int(y)\n",
    "    if len(x) < len(y):\n",
    "        x = '0'*(len(y) - len(x))  + x  \n",
    "    elif len(x) > len(y):\n",
    "        y = '0'*(len(x) - len(y))  + y  \n",
    "    \n",
    "    split = len(x) // 2\n",
    "    if len(x) % 2 != 0:\n",
    "        split += 1\n",
    "    \n",
    "    a , b =  x[:split], x[split:]\n",
    "    c , d =  y[:split], y[split:]\n",
    "    \n",
    "    # 3 multiplications instead of 4\n",
    "    ac = Karatsuba_Multiplication(a, c)\n",
    "    aplusb_times_cplusd =  Karatsuba_Multiplication(str(int(a)+int(b)), str(int(c)+int(d))) #Gauss's Trick : (a+b).(c+d) = (a+b).(c+d) − a.c − b.d\n",
    "    bd = Karatsuba_Multiplication(b, d)\n",
    "        \n",
    "    return (10**(len(x) if len(x) % 2 == 0 else (len(x)-1)) * ac)  \\\n",
    "            + 10**(split if len(x) % 2 == 0 else (split-1)) * (aplusb_times_cplusd - ac - bd) \\\n",
    "            + bd "
   ]
  },
  {
   "cell_type": "code",
   "execution_count": 126,
   "metadata": {},
   "outputs": [
    {
     "name": "stdout",
     "output_type": "stream",
     "text": [
      " x * y  =  Karatsuba_Multiplication  vs  x*y \n",
      "\n",
      "1234 * 5678 = 7006652   vs 7006652  \n",
      "46 * 134 = 6164   vs 6164  \n",
      "6 * 4 = 24   vs 24  \n",
      "10000 * 67568 = 675680000   vs 675680000  \n",
      "78229 * 192 = 15019968   vs 15019968  \n",
      "29219 * 4 = 116876   vs 116876  \n",
      "9299299200010293988475756643209128374645637282901001929837376447388292902038 * 01092983837476464545367388829292920202002020200202093983746464553552 = 10163983725469067928590493644244661053399214734991984685649826345477632767222851187708654237342103435977895678489334865506150114865206140938976   vs 10163983725469067928590493644244661053399214734991984685649826345477632767222851187708654237342103435977895678489334865506150114865206140938976  \n",
      "4321 * 81882929828818 = 353816139790322578   vs 353816139790322578  \n",
      "1111 * 222 = 246642   vs 246642  \n"
     ]
    }
   ],
   "source": [
    "def print_Karatsuba_Multiplication(x, y):\n",
    "    r = Karatsuba_Multiplication(x, y)\n",
    "    print(\"{} * {} = {}   vs {}  \".format(x, y, r, int(x)*int(y)))\n",
    "    assert (r == int(x)*int(y)),\"Not matched multiplication\"\n",
    "\n",
    "    \n",
    "print(\" x * y  =  Karatsuba_Multiplication  vs  x*y \\n\")\n",
    "print_Karatsuba_Multiplication('1234','5678')   \n",
    "print_Karatsuba_Multiplication('46','134')   \n",
    "print_Karatsuba_Multiplication('6','4')   \n",
    "print_Karatsuba_Multiplication('10000','67568')\n",
    "print_Karatsuba_Multiplication('78229','192') \n",
    "print_Karatsuba_Multiplication('29219','4') \n",
    "print_Karatsuba_Multiplication('9299299200010293988475756643209128374645637282901001929837376447388292902038','01092983837476464545367388829292920202002020200202093983746464553552') \n",
    "print_Karatsuba_Multiplication('4321','81882929828818') \n",
    "print_Karatsuba_Multiplication('1111','222') "
   ]
  },
  {
   "cell_type": "markdown",
   "metadata": {},
   "source": [
    "Following two cells demonstrate execute the test case and the challenge problem given at [this URL](http://algorithmsilluminated.org/)."
   ]
  },
  {
   "cell_type": "code",
   "execution_count": 127,
   "metadata": {},
   "outputs": [
    {
     "name": "stdout",
     "output_type": "stream",
     "text": [
      "99999 * 9999 = 999890001   vs 999890001  \n",
      "3141592653589793238462643383279502884197169399375105820974944592 * 2718281828459045235360287471352662497757247093699959574966967627 = 8539734222673567065463550869546574495034888535765114961879601127067743044893204848617875072216249073013374895871952806582723184   vs 8539734222673567065463550869546574495034888535765114961879601127067743044893204848617875072216249073013374895871952806582723184  \n"
     ]
    }
   ],
   "source": [
    "print_Karatsuba_Multiplication('99999','9999') \n",
    "print_Karatsuba_Multiplication('3141592653589793238462643383279502884197169399375105820974944592','2718281828459045235360287471352662497757247093699959574966967627') "
   ]
  },
  {
   "cell_type": "markdown",
   "metadata": {},
   "source": [
    "By exactly how much Karatsuba_Multiplication is better than the Grade-School Multiplication Algorithm approach and is the divide and conquer approach in recursive_integer_multiplication any better than the Grade-School Multiplication Algorithm approach? We will look at answering this later after we finish the IV Chapter where we explore the Master Method."
   ]
  },
  {
   "cell_type": "code",
   "execution_count": null,
   "metadata": {},
   "outputs": [],
   "source": []
  }
 ],
 "metadata": {
  "kernelspec": {
   "display_name": "Python 2",
   "language": "python",
   "name": "python2"
  },
  "language_info": {
   "codemirror_mode": {
    "name": "ipython",
    "version": 2
   },
   "file_extension": ".py",
   "mimetype": "text/x-python",
   "name": "python",
   "nbconvert_exporter": "python",
   "pygments_lexer": "ipython2",
   "version": "2.7.14"
  }
 },
 "nbformat": 4,
 "nbformat_minor": 2
}
