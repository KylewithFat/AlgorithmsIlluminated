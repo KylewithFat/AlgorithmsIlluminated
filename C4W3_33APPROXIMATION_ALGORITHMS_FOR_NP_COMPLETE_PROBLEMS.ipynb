{
 "cells": [
  {
   "cell_type": "markdown",
   "metadata": {},
   "source": [
    "# XXXIII. APPROXIMATION ALGORITHMS FOR NP-COMPLETE PROBLEMS \n",
    "\n",
    "### A Greedy Knapsack Heuristic\n",
    "\n",
    "So let's talk through a potentially greedy approach to the knapsack problem. Probably the first idea you'd have would be to consider the items in some order. And when you consider an item, you make an irrevocable decision at that point whether to include it in your solution or not.\n",
    "\n",
    "So the question that is, in what order should you look at the items? Well, what's our objective? Our objective is to maximize the value of our set. So obviously, high value items are important. So maybe the first idea would be to sort the items from highest value to lowest value.\n",
    "\n",
    "But if you think about that proposal for some time, you quickly realize that this is a little naive. This is not the whole story. If you have a high value item that fills up the whole knapsack, it seems like that's not quite as useful if you had an almost as high value item that basically had size close to zero but didn't use up any of the knapsack at all.\n",
    "\n",
    "Remember that each item has two properties, not just its value but also its size, and both of these are important. We want to prefer items that have a lot of value, but we also want to prefer items that are small.\n",
    "\n",
    "So, if you want to take the two parameters of each item, form a single parameter by which we can then sort the jobs, a natural first cut to look at is a ratio.\n",
    "\n",
    "Since we prefer high values, and we prefer low weights, the sensible thing to look at is the ratio of the value of an item divided by its size. And we'll then going to consider items from the highest values of these ratios to the lowest values of these ratios.\n",
    "\n",
    "So now that we have our greedy ordering, we just proceed to the items one at a time, and we pack the items into the knapsack in this ordering. Now, what happens here, and didn't actually trouble us in the scheduling problem, is at some point, we might no longer be able to pack items into the knapsack, the thing might get full. So once that happens, once we've reached an item which doesn't fit in the knapsack given the items that we've already packed into it, we just stop the greedy algorithm.\n",
    "\n",
    "![Greedy Knapsack Algorithm](images/18_greedy_Knapsack_Algorithm.png)\n",
    "\n",
    "\n",
    "eg.  Let's consider the following three item instance.<br>\n",
    "$v_1$ = 2, $w_1$ = 1<br>\n",
    "$v_2$ = 1000, $w_2$ = 1000<br>\n",
    "$W$ = 1000<br><br>\n",
    "\n",
    "Here the greedy solution is : 2<br>\n",
    "And optimal solution is : 1000\n",
    "\n",
    "Since the knapsack capacity is 1000, and the sum of the sizes of the job is 1001, there is no room for both of them. The greedy algorithm, unfortunately, because the first tiny item has a smaller ratio, will pack in item number one. And that leaves no room for item number two, so the value of the greedy algorithm solution is just two, whereas the optimal solution is of course to just take the second item. Yeah it's ratio is worse, but on the other hand, it fills up the whole knapsack. And so overall, your value is 1000, which obviously blows away the greedy solution.\n",
    "\n",
    "There is, however, a simple fix to address this issue. We're going to add a very simple Step 3 to our greedy heuristic. So the new Step 3 is just going to compare two different candidate solutions and return whichever one is better, which everyone has a bigger total value. The first candidate is just what we were doing before, it's just the output of Step 2 of the algorithm. The second candidate is whichever item by itself has the maximum value.\n",
    "\n",
    "In other words, this new greedy algorithm, it just runs the old one, but then it does a final sanity check. It looks at each item individually, and it says, well, if this item, just by itself, dominates the solution I've computed thus far, I return this single item by itself instead.\n",
    "\n",
    "![Greedy Knapsack Algorithm](images/19_greedy_Knapsack_Algorithm.png)\n",
    "\n",
    "\n"
   ]
  },
  {
   "cell_type": "code",
   "execution_count": null,
   "metadata": {},
   "outputs": [],
   "source": []
  },
  {
   "cell_type": "markdown",
   "metadata": {},
   "source": [
    "### A Dynamic Programming Heuristic for Knapsack\n",
    "\n",
    "![Dynamic Programming Heuristic Knapsack](images/20_DynamicProgrammingHeuristic_Knapsack.png)\n",
    "\n",
    "So here is the algorithm in full detail. It really only has two steps. Fist, we do the transformation. We round the item values to the small integers, then we invoke the second dynamic programming algorithm on the transformed instance. Precisely, here is how we round each item value $v_i$. To begin, we decrease $v_i$ to the nearest multiple of a parameter $m$.\n",
    "\n",
    "![Dynamic Programming Heuristic Knapsack](images/21_DynamicProgrammingHeuristic_Knapsack.png)\n",
    "\n",
    "Now, you realize that if you knew this information for every single target value x, and you do once you've filled in the entire table, that's sufficient to figure out the optimal solution, figure out the biggest value of a feasible solution. All you need to do is scan through this final batch of subproblems. You begin with the largest conceivable target value x, and then you get less and less ambitious as you keep finding infeasible solutions. So you scan from high target values to low target values and you're looking for the first that is the largest target value x, such that there exists a subset of items meeting that target value whose total size is at most your knapsack capacity. That is going to be the optimal solution, that first target value x, that can be physically met given your knapsack is at capacity. \n",
    "\n"
   ]
  },
  {
   "cell_type": "code",
   "execution_count": null,
   "metadata": {},
   "outputs": [],
   "source": []
  }
 ],
 "metadata": {
  "kernelspec": {
   "display_name": "Python 3",
   "language": "python",
   "name": "python3"
  },
  "language_info": {
   "codemirror_mode": {
    "name": "ipython",
    "version": 3
   },
   "file_extension": ".py",
   "mimetype": "text/x-python",
   "name": "python",
   "nbconvert_exporter": "python",
   "pygments_lexer": "ipython3",
   "version": "3.6.8"
  }
 },
 "nbformat": 4,
 "nbformat_minor": 2
}
