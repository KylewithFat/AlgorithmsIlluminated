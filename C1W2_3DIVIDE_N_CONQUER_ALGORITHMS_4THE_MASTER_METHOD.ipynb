{
 "cells": [
  {
   "cell_type": "markdown",
   "metadata": {},
   "source": [
    "# Divide and Conquer algorithms\n",
    "In this notebook we will code and analyse the following three divide and conquer algorithms.\n",
    "\n",
    "1. Counting the number of inversions\n",
    "2. Matrix multiplication using Strassen's algorithm\n",
    "3. Computing the closest points together.\n",
    "\n",
    "## Counting Inversions\n",
    "Counting the number of inversions is a measure of how similar (or not similar) are two arrays of numbers. This algorithm is used in recommender systems where the system recommends something (say a movie) to the consumer based on how similar their rating is to other people who rated similarly.\n",
    "\n",
    "Collaborative Filtering is a technique where we try to find similarities between likes of people. Suppose we want to find similarities of the movie rankings of two people, we will sort movies by ranking of one person's preference and then put ranks given by the second person for those movies.\n",
    "\n",
    "For example if your ranked 3 movies A, B and C as your favorite movies and your friend ranked their favorite movies as B A C then between you and the your friend the ranking list becomes 2 1 3 because A is your favorite movie but is second favorite for B. Similarly B is your second favorite movie but your friend's favorite. Both you and your friend's choice match for the third best movie.\n",
    "\n",
    "From the above example we see that if two people have similar tastes, both the arrays would be identical and there would be no inversions. Higher the number of inversions more are the differences in the preferences.\n",
    "\n",
    "We will use divide and conquer algorithm like Merge sort to find the number of inversions in an array. The number of inversions in an array A are the number of pairs of indices $(i, j)$ where $i < j$ and $A[i] < A[j]$\n",
    "\n",
    "An array that is sorted has no inversions, the converse is also true, that is, an array with no inversions is sorted and is not sorted if it has atleast one inversion.\n",
    "\n",
    "For example, consider the following array\n",
    "\n",
    "1 3 5 2 4 6\n",
    "\n",
    "The number of inversions in this array are the following pair of numbers (3, 2), (5, 2) and (5, 4)\n",
    "\n",
    "For an array of n numbers, we can have a maxumum of (n - 1) + (n - 2) + .. + 1 number of inversions = $n(n - 1) / 2$ number of inversions.\n",
    "\n",
    "Let us implement counting inversion in two different ways. First one is the Bruteforce approach and the second one is using divide and conquer approach that sorts the numbers using Merge Sort along with counting the number of inversions.\n",
    "\n"
   ]
  },
  {
   "cell_type": "markdown",
   "metadata": {},
   "source": [
    "### Brute force approach for Counting Inversions"
   ]
  },
  {
   "cell_type": "code",
   "execution_count": 19,
   "metadata": {},
   "outputs": [
    {
     "name": "stdout",
     "output_type": "stream",
     "text": [
      "0\n",
      "3\n",
      "15\n",
      "3\n",
      "28\n"
     ]
    }
   ],
   "source": [
    "def count_inversions_brute_force(arr):\n",
    "    count_inv = 0\n",
    "    for i in range(len(arr)-1):\n",
    "        for j in range(i+1, len(arr)):\n",
    "            if arr[i] > arr[j]:\n",
    "                count_inv +=1\n",
    "    print(count_inv)\n",
    "\n",
    "count_inversions_brute_force([1,2,3,4,5,6,7,8,9])\n",
    "count_inversions_brute_force([1,2,3,6,5,4,7,8,9])\n",
    "count_inversions_brute_force([6,5,4,3,2,1])\n",
    "count_inversions_brute_force([1, 3, 5, 2, 4, 6])\n",
    "count_inversions_brute_force([ 8, 7, 6, 5, 4, 3 ,2, 1 ])"
   ]
  },
  {
   "cell_type": "markdown",
   "metadata": {},
   "source": [
    "we will now load the two test case files provided <a href=http://algorithmsilluminated.org/ > here</a> and test our implementation."
   ]
  },
  {
   "cell_type": "code",
   "execution_count": 47,
   "metadata": {},
   "outputs": [
    {
     "name": "stdout",
     "output_type": "stream",
     "text": [
      "28\n"
     ]
    }
   ],
   "source": [
    "import urllib3\n",
    "http = urllib3.PoolManager()\n",
    "\n",
    "# Test case\n",
    "r1 = http.request('GET', \"http://algorithmsilluminated.org/datasets/problem3.5test.txt\")\n",
    "problem35teststr = r1.data.split('\\r\\n')\n",
    "del problem35teststr[-1]\n",
    "problem35test = [int(i) for i in problem35teststr]\n",
    "count_inversions_brute_force(problem35test)\n",
    "\n",
    "# Challenge data set\n",
    "###  Brute force approach not work  efficiently on larger problems for counting the inversions.\n",
    "#r2 = http.request('GET', \"http://algorithmsilluminated.org/datasets/problem3.5.txt\")\n",
    "#problem35str = r2.data.split('\\r\\n')\n",
    "#del problem35str[-1]\n",
    "#problem35 = [int(i) for i in problem35str]\n",
    "#count_inversions_brute_force(problem35)"
   ]
  },
  {
   "cell_type": "markdown",
   "metadata": {},
   "source": [
    "### Divide and Conquer approach for Counting Inversions"
   ]
  },
  {
   "cell_type": "markdown",
   "metadata": {},
   "source": [
    "The brute force approach seems to be working fine for small inputs, it will however not work for efficiently on the larger 100000 numbers for counting the inversions. We will now implement the inversion counting piggy backed on merge sort."
   ]
  },
  {
   "cell_type": "code",
   "execution_count": 73,
   "metadata": {},
   "outputs": [
    {
     "name": "stdout",
     "output_type": "stream",
     "text": [
      "3\n",
      "25\n",
      "0\n",
      "3\n",
      "15\n",
      "3\n",
      "28\n"
     ]
    }
   ],
   "source": [
    "def sort_and_count_inversions(arr, count_inversions):\n",
    "    n = len(arr)\n",
    "    if n == 1:\n",
    "        return arr, count_inversions\n",
    "\n",
    "    if n >= 1:\n",
    "        left_tree, count_inversions = sort_and_count_inversions(arr[ : n/2], count_inversions)   \n",
    "        right_tree, count_inversions = sort_and_count_inversions(arr[n/2 : ], count_inversions)\n",
    "        sorted_arr = [None] * n\n",
    "        i = 0\n",
    "        j = 0\n",
    "        for k in range(n):\n",
    "            if(i < len(left_tree) and j < len(right_tree)):\n",
    "                if left_tree[i] <= right_tree[j]:\n",
    "                    sorted_arr[k] = left_tree[i]\n",
    "                    i+=1 \n",
    "                elif left_tree[i] > right_tree[j]:\n",
    "                    sorted_arr[k] = right_tree[j]\n",
    "                    j+=1 \n",
    "                    count_inversions += len(left_tree) - i\n",
    "                \n",
    "            elif i >= len(left_tree) and j < len(right_tree):\n",
    "                sorted_arr[k] = right_tree[j]\n",
    "                j += 1\n",
    "            elif j >= len(right_tree) and i < len(left_tree):\n",
    "                sorted_arr[k] = left_tree[i]\n",
    "                i += 1\n",
    "    \n",
    "    return  sorted_arr, count_inversions\n",
    "    \n",
    "\n",
    "print(sort_and_count_inversions([4, 3, 2] , count_inversions = 0)[1])    \n",
    "print(sort_and_count_inversions([4, 3, 2, 10, 12, 1, 5, 6, 24, 33, 23,54, 12, 6 ] , count_inversions = 0)[1])    \n",
    "print(sort_and_count_inversions([1,2,3,4,5,6,7,8,9] , count_inversions = 0)[1])\n",
    "print(sort_and_count_inversions([1,2,3,6,5,4,7,8,9] , count_inversions = 0)[1])\n",
    "print(sort_and_count_inversions([6,5,4,3,2,1] , count_inversions = 0)[1])\n",
    "print(sort_and_count_inversions([1, 3, 5, 2, 4, 6] , count_inversions = 0)[1])\n",
    "print(sort_and_count_inversions([ 8, 7, 6, 5, 4, 3 ,2, 1 ] , count_inversions = 0)[1])"
   ]
  },
  {
   "cell_type": "code",
   "execution_count": 80,
   "metadata": {},
   "outputs": [
    {
     "name": "stdout",
     "output_type": "stream",
     "text": [
      "Number of splits in test array are  28\n",
      "Number of splits in the challenge data set are  2407905288\n"
     ]
    }
   ],
   "source": [
    "import urllib3\n",
    "http = urllib3.PoolManager()\n",
    "\n",
    "# Test case\n",
    "r1 = http.request('GET', \"http://algorithmsilluminated.org/datasets/problem3.5test.txt\")\n",
    "problem35teststr = r1.data.split('\\r\\n')\n",
    "del problem35teststr[-1]\n",
    "problem35test = [int(i) for i in problem35teststr]\n",
    "print(\"Number of splits in test array are  {}\".format(sort_and_count_inversions(problem35test , count_inversions = 0)[1]))\n",
    "\n",
    "# Challenge data set\n",
    "###**** Divide and Conquer approach works efficiently on larger problems for counting the inversions. ********************\n",
    "r2 = http.request('GET', \"http://algorithmsilluminated.org/datasets/problem3.5.txt\")\n",
    "problem35str = r2.data.split('\\r\\n')\n",
    "del problem35str[-1]\n",
    "problem35 = [int(i) for i in problem35str]\n",
    "print(\"Number of splits in the challenge data set are  {}\".format(sort_and_count_inversions(problem35 , count_inversions = 0)[1]))"
   ]
  },
  {
   "cell_type": "markdown",
   "metadata": {},
   "source": [
    "The divide and conquer method sort_and_count_inversions is trivial. All we do is to count the number of inversions on the left and right and get the corresponding halves sorted. We then find the split inversions and also merge the two sorted arrays. The total inversions are the number of inversions on the left plus the ones on the right plus the number of split inversions.\n",
    "\n",
    "The ingenuity lies in the count_inversions_and_sort function. This function piggy backs on the merge sort function and counts the number of inversions along with sorting the array. The function defined above is pretty straight forward and has comments inline giving explanation.\n",
    "\n",
    "If we have no inversions in a array A and we receive two halves of an array, then the elements in first half are strictly less than the elements in second half.\n",
    "\n",
    "The sort_and_count_inversions splits the input array in two and recursively sorts and counts inversions on the left and right half. The number of tasks at level n doubles than that of level n - 1 and input size given to each of task at level n is half of the input given to a unit on n - 1 level. This is similar to merge sort and given that the routine to sort and count inversions execute in linear time, the count sort_and_count_inversions also runs in $O(nlogn)$ time\n",
    "\n",
    "***\n",
    "\n",
    "#### Strassen's Matrix multiplication Algorithm\n",
    "Stratten's Matrix multiplication algorithm is a clever divide and conquer approach for multiplying two matrix. Before we see the details of matrix multiplication using Strassen's approach, let us implement matrix multiplication using simple, straight forward approach.\n",
    "\n",
    "For simplicity of implementing divide and conquer algorithms, we will assume that the matrix square and each side is a power of 2."
   ]
  },
  {
   "cell_type": "code",
   "execution_count": 89,
   "metadata": {},
   "outputs": [],
   "source": [
    "def matmul_simple(A, B):\n",
    "    dim = len(A[0])\n",
    "    Z = [[0 for _ in range(dim)] for _ in range(dim)]\n",
    "    for i in range(dim):\n",
    "        for j in range(dim):\n",
    "            Z[i][j] = sum(A[i][k] * B[k][j] for k in range(dim))\n",
    "    return Z"
   ]
  },
  {
   "cell_type": "code",
   "execution_count": 90,
   "metadata": {},
   "outputs": [
    {
     "data": {
      "text/plain": [
       "[[90, 100, 110, 120],\n",
       " [202, 228, 254, 280],\n",
       " [314, 356, 398, 440],\n",
       " [426, 484, 542, 600]]"
      ]
     },
     "execution_count": 90,
     "metadata": {},
     "output_type": "execute_result"
    }
   ],
   "source": [
    "\n",
    "matmul_simple([[1, 2, 3, 4], [5, 6, 7, 8], [9, 10, 11, 12], [13, 14, 15, 16]], \n",
    "                  [[1, 2, 3, 4], [5, 6, 7, 8], [9, 10, 11, 12], [13, 14, 15, 16]])"
   ]
  },
  {
   "cell_type": "markdown",
   "metadata": {},
   "source": [
    "Since there are three loops in the above multiplication (with variables i, j and k for each loop counter). The time complexity of a matrix multiplication is $O(n^3)$.\n",
    "\n",
    "Before we go ahead and implement a recursive divide and conquer algorithm, let us verify our result are correct by using a reference implementation."
   ]
  },
  {
   "cell_type": "code",
   "execution_count": 88,
   "metadata": {},
   "outputs": [
    {
     "data": {
      "text/plain": [
       "matrix([[ 90, 100, 110, 120],\n",
       "        [202, 228, 254, 280],\n",
       "        [314, 356, 398, 440],\n",
       "        [426, 484, 542, 600]])"
      ]
     },
     "execution_count": 88,
     "metadata": {},
     "output_type": "execute_result"
    }
   ],
   "source": [
    "import numpy as np\n",
    "A = np.matrix([[1, 2, 3, 4], [5, 6, 7, 8], [9, 10, 11, 12], [13, 14, 15, 16]])\n",
    "A * A"
   ]
  },
  {
   "cell_type": "markdown",
   "metadata": {},
   "source": [
    "The divide and conquer approach will break split an $n \\times n$ matrix into 4 $\\frac{n}{2} \\times \\frac{n}{2}$ matrix and then multiple then recursively. Let us illustrate then as below\n",
    "\n",
    "Suppose the bigger matrix X and Y are split in the following two matrices. Then the resulting matrix multiplication is formed by multiplying and these 8 small matrices. This divide and conquer can continue until we get a matrix of size 1 where the recursive divide and conquer stops. This divide and conquer is summarized in the following picture where A, B, C, D and E, F, G, H are smaller matrices of the bigger matrices X and Y respectively.\n",
    "\n",
    "$$\n",
    "\\begin{pmatrix} \n",
    "A & B \\\\\n",
    "C & D \n",
    "\\end{pmatrix}\n",
    "\\times\n",
    "\\begin{pmatrix} \n",
    "E & F \\\\\n",
    "G & H \n",
    "\\end{pmatrix}\n",
    "=\n",
    "\\begin{pmatrix} \n",
    "AE + BG  & AF + BH \\\\\n",
    "CE + DG & CF + DH \n",
    "\\end{pmatrix}\n",
    "$$"
   ]
  },
  {
   "cell_type": "code",
   "execution_count": 186,
   "metadata": {},
   "outputs": [
    {
     "name": "stdout",
     "output_type": "stream",
     "text": [
      "[[176, 172, 168, 164, 160, 156, 152, 148], [148, 152, 156, 160, 164, 168, 172, 176], [176, 172, 168, 164, 160, 156, 152, 148], [148, 152, 156, 160, 164, 168, 172, 176], [176, 172, 168, 164, 160, 156, 152, 148], [148, 152, 156, 160, 164, 168, 172, 176], [176, 172, 168, 164, 160, 156, 152, 148], [148, 152, 156, 160, 164, 168, 172, 176]]\n"
     ]
    }
   ],
   "source": [
    "def slicemat(mat, r_from, r_to, c_from, c_to):\n",
    "    return [[mat[r][c] for c in range(c_from, c_to)] for r in range(r_from, r_to)]\n",
    "\n",
    "def hcat(U, V):\n",
    "    #print(\"U: {}\\n V: {}\".format(U,V))\n",
    "    return [U[0] + V[0]] if len(U) == 1 else [U[r] + V[r] for r in range(len(U))]\n",
    "\n",
    "def add_matrices(W, Z):\n",
    "    d = len(W)\n",
    "    #print(\"W: {}\\n Z: {}\".format(W,Z))\n",
    "    return [[W[i][j] + Z[i][j] for j in range(d)] for i in range(d)]\n",
    "\n",
    "    \n",
    "def matmul_recursively_8(X, Y):\n",
    "    #print(\"X: {}\\nY: {}\".format(X, Y))\n",
    "    dim = len(X[0])\n",
    "    if dim == 1:\n",
    "        return [[X[0][0] * Y[0][0]]]\n",
    "    else:\n",
    "        A = slicemat(X, 0, dim//2, 0, dim//2)\n",
    "        B = slicemat(X, 0, dim//2, dim//2, dim)\n",
    "        C = slicemat(X, dim//2, dim, 0, dim//2)\n",
    "        D = slicemat(X, dim//2, dim, dim//2, dim)\n",
    "        E = slicemat(Y, 0, dim//2, 0, dim//2)\n",
    "        F = slicemat(Y, 0, dim//2, dim//2, dim)\n",
    "        G = slicemat(Y, dim//2, dim, 0, dim//2)\n",
    "        H = slicemat(Y, dim//2, dim, dim//2, dim)\n",
    "        AE = matmul_recursively_8(A, E)\n",
    "        BG = matmul_recursively_8(B, G)\n",
    "        AF = matmul_recursively_8(A, F)\n",
    "        BH = matmul_recursively_8(B, H)\n",
    "        CE = matmul_recursively_8(C, E)\n",
    "        DG = matmul_recursively_8(D, G)\n",
    "        CF = matmul_recursively_8(C, F)\n",
    "        DH = matmul_recursively_8(D, H)\n",
    "        #print(\"AE: {}\\nBG: {}\".format(AE, BG))\n",
    "        return hcat(add_matrices(AE , BG) , add_matrices(AF , BH)) + hcat(add_matrices(CE , DG) , add_matrices(CF , DH))\n",
    "\n",
    "#X = [[1, 2], [8, 7]]\n",
    "#X = [[1, 2, 3, 4], [8, 7, 6, 4], [1, 2, 3, 4], [8, 7, 6, 4]]\n",
    "#X = [[1, 2, 3, 4], [5, 6, 7, 8], [9, 10, 11, 12], [13, 14, 15, 16]]\n",
    "X = [[1, 2, 3, 4, 5, 6, 7, 8], [8, 7, 6, 5, 4, 3, 2, 1], [1, 2, 3, 4, 5, 6, 7, 8], [8, 7, 6, 5, 4, 3, 2, 1], [1, 2, 3, 4, 5, 6, 7, 8], [8, 7, 6, 5, 4, 3, 2, 1], [1, 2, 3, 4, 5, 6, 7, 8], [8, 7, 6, 5, 4, 3, 2, 1]]\n",
    "print(matmul_recursively_8(X, X))"
   ]
  },
  {
   "cell_type": "code",
   "execution_count": 179,
   "metadata": {},
   "outputs": [
    {
     "name": "stdout",
     "output_type": "stream",
     "text": [
      "[[1, 2, 3, 4], [5, 6, 7, 8], [9, 10, 11, 12], [13, 14, 15, 16], [1, 2, 3, 4]]\n",
      "4\n",
      "[]\n",
      "[1, 2]\n",
      "[[1, 2], [5, 6]]\n",
      "1\n",
      "2\n",
      "3\n"
     ]
    }
   ],
   "source": [
    "# Tidbits\n",
    "\n",
    "#List not slicable\n",
    "T = [[1, 2, 3, 4], [5, 6, 7, 8], [9, 10, 11, 12], [13, 14, 15, 16]]\n",
    "U = [[1, 2, 3, 4]]\n",
    "\n",
    "print(T+U)   #  +  --> cancels '][' and replaces it with ','\n",
    "print(len(T[0]))\n",
    "print(T[0:(d/2)][(d/2):])\n",
    "print(T[0:d/2][0][:d/2])\n",
    "print([T[0:d/2][0][:d/2]]+[T[0:d/2][1][:d/2]])\n",
    "print(len([[[5]]]))\n",
    "print(len([[3, 2], [4, 5]]))  # same dimension\n",
    "print(len([[3, 2], [4, 5], [5, 7]]))  # max dimension"
   ]
  },
  {
   "cell_type": "code",
   "execution_count": 183,
   "metadata": {},
   "outputs": [
    {
     "data": {
      "text/plain": [
       "matrix([[176, 172, 168, 164, 160, 156, 152, 148],\n",
       "        [148, 152, 156, 160, 164, 168, 172, 176],\n",
       "        [176, 172, 168, 164, 160, 156, 152, 148],\n",
       "        [148, 152, 156, 160, 164, 168, 172, 176],\n",
       "        [176, 172, 168, 164, 160, 156, 152, 148],\n",
       "        [148, 152, 156, 160, 164, 168, 172, 176],\n",
       "        [176, 172, 168, 164, 160, 156, 152, 148],\n",
       "        [148, 152, 156, 160, 164, 168, 172, 176]])"
      ]
     },
     "execution_count": 183,
     "metadata": {},
     "output_type": "execute_result"
    }
   ],
   "source": [
    "A = np.matrix([[1, 2, 3, 4, 5, 6, 7, 8], [8, 7, 6, 5, 4, 3, 2, 1], [1, 2, 3, 4, 5, 6, 7, 8], [8, 7, 6, 5, 4, 3, 2, 1], [1, 2, 3, 4, 5, 6, 7, 8], [8, 7, 6, 5, 4, 3, 2, 1], [1, 2, 3, 4, 5, 6, 7, 8], [8, 7, 6, 5, 4, 3, 2, 1]])\n",
    "A * A"
   ]
  },
  {
   "cell_type": "markdown",
   "metadata": {},
   "source": [
    "The scary looking function shown above is implementation of the same algorithm described earlier. We split the input array into 8 smaller arrays and perform these 8 matrix multiplication recursively before we combine the results into a bigger martix. Without looking at how we compute the time compexity of the algorithm it still is $O(n^3)$, no different than the simple approach tried earlier. The derivation of this time complexity will be done later when we study the Master method.\n",
    "\n",
    "***\n",
    "\n",
    "### Strassen's Subcubic Matrix Multiplication Algorithm\n",
    "\n",
    "The recursive approach above looks similar to the divide and conquer approach we saw for multiplication of two numbers. A clever trick used in Karatsuba multiplication reduced the number of recursive calls thus reducing the time complexity below $n^2$. Can we do something similar? The Strassen's approach reduces the recursive calls from 8 to 7 thus making the algorithm more efficient. How these 7 multiplications to be performed were discovered are not known and are as follows.\n",
    "\n",
    "$$ P_1 = A\\cdot (F - H)\\\\ P_2 = (A + B)\\cdot H\\\\ P_3 = (C + D)\\cdot E\\\\ P_4 = D\\cdot (G - E)\\\\ P_5 = (A + D)\\cdot (E + H)\\\\ P_6 = (B - D)\\cdot (G + H)\\\\ P_7 = (A - C)\\cdot (E + F)\\\\ $$$$ X\\cdot T = \\begin{pmatrix} A & B \\\\ C & D \\end{pmatrix} \\times \\begin{pmatrix} E & F \\\\ G & H \\end{pmatrix} = \\begin{pmatrix} AE + BG & AF + BH \\\\ CE + DG & CF + DH \\end{pmatrix} = \\begin{pmatrix} P_5 + P_4 - P_2 + P_6 & P_1 + P_2\\\\ P_3 + P_4 & P_1 + P_5 - P_3 - P_7 \\end{pmatrix} $$\n",
    "\n",
    "<br>\n",
    "Following code snippet is an implementation of strassen's matrix multiplication"
   ]
  },
  {
   "cell_type": "code",
   "execution_count": 190,
   "metadata": {},
   "outputs": [
    {
     "name": "stdout",
     "output_type": "stream",
     "text": [
      "[[176, 172, 168, 164, 160, 156, 152, 148], [148, 152, 156, 160, 164, 168, 172, 176], [176, 172, 168, 164, 160, 156, 152, 148], [148, 152, 156, 160, 164, 168, 172, 176], [176, 172, 168, 164, 160, 156, 152, 148], [148, 152, 156, 160, 164, 168, 172, 176], [176, 172, 168, 164, 160, 156, 152, 148], [148, 152, 156, 160, 164, 168, 172, 176]]\n"
     ]
    }
   ],
   "source": [
    "def sub_matrices(W, Z):\n",
    "    d = len(W)\n",
    "    #print(\"W: {}\\n Z: {}\".format(W,Z))\n",
    "    return [[W[i][j] - Z[i][j] for j in range(d)] for i in range(d)]\n",
    "\n",
    "\n",
    "def Strassen_Matrix_Multiplication(X, Y):\n",
    "    #print(\"X: {}\\nY: {}\".format(X, Y))\n",
    "    dim = len(X[0])\n",
    "    if dim == 1:\n",
    "        return [[X[0][0] * Y[0][0]]]\n",
    "    else:\n",
    "        A = slicemat(X, 0, dim//2, 0, dim//2)\n",
    "        B = slicemat(X, 0, dim//2, dim//2, dim)\n",
    "        C = slicemat(X, dim//2, dim, 0, dim//2)\n",
    "        D = slicemat(X, dim//2, dim, dim//2, dim)\n",
    "        E = slicemat(Y, 0, dim//2, 0, dim//2)\n",
    "        F = slicemat(Y, 0, dim//2, dim//2, dim)\n",
    "        G = slicemat(Y, dim//2, dim, 0, dim//2)\n",
    "        H = slicemat(Y, dim//2, dim, dim//2, dim)\n",
    "        P1 = Strassen_Matrix_Multiplication(A, sub_matrices(F, H))\n",
    "        P2 = Strassen_Matrix_Multiplication(add_matrices(A, B), H)\n",
    "        P3 = Strassen_Matrix_Multiplication(add_matrices(C, D), E)\n",
    "        P4 = Strassen_Matrix_Multiplication(D, sub_matrices(G, E))\n",
    "        P5 = Strassen_Matrix_Multiplication(add_matrices(A, D), add_matrices(E, H))\n",
    "        P6 = Strassen_Matrix_Multiplication(sub_matrices(B, D), add_matrices(G, H))\n",
    "        P7 = Strassen_Matrix_Multiplication(sub_matrices(A, C), add_matrices(E, F))\n",
    "        #print(\"AE: {}\\nBG: {}\".format(AE, BG))\n",
    "        return hcat(add_matrices(sub_matrices(add_matrices(P5 , P4), P2), P6) , add_matrices(P1 , P2)) + hcat(add_matrices(P3 , P4) , sub_matrices(sub_matrices(add_matrices(P1 , P5), P3), P7))\n",
    "\n",
    "#X = [[1, 2], [8, 7]]\n",
    "#X = [[1, 2, 3, 4], [8, 7, 6, 4], [1, 2, 3, 4], [8, 7, 6, 4]]\n",
    "#X = [[1, 2, 3, 4], [5, 6, 7, 8], [9, 10, 11, 12], [13, 14, 15, 16]]\n",
    "X = [[1, 2, 3, 4, 5, 6, 7, 8], [8, 7, 6, 5, 4, 3, 2, 1], [1, 2, 3, 4, 5, 6, 7, 8], [8, 7, 6, 5, 4, 3, 2, 1], [1, 2, 3, 4, 5, 6, 7, 8], [8, 7, 6, 5, 4, 3, 2, 1], [1, 2, 3, 4, 5, 6, 7, 8], [8, 7, 6, 5, 4, 3, 2, 1]]\n",
    "print(matmul_recursively_8(X, X))"
   ]
  },
  {
   "cell_type": "markdown",
   "metadata": {},
   "source": [
    "The time complexity analysis of Strassen's method will be done later when we explore the Master method later.\n",
    "\n",
    "***\n",
    "\n",
    "### Find the closest pair\n",
    "The final divide and conquer algorithm would be to find the closest pairs in $O(nlogn)$ time. For the problem we are given n points in a plane and the goal is to find two points with minimum euclidean distance between them.\n",
    "\n",
    "For two points $p_1 = (x_1, y_1)$ and $p_2 = (x_2, y_2)$ the euclidean distance $d(p_1, p_2)$ can be found using $\\sqrt{(x_1 - x_2)^2 + (y_1 - y_2)^2}$\n",
    "\n",
    "Starting with the Brute force approach, we know that the Naive algorithm will compute the distance of all points with all other points and then finds two with minimum distance between them. This algorithm has a time complexity of $O(n^2)$. Quadratic time is certainly not the best algorithm in this case and we should be looking at something better.\n",
    "\n",
    "Let us start with points in 1 dimension. The naive approach still gives us the closest points in 1-D in $O(n^2)$ time. However, just by sorting these points in $O(nlogn)$ time using something like Merge Sort and then doing a linear scan in linear time to find the a pair of points closest to each other is easily achievable. Thus we have a better algorithm than in 1-D then quadratic time to find the closest pair.\n",
    "\n",
    "Let us now see how to find the closest points in 2-D. Let us consider the following points, (0, 0), (1, 1), (0.5, 4), (4, 0.5) and (-2, 2) and plot them to get a visual on them"
   ]
  },
  {
   "cell_type": "code",
   "execution_count": null,
   "metadata": {},
   "outputs": [],
   "source": []
  }
 ],
 "metadata": {
  "kernelspec": {
   "display_name": "Python 2",
   "language": "python",
   "name": "python2"
  },
  "language_info": {
   "codemirror_mode": {
    "name": "ipython",
    "version": 2
   },
   "file_extension": ".py",
   "mimetype": "text/x-python",
   "name": "python",
   "nbconvert_exporter": "python",
   "pygments_lexer": "ipython2",
   "version": "2.7.14"
  }
 },
 "nbformat": 4,
 "nbformat_minor": 2
}
