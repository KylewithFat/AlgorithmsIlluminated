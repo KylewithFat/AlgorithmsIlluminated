{
 "cells": [
  {
   "cell_type": "markdown",
   "metadata": {},
   "source": [
    "Using xor calculating hamming distance is blazingly fast\n",
    "\n",
    "### Xor has following properties:\n",
    "\n",
    "For A xor B = C, have A xor C = B, and B xor A = C.\n",
    "\n",
    "***\n",
    "\n",
    "In python3, A xor B is represent as follows where both A,B are in decimal base:\n",
    "       \n",
    "       A^B\n",
    "       \n",
    "For example,"
   ]
  },
  {
   "cell_type": "code",
   "execution_count": 1,
   "metadata": {},
   "outputs": [
    {
     "data": {
      "text/plain": [
       "403"
      ]
     },
     "execution_count": 1,
     "metadata": {},
     "output_type": "execute_result"
    }
   ],
   "source": [
    "666^777"
   ]
  },
  {
   "cell_type": "markdown",
   "metadata": {},
   "source": [
    "666 -> 1010011010\n",
    "\n",
    "-777 ->-1100001001\n",
    "\n",
    "====0110010011 #same is 0, differ is 1\n",
    "\n",
    "0110010011->403 # hamming_dist = 5"
   ]
  },
  {
   "cell_type": "markdown",
   "metadata": {},
   "source": [
    "### Binary manipulation"
   ]
  },
  {
   "cell_type": "code",
   "execution_count": 18,
   "metadata": {},
   "outputs": [
    {
     "name": "stdout",
     "output_type": "stream",
     "text": [
      "666\n",
      "777\n",
      "403\n",
      "110010011\n",
      "<class 'str'>\n",
      "5\n",
      "4\n"
     ]
    }
   ],
   "source": [
    "x = int('1010011010  ', 2)\n",
    "y = int('1100001001  ', 2)\n",
    "print(x)\n",
    "print(y)\n",
    "z = x^y\n",
    "print(z)\n",
    "print(bin(z)[2:])\n",
    "print(type(bin(z)[2:]))\n",
    "print(bin(z)[2:].count('1'))\n",
    "print('1100001001'.count('1'))\n",
    "\n"
   ]
  },
  {
   "cell_type": "markdown",
   "metadata": {},
   "source": []
  }
 ],
 "metadata": {
  "kernelspec": {
   "display_name": "Python 3",
   "language": "python",
   "name": "python3"
  },
  "language_info": {
   "codemirror_mode": {
    "name": "ipython",
    "version": 3
   },
   "file_extension": ".py",
   "mimetype": "text/x-python",
   "name": "python",
   "nbconvert_exporter": "python",
   "pygments_lexer": "ipython3",
   "version": "3.6.8"
  }
 },
 "nbformat": 4,
 "nbformat_minor": 2
}
