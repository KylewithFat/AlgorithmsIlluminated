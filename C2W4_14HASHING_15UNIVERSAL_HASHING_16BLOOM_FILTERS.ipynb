{
 "cells": [
  {
   "cell_type": "markdown",
   "metadata": {},
   "source": [
    "# XIV. HASHING: THE BASICS \n",
    "You can think about the purpose of the hash table is to maintain a possibly evolving set of things. Where of course the set of things that you're maintaining, you know, will vary with the application. It can be any number of things. So if you're running an e-commerce website, maybe you're keeping track of transactions. You know, again, maybe you're keeping track of people, like for example, your friends and various data about them. So maybe you're keeping track of I-P addresses, for example if you wanna know, who was, were there unique visitors to your websites. And so on. So a little bit more formally, you know, the basic operations, you need to be able to insert stuff into a hash table. In many, but not all applications, you need to be able to delete stuff as well. And typically the most important operation is look-up. And for all these three operation you do it in a key based way. Where as usual a key should just be a unique identifier for the record that you're concerned with.\n",
    "\n",
    "The caveat is that, unlike most of the problems that we've solved in this course, hash tables don't enjoy worst case guarantees. You cannot say for a given hash table that for every possible data set you're gonna get cost and time. What's true is that for non-pathological data, you will get cost and time operations in a properly implemented hash table.\n",
    "\n",
    "***\n",
    "##### Properties of Hash function:\n",
    "1. Should lead to good performance (i.e. should spread data out)\n",
    "2. Should be easy to evaluate / fast to calculate\n",
    "<br>\n",
    " And in particular good hash functions that have the two properties we identified above. But I have to warn you, if you ask ten different, you know, serious hardcore programmers, you know, about their approach to designing hash functions, you're likely to get ten somewhat different answers. So the design of hash functions is a tricky topic, and, it's as much art as science at this point.\n",
    "*** \n",
    "\n",
    "##### Resolving Collisions: \n",
    "    1. Chaining  \n",
    "    2. Open addressing(linear probing and double hashing)\n",
    "    \n",
    "***\n",
    "##### linear probing\n",
    "In linear probing, even in a best case scenario, it's going to be subject to clumping. You're going to have contiguous Groups of slots which are all full, and that's because of the linear probing strategy. \n",
    "\n",
    "***\n",
    "\n",
    "## Quick and Dirty Hash Function\n",
    "In particular if you just need a hash function, and you need a quick and dirty one, you don't want to spend too much time on it. The method that I'm going to talk about below is a common way of doing it. On the other hand, if you're designing a hash function for some really mission-critical code, you should learn more than what I'm gonna tell you about below. So you, you should do more research about what are the best hash functions, what's the state of the art, if you have a super important hash function.\n",
    "\n",
    "There are standard methods for doing that, it's easy to find resources to, to give you example code for converting strings to integers you know, I'll just say one or two sentences about it. So you know each character in a string it is easy to regard as a number in various ways. Either you know just say it is ASCII, well ASCII code then you just have to aggregate all of the different numbers, one number per character into some overall number and so one thing you can do is you can iterate over the characters one at a time. You can keep a running sum. And with each character, you can multiply the running sum by some constant, and then add the new letter to it, and then, if you need to, take a module list to prevent overflow.\n",
    "\n",
    "![Quick and Dirty Hash Function](images/4_quick_and_dirty_hash_function.png)\n",
    "\n",
    "\n",
    "# XV. UNIVERSAL HASHING \n",
    "If we have our set h that we know exactly what it is. What does it mean that it's universal? It means for each pair of distinct keys, for example for each pair of IP addresses, the probability that a random hash function from our family script h causes a collision, maps these two IP addresses to the same bucket should be no worse than with perfectly random hashing. So no worse than 1/n where n is the number of buckets, say like 997.\n",
    "So  if you draw a hash function uniformly at random from a universal family of hash functions, then you're guaranteed expected constant time for all of the supported operations. \n",
    "\n",
    "![UNIVERSAL HASHING](images/5_universal_hashing.png)\n",
    "\n",
    "\n",
    "So hash tables support various operations, Insert, Delete and Lookup. But really if we can just bound a running time of an unsuccessful lookup, that's going to be enough to bound the running time of all of these operations. \n",
    "\n",
    "So, as long as you have a hash function which you can compute quickly in constant time. And as long as you keep the load under control so the number of buckets is commensurate with the size of the data set that you're storing. That's why, universal hash functions in a hash table with chaining guarantee expected constant time performance.\n",
    "\n",
    "***\n",
    "### Chaining\n",
    "Below we have implemented hash table datastructure using universal hashing using Chaining to resolve collision"
   ]
  },
  {
   "cell_type": "code",
   "execution_count": 141,
   "metadata": {},
   "outputs": [],
   "source": [
    "import urllib3\n",
    "\n",
    "\n",
    "class Hash_Table_chaining:\n",
    "    from random import randint\n",
    "    import matplotlib.pyplot as plt\n",
    "    \n",
    "    #import numpy as np\n",
    "    \n",
    "    def __init__(self, size = 1000):\n",
    "        self.hash_table = [None] * size\n",
    "        self.hash_function_family = [self.randint(1, size) for _ in range(0, 4)]\n",
    "        self.prime_mod = self._primes(size)[-1]\n",
    "        \n",
    "    def __repr__(self):\n",
    "        return str(self.hash_table)\n",
    "            \n",
    "    def __getitem__(self, index):\n",
    "        n = len(self.hash_table)\n",
    "        if n <= index:\n",
    "            return None\n",
    "        else:\n",
    "            return self.hash_table[index]\n",
    "    \n",
    "    def __setitem__(self, index, value):\n",
    "        self.hash_table[index] = value\n",
    "\n",
    "    def universal_hashing(self, element):\n",
    "        character_arr = list(element) \n",
    "        ord_arr = [ord(i) for i in character_arr]\n",
    "        # universal hashing using random choice from a family of hash functions\n",
    "        # our family of hash functions has to choose 4 random number from 1 to 1000 as we have n = 1000 = number of buckets\n",
    "        # thus our random hash function is equivalent to the gold standard of uniform random variable that\n",
    "        # would've chosen an index in the array of size 1000 \n",
    "        len25 = len(ord_arr) // 4\n",
    "        dot_sum_ord = 0\n",
    "        index = None\n",
    "        for piece in range(len(self.hash_function_family)):\n",
    "            dot_sum_ord += self.hash_function_family[piece] * sum(ord_arr[piece*len25:(piece+1)*len25]) \n",
    "            index = dot_sum_ord % self.prime_mod   # avoiding 2 or 10 and using prime close to n = 1000 = number of buckets\n",
    "        return index\n",
    "            \n",
    "            \n",
    "    def insert(self, element):\n",
    "        index = self.universal_hashing(element)\n",
    "        if self.hash_table[index] == None:\n",
    "            self.hash_table[index] = [element]\n",
    "        else:\n",
    "            self.hash_table[index].append(element)\n",
    "            \n",
    "            \n",
    "    def lookup(self, element):\n",
    "        index = self.universal_hashing(element)\n",
    "        if self.hash_table[index] == None:\n",
    "            return None\n",
    "        elif element not in self.hash_table[index]:\n",
    "            return None\n",
    "        else:\n",
    "            return index\n",
    "        \n",
    "    def delete(self, element):\n",
    "        index = self.universal_hashing(element)\n",
    "        if self.hash_table[index] == None:\n",
    "            return None\n",
    "        elif element not in self.hash_table[index]:\n",
    "            return None\n",
    "        else:\n",
    "            self.hash_table[index].remove(element)\n",
    "            return index\n",
    "        \n",
    "        \n",
    "    def _load_index(self, index):\n",
    "        if self.hash_table[index] == None:\n",
    "            return 0\n",
    "        else:\n",
    "            return len(self.hash_table[index])\n",
    "        \n",
    "    \n",
    "    def load_visualize(self):\n",
    "        index = range(len(self.hash_table))\n",
    "        load = [self._load_index(i) for i in index]\n",
    "        self.plt.bar(index, load)\n",
    "        self.plt.xlabel('Hash table Indices', fontsize=5)\n",
    "        self.plt.ylabel('Load', fontsize=5)\n",
    "        #self.plt.xticks(index, label, fontsize=5, rotation=30)\n",
    "        self.plt.title('Hash table Load Visualization')\n",
    "        self.plt.show()\n",
    "    \n",
    "\n",
    "    def _primes(self, n):\n",
    "        \"\"\" Input n>=6, Returns a list of primes, 2 <= p < n \"\"\"\n",
    "        n, correction = n-n%6+6, 2-(n%6>1)\n",
    "        sieve = [True] * (n//3)\n",
    "        for i in range(1,int(n**0.5)//3+1):\n",
    "            if sieve[i]:\n",
    "                k=3*i+1|1\n",
    "                sieve[      k*k//3      ::2*k] = [False] * ((n//6-k*k//6-1)//k+1)\n",
    "                sieve[k*(k-2*(i&1)+4)//3::2*k] = [False] * ((n//6-k*(k-2*(i&1)+4)//6-1)//k+1)\n",
    "        return [2,3] + [3*i+1|1 for i in range(1,n//3-correction) if sieve[i]]\n",
    "    "
   ]
  },
  {
   "cell_type": "code",
   "execution_count": 142,
   "metadata": {},
   "outputs": [
    {
     "name": "stderr",
     "output_type": "stream",
     "text": [
      "/Users/aishwaya/anaconda2/lib/python2.7/site-packages/urllib3/connectionpool.py:858: InsecureRequestWarning: Unverified HTTPS request is being made. Adding certificate verification is strongly advised. See: https://urllib3.readthedocs.io/en/latest/advanced-usage.html#ssl-warnings\n",
      "  InsecureRequestWarning)\n"
     ]
    },
    {
     "name": "stdout",
     "output_type": "stream",
     "text": [
      "Element 'watermelonfarmers' found at index : 137\n"
     ]
    }
   ],
   "source": [
    "hash_table_obj = Hash_Table_chaining(1000)\n",
    "\n",
    "# insert api\n",
    "http = urllib3.PoolManager()\n",
    "r1 = http.request('GET', \"https://raw.githubusercontent.com/aishwarya34/AlgorithmsIlluminated/master/500_twitch_usernames.txt\")\n",
    "IntegerMatrixStringJoin = r1.data.split('\\n')\n",
    "IntegerMatrixStringJoin = IntegerMatrixStringJoin[:-1]\n",
    "for username in IntegerMatrixStringJoin:\n",
    "    hash_table_obj.insert(username)\n",
    "        \n",
    "# lookup api        \n",
    "#print(hash_table_obj)\n",
    "print(\"Element \\'watermelonfarmers\\' found at index : {}\".format(hash_table_obj.lookup('watermelonfarmers')))"
   ]
  },
  {
   "cell_type": "code",
   "execution_count": 144,
   "metadata": {},
   "outputs": [
    {
     "name": "stdout",
     "output_type": "stream",
     "text": [
      "None\n",
      "None\n",
      "['watermelonfarmers']\n"
     ]
    }
   ],
   "source": [
    "# __getitem__ and __setitem__\n",
    "print(hash_table_obj[0])\n",
    "hash_table_obj[0] = None\n",
    "print(hash_table_obj[0])\n",
    "print(hash_table_obj[137])"
   ]
  },
  {
   "cell_type": "code",
   "execution_count": 145,
   "metadata": {},
   "outputs": [
    {
     "name": "stdout",
     "output_type": "stream",
     "text": [
      "Element 'watermelonfarmers' found at index : 137\n",
      " 'watermelonfarmers' deleted at index : 137\n",
      "Element 'watermelonfarmers' found at index : None\n"
     ]
    }
   ],
   "source": [
    "# delete api\n",
    "print(\"Element \\'watermelonfarmers\\' found at index : {}\".format(hash_table_obj.lookup('watermelonfarmers')))\n",
    "print(\" \\'watermelonfarmers\\' deleted at index : {}\".format(hash_table_obj.delete('watermelonfarmers')))\n",
    "print(\"Element \\'watermelonfarmers\\' found at index : {}\".format(hash_table_obj.lookup('watermelonfarmers')))"
   ]
  },
  {
   "cell_type": "markdown",
   "metadata": {},
   "source": [
    "#### You can see below the minimum load is 0 and maximum load is 3"
   ]
  },
  {
   "cell_type": "code",
   "execution_count": 146,
   "metadata": {},
   "outputs": [
    {
     "data": {
      "image/png": "[encoded data removed]",
      "text/plain": [
       "<matplotlib.figure.Figure at 0x118be4e50>"
      ]
     },
     "metadata": {},
     "output_type": "display_data"
    }
   ],
   "source": [
    "hash_table_obj.load_visualize()"
   ]
  },
  {
   "cell_type": "markdown",
   "metadata": {},
   "source": [
    "### Open addressing\n",
    "The principal in open addressing is you're not going to use any space for pointers. You're not gonna have lists. So you're only gonna have one object per bucket of the array. So another question is what happens if, you know, you try and insert Daniel and you go, you invoke the hash function on Daniel and it takes you to a bucket that already contains Bob? That means there's no room for Daniel. So what you're going to do is you're gonna probe the hash table in some other position. So a hash function is, is now gonna be replaced by a hash sequence, where you try, the hash function tells you the first bucket to try to insert Daniel; failing that, a second bucket in which to try to insert Daniel; failing that, a third bucket to try to insert Daniel; and so on. And you just keep trying till you find an open position somewhere in the array. \n"
   ]
  },
  {
   "cell_type": "markdown",
   "metadata": {},
   "source": [
    "#### Open addressing - Linear Probing \n",
    "\n",
    "One strategy is if you fail and save bucket 17, which is where the hash function tells you to go first. You just try bucket 18, then 19, then, 20, then 21 and so on, until you find your first open slot. So that's called linear probing.\n",
    "\n",
    "Below we have implemented hash table datastructure using universal hashing using  Open addressing (Linear Probing)  to resolve collision"
   ]
  },
  {
   "cell_type": "code",
   "execution_count": 1,
   "metadata": {},
   "outputs": [
    {
     "name": "stderr",
     "output_type": "stream",
     "text": [
      "UsageError: Line magic function `%%time` not found.\n"
     ]
    }
   ],
   "source": [
    "import urllib3\n",
    "\n",
    "\n",
    "class Hash_Table_linear_probing:\n",
    "    from random import randint\n",
    "    import matplotlib.pyplot as plt\n",
    "    \n",
    "    #import numpy as np\n",
    "    \n",
    "    def __init__(self, size = 1000):\n",
    "        self.hash_table = [None] * size\n",
    "        self.hash_function_family = [self.randint(1, size) for _ in range(0, 4)]\n",
    "        self.probe_count = [None] * size\n",
    "        self.prime_mod = self._primes(size)[-1]\n",
    "        \n",
    "    def __repr__(self):\n",
    "        return str(self.hash_table)\n",
    "            \n",
    "    def __getitem__(self, index):\n",
    "        n = len(self.hash_table)\n",
    "        if n <= index:\n",
    "            return None\n",
    "        else:\n",
    "            return self.hash_table[index]\n",
    "    \n",
    "    def __setitem__(self, index, value):\n",
    "        self.hash_table[index] = value\n",
    "\n",
    "    def universal_hashing(self, element):\n",
    "        character_arr = list(element) \n",
    "        ord_arr = [ord(i) for i in character_arr]\n",
    "        # universal hashing using random choice from a family of hash functions\n",
    "        # our family of hash functions has to choose 4 random number from 1 to 1000 as we have n = 1000 = number of buckets\n",
    "        # thus our random hash function is equivalent to the gold standard of uniform random variable that\n",
    "        # would've chosen an index in the array of size 1000 \n",
    "        len25 = len(ord_arr) // 4\n",
    "        dot_sum_ord = 0\n",
    "        index = None\n",
    "        for piece in range(len(self.hash_function_family)):\n",
    "            dot_sum_ord += self.hash_function_family[piece] * sum(ord_arr[piece*len25:(piece+1)*len25]) \n",
    "            index = dot_sum_ord % self.prime_mod  # avoiding 2 or 10 and using prime close to n = 1000 = number of buckets\n",
    "        return index\n",
    "            \n",
    "            \n",
    "    def insert(self, element):\n",
    "        n = len(self.hash_table)\n",
    "        index = self.universal_hashing(element)\n",
    "        count = 0\n",
    "        while n >= count:\n",
    "            if self.hash_table[index] != None:\n",
    "                index += 1\n",
    "                index = index % n\n",
    "                count += 1\n",
    "            else:\n",
    "                break\n",
    "        if n >= count:\n",
    "            self.hash_table[index] = element\n",
    "            self.probe_count[index] = count\n",
    "\n",
    "            \n",
    "            \n",
    "    def lookup(self, element):\n",
    "        n = len(self.hash_table)\n",
    "        index = self.universal_hashing(element)\n",
    "        count = 0\n",
    "        while n >= count:\n",
    "            if self.hash_table[index] != element:\n",
    "                index += 1\n",
    "                index = index % n\n",
    "                count += 1\n",
    "            else:\n",
    "                break\n",
    "        if n >= count:\n",
    "            return index\n",
    "        else:\n",
    "            return None\n",
    "        \n",
    "    def delete(self, element):\n",
    "        index = self.lookup(element)\n",
    "        if index == None:\n",
    "            return None\n",
    "        else:\n",
    "            self.hash_table[index] = None\n",
    "            self.probe_count[index] = None\n",
    "            return index\n",
    "        \n",
    "        \n",
    "    def _probe_index(self, index):\n",
    "        if self.hash_table[index] == None:\n",
    "            return 0\n",
    "        else:\n",
    "            return self.probe_count[index]\n",
    "        \n",
    "    \n",
    "    def probe_visualize(self):\n",
    "        index = range(len(self.hash_table))\n",
    "        load = [self._probe_index(i) for i in index]\n",
    "        self.plt.bar(index, load)\n",
    "        self.plt.xlabel('Hash table Indices', fontsize=5)\n",
    "        self.plt.ylabel('Number of probes', fontsize=5)\n",
    "        self.plt.title('Hash table Probe Count Visualization')\n",
    "        self.plt.show()\n",
    "        \n",
    "        \n",
    "    def _primes(self, n):\n",
    "        \"\"\" Input n>=6, Returns a list of primes, 2 <= p < n \"\"\"\n",
    "        n, correction = n-n%6+6, 2-(n%6>1)\n",
    "        sieve = [True] * (n//3)\n",
    "        for i in range(1,int(n**0.5)//3+1):\n",
    "            if sieve[i]:\n",
    "                k=3*i+1|1\n",
    "                sieve[      k*k//3      ::2*k] = [False] * ((n//6-k*k//6-1)//k+1)\n",
    "                sieve[k*(k-2*(i&1)+4)//3::2*k] = [False] * ((n//6-k*(k-2*(i&1)+4)//6-1)//k+1)\n",
    "        return [2,3] + [3*i+1|1 for i in range(1,n//3-correction) if sieve[i]]\n",
    "    \n",
    "\n"
   ]
  },
  {
   "cell_type": "code",
   "execution_count": 136,
   "metadata": {},
   "outputs": [
    {
     "name": "stderr",
     "output_type": "stream",
     "text": [
      "/Users/aishwaya/anaconda2/lib/python2.7/site-packages/urllib3/connectionpool.py:858: InsecureRequestWarning: Unverified HTTPS request is being made. Adding certificate verification is strongly advised. See: https://urllib3.readthedocs.io/en/latest/advanced-usage.html#ssl-warnings\n",
      "  InsecureRequestWarning)\n"
     ]
    },
    {
     "name": "stdout",
     "output_type": "stream",
     "text": [
      "Element 'watermelonfarmers' found at index : 834\n"
     ]
    }
   ],
   "source": [
    "hash_table_obj = Hash_Table_linear_probing(1000)\n",
    "\n",
    "# insert api\n",
    "http = urllib3.PoolManager()\n",
    "r1 = http.request('GET', \"https://raw.githubusercontent.com/aishwarya34/AlgorithmsIlluminated/master/500_twitch_usernames.txt\")\n",
    "IntegerMatrixStringJoin = r1.data.split('\\n')\n",
    "IntegerMatrixStringJoin = IntegerMatrixStringJoin[:-1]\n",
    "for username in IntegerMatrixStringJoin:\n",
    "    hash_table_obj.insert(username)\n",
    "        \n",
    "# lookup api        \n",
    "#print(hash_table_obj)\n",
    "print(\"Element \\'watermelonfarmers\\' found at index : {}\".format(hash_table_obj.lookup('watermelonfarmers')))"
   ]
  },
  {
   "cell_type": "code",
   "execution_count": 137,
   "metadata": {},
   "outputs": [
    {
     "name": "stdout",
     "output_type": "stream",
     "text": [
      "Element 'watermelonfarmers' found at index : 834\n",
      " 'watermelonfarmers' deleted at index : 834\n",
      "Element 'watermelonfarmers' found at index : None\n"
     ]
    }
   ],
   "source": [
    "# delete api\n",
    "print(\"Element \\'watermelonfarmers\\' found at index : {}\".format(hash_table_obj.lookup('watermelonfarmers')))\n",
    "print(\" \\'watermelonfarmers\\' deleted at index : {}\".format(hash_table_obj.delete('watermelonfarmers')))\n",
    "print(\"Element \\'watermelonfarmers\\' found at index : {}\".format(hash_table_obj.lookup('watermelonfarmers')))"
   ]
  },
  {
   "cell_type": "markdown",
   "metadata": {},
   "source": [
    "#### You can see below the minimum probe count is 1 and maximum probe count is 5"
   ]
  },
  {
   "cell_type": "code",
   "execution_count": 138,
   "metadata": {},
   "outputs": [
    {
     "data": {
      "image/png": "[encoded data removed]",
      "text/plain": [
       "<matplotlib.figure.Figure at 0x11cadfed0>"
      ]
     },
     "metadata": {},
     "output_type": "display_data"
    }
   ],
   "source": [
    "hash_table_obj.probe_visualize()"
   ]
  },
  {
   "cell_type": "markdown",
   "metadata": {},
   "source": [
    "####  What if you decrease the hash table size to 500 i.e the number of elements to be inserted\n",
    "You can see below the minimum probe count is 1 and maximum probe count around 500"
   ]
  },
  {
   "cell_type": "code",
   "execution_count": 139,
   "metadata": {},
   "outputs": [
    {
     "name": "stderr",
     "output_type": "stream",
     "text": [
      "/Users/aishwaya/anaconda2/lib/python2.7/site-packages/urllib3/connectionpool.py:858: InsecureRequestWarning: Unverified HTTPS request is being made. Adding certificate verification is strongly advised. See: https://urllib3.readthedocs.io/en/latest/advanced-usage.html#ssl-warnings\n",
      "  InsecureRequestWarning)\n"
     ]
    },
    {
     "data": {
      "image/png": "[encoded data removed]",
      "text/plain": [
       "<matplotlib.figure.Figure at 0x11ce20210>"
      ]
     },
     "metadata": {},
     "output_type": "display_data"
    }
   ],
   "source": [
    "hash_table_obj = Hash_Table_linear_probing(500)\n",
    "\n",
    "# insert api\n",
    "http = urllib3.PoolManager()\n",
    "r1 = http.request('GET', \"https://raw.githubusercontent.com/aishwarya34/AlgorithmsIlluminated/master/500_twitch_usernames.txt\")\n",
    "IntegerMatrixStringJoin = r1.data.split('\\n')\n",
    "IntegerMatrixStringJoin = IntegerMatrixStringJoin[:-1]\n",
    "for username in IntegerMatrixStringJoin:\n",
    "    hash_table_obj.insert(username)\n",
    "        \n",
    "# visualize         \n",
    "hash_table_obj.probe_visualize()"
   ]
  },
  {
   "cell_type": "markdown",
   "metadata": {},
   "source": [
    "####  Lets now decrease the hash table size to 499 i.e one less than the number of elements to be inserted\n"
   ]
  },
  {
   "cell_type": "code",
   "execution_count": 140,
   "metadata": {},
   "outputs": [
    {
     "name": "stderr",
     "output_type": "stream",
     "text": [
      "/Users/aishwaya/anaconda2/lib/python2.7/site-packages/urllib3/connectionpool.py:858: InsecureRequestWarning: Unverified HTTPS request is being made. Adding certificate verification is strongly advised. See: https://urllib3.readthedocs.io/en/latest/advanced-usage.html#ssl-warnings\n",
      "  InsecureRequestWarning)\n"
     ]
    },
    {
     "data": {
      "image/png": "[encoded data removed]",
      "text/plain": [
       "<matplotlib.figure.Figure at 0x1180d7290>"
      ]
     },
     "metadata": {},
     "output_type": "display_data"
    }
   ],
   "source": [
    "hash_table_obj = Hash_Table_linear_probing(499)\n",
    "\n",
    "# insert api\n",
    "http = urllib3.PoolManager()\n",
    "r1 = http.request('GET', \"https://raw.githubusercontent.com/aishwarya34/AlgorithmsIlluminated/master/500_twitch_usernames.txt\")\n",
    "IntegerMatrixStringJoin = r1.data.split('\\n')\n",
    "IntegerMatrixStringJoin = IntegerMatrixStringJoin[:-1]\n",
    "for username in IntegerMatrixStringJoin:\n",
    "    hash_table_obj.insert(username)\n",
    "        \n",
    "# visualize         \n",
    "hash_table_obj.probe_visualize()"
   ]
  },
  {
   "cell_type": "markdown",
   "metadata": {},
   "source": [
    "#### Open addressing - Double Hashing\n",
    "\n",
    "Another approach is double hashing. So this is a solution where you actually have two hash functions, hash function 1 and hash function 2. And the idea is, suppose you're trying to insert, say, Daniel, into a hash table with open addressing, and you evaluate both of the hash functions. And the first one comes up 17, and the fir-, the second one comes up 23. So, as usual, the has-, first hash function will specify where you look first. So if it evaluates on Daniel to 17, you look in the seventeenth position of the array, And if, if it's empty, that's where you insert Daniel. Now, if it's full, what you do is you use the second Hash value to be an additive shift, so. Unlike linear probing where after seventeen, you look at eighteen. With double hashing, if the second hash function gives you 23, that's gonna be your offset. So after seventeen, you look at bucket 40. If 40 is already full, you look at bucket 63. If bucket 63 is already full then you look at bucket 86. So you keep adding increments of 23 until you finally find a bucket where, that's empty and that's where you insert Daniel. \n",
    "\n",
    "Below we have implemented hash table datastructure using universal hashing using  Open addressing (Double Hashing)  to resolve collision"
   ]
  },
  {
   "cell_type": "code",
   "execution_count": 149,
   "metadata": {},
   "outputs": [],
   "source": [
    "import urllib3\n",
    "\n",
    "\n",
    "class Hash_Table_double_hashing:\n",
    "    from random import randint\n",
    "    import matplotlib.pyplot as plt\n",
    "    \n",
    "    #import numpy as np\n",
    "    \n",
    "    def __init__(self, size = 1000):\n",
    "        self.hash_table = [None] * size\n",
    "        self.hash_function_family = [self.randint(1, size) for _ in range(0, 4)]\n",
    "        self.offset_hashfunc_family = [self.randint(1, size) for _ in range(0, 4)]\n",
    "        self.probe_count = [None] * size\n",
    "        self.prime_mod = self._primes(size)[-1]\n",
    "        \n",
    "    def __repr__(self):\n",
    "        return str(self.hash_table)\n",
    "            \n",
    "    def __getitem__(self, index):\n",
    "        n = len(self.hash_table)\n",
    "        if n <= index:\n",
    "            return None\n",
    "        else:\n",
    "            return self.hash_table[index]\n",
    "    \n",
    "    def __setitem__(self, index, value):\n",
    "        self.hash_table[index] = value\n",
    "\n",
    "    def universal_hashing(self, element):  # outputs 2 hash function output for index and offset\n",
    "        character_arr = list(element) \n",
    "        ord_arr = [ord(i) for i in character_arr]\n",
    "        # universal hashing using random choice from a family of hash functions\n",
    "        # our family of hash functions has to choose 4 random number from 1 to 1000 as we have n = 1000 = number of buckets\n",
    "        # thus our random hash function is equivalent to the gold standard of uniform random variable that\n",
    "        # would've chosen an index in the array of size 1000 \n",
    "        len25 = len(ord_arr) // 4\n",
    "        dot_sum_ord = 0\n",
    "        dot_sum_ord2 = 0\n",
    "        index = None\n",
    "        index2 = None\n",
    "        for piece in range(len(self.hash_function_family)):\n",
    "            sum_ord = sum(ord_arr[piece*len25:(piece+1)*len25]) \n",
    "            dot_sum_ord += self.hash_function_family[piece] * sum_ord\n",
    "            dot_sum_ord2 += self.offset_hashfunc_family[piece] * sum_ord\n",
    "            index = dot_sum_ord % self.prime_mod  # avoiding 2 or 10 and using prime close to n = 1000 = number of buckets\n",
    "            index2 = dot_sum_ord2 % self.prime_mod \n",
    "        return index, index2\n",
    "            \n",
    "            \n",
    "    def insert(self, element):\n",
    "        n = len(self.hash_table)\n",
    "        index, offset = self.universal_hashing(element)\n",
    "        count = 0\n",
    "        while n >= count:\n",
    "            if self.hash_table[index] != None:\n",
    "                index += offset\n",
    "                index = index % n\n",
    "                count += 1\n",
    "            else:\n",
    "                break\n",
    "        if n >= count:\n",
    "            self.hash_table[index] = element\n",
    "            self.probe_count[index] = count\n",
    "\n",
    "            \n",
    "            \n",
    "    def lookup(self, element):\n",
    "        n = len(self.hash_table)\n",
    "        index, offset = self.universal_hashing(element)\n",
    "        count = 0\n",
    "        while n >= count:\n",
    "            if self.hash_table[index] != element:\n",
    "                index += offset\n",
    "                index = index % n\n",
    "                count += 1\n",
    "            else:\n",
    "                break\n",
    "        if n >= count:\n",
    "            return index\n",
    "        else:\n",
    "            return None\n",
    "        \n",
    "    def delete(self, element):\n",
    "        index = self.lookup(element)\n",
    "        if index == None:\n",
    "            return None\n",
    "        else:\n",
    "            self.hash_table[index] = None\n",
    "            self.probe_count[index] = None\n",
    "            return index\n",
    "        \n",
    "        \n",
    "    def _probe_index(self, index):\n",
    "        if self.hash_table[index] == None:\n",
    "            return 0\n",
    "        else:\n",
    "            return self.probe_count[index]\n",
    "        \n",
    "    \n",
    "    def probe_visualize(self):\n",
    "        index = range(len(self.hash_table))\n",
    "        load = [self._probe_index(i) for i in index]\n",
    "        self.plt.bar(index, load)\n",
    "        self.plt.xlabel('Hash table Indices', fontsize=5)\n",
    "        self.plt.ylabel('Number of probes', fontsize=5)\n",
    "        self.plt.title('Hash table Probe Count Visualization')\n",
    "        self.plt.show()\n",
    "        \n",
    "        \n",
    "    def _primes(self, n):\n",
    "        \"\"\" Input n>=6, Returns a list of primes, 2 <= p < n \"\"\"\n",
    "        n, correction = n-n%6+6, 2-(n%6>1)\n",
    "        sieve = [True] * (n//3)\n",
    "        for i in range(1,int(n**0.5)//3+1):\n",
    "            if sieve[i]:\n",
    "                k=3*i+1|1\n",
    "                sieve[      k*k//3      ::2*k] = [False] * ((n//6-k*k//6-1)//k+1)\n",
    "                sieve[k*(k-2*(i&1)+4)//3::2*k] = [False] * ((n//6-k*(k-2*(i&1)+4)//6-1)//k+1)\n",
    "        return [2,3] + [3*i+1|1 for i in range(1,n//3-correction) if sieve[i]]\n",
    "    \n",
    "\n",
    "\n"
   ]
  },
  {
   "cell_type": "code",
   "execution_count": 150,
   "metadata": {},
   "outputs": [
    {
     "name": "stderr",
     "output_type": "stream",
     "text": [
      "/Users/aishwaya/anaconda2/lib/python2.7/site-packages/urllib3/connectionpool.py:858: InsecureRequestWarning: Unverified HTTPS request is being made. Adding certificate verification is strongly advised. See: https://urllib3.readthedocs.io/en/latest/advanced-usage.html#ssl-warnings\n",
      "  InsecureRequestWarning)\n"
     ]
    },
    {
     "name": "stdout",
     "output_type": "stream",
     "text": [
      "Element 'watermelonfarmers' found at index : 450\n"
     ]
    }
   ],
   "source": [
    "hash_table_obj = Hash_Table_double_hashing(1000)\n",
    "\n",
    "# insert api\n",
    "http = urllib3.PoolManager()\n",
    "r1 = http.request('GET', \"https://raw.githubusercontent.com/aishwarya34/AlgorithmsIlluminated/master/500_twitch_usernames.txt\")\n",
    "IntegerMatrixStringJoin = r1.data.split('\\n')\n",
    "IntegerMatrixStringJoin = IntegerMatrixStringJoin[:-1]\n",
    "for username in IntegerMatrixStringJoin:\n",
    "    hash_table_obj.insert(username)\n",
    "        \n",
    "# lookup api        \n",
    "#print(hash_table_obj)\n",
    "print(\"Element \\'watermelonfarmers\\' found at index : {}\".format(hash_table_obj.lookup('watermelonfarmers')))"
   ]
  },
  {
   "cell_type": "code",
   "execution_count": 151,
   "metadata": {},
   "outputs": [
    {
     "name": "stdout",
     "output_type": "stream",
     "text": [
      "Element 'watermelonfarmers' found at index : 450\n",
      " 'watermelonfarmers' deleted at index : 450\n",
      "Element 'watermelonfarmers' found at index : None\n"
     ]
    }
   ],
   "source": [
    "# delete api\n",
    "print(\"Element \\'watermelonfarmers\\' found at index : {}\".format(hash_table_obj.lookup('watermelonfarmers')))\n",
    "print(\" \\'watermelonfarmers\\' deleted at index : {}\".format(hash_table_obj.delete('watermelonfarmers')))\n",
    "print(\"Element \\'watermelonfarmers\\' found at index : {}\".format(hash_table_obj.lookup('watermelonfarmers')))"
   ]
  },
  {
   "cell_type": "markdown",
   "metadata": {},
   "source": [
    "#### You can see below the minimum probe count is 1 and maximum probe count is 5"
   ]
  },
  {
   "cell_type": "code",
   "execution_count": 152,
   "metadata": {},
   "outputs": [
    {
     "data": {
      "image/png": "[encoded data removed]",
      "text/plain": [
       "<matplotlib.figure.Figure at 0x11894f6d0>"
      ]
     },
     "metadata": {},
     "output_type": "display_data"
    }
   ],
   "source": [
    "hash_table_obj.probe_visualize()"
   ]
  },
  {
   "cell_type": "markdown",
   "metadata": {},
   "source": [
    "####  What if you decrease the hash table size to 500 i.e the number of elements to be inserted\n",
    "You can see below the minimum probe count is 1 and maximum probe count around 40 which is lesser than Linear probing"
   ]
  },
  {
   "cell_type": "code",
   "execution_count": 153,
   "metadata": {},
   "outputs": [
    {
     "name": "stderr",
     "output_type": "stream",
     "text": [
      "/Users/aishwaya/anaconda2/lib/python2.7/site-packages/urllib3/connectionpool.py:858: InsecureRequestWarning: Unverified HTTPS request is being made. Adding certificate verification is strongly advised. See: https://urllib3.readthedocs.io/en/latest/advanced-usage.html#ssl-warnings\n",
      "  InsecureRequestWarning)\n"
     ]
    },
    {
     "data": {
      "image/png": "[encoded data removed]",
      "text/plain": [
       "<matplotlib.figure.Figure at 0x11826ea90>"
      ]
     },
     "metadata": {},
     "output_type": "display_data"
    }
   ],
   "source": [
    "hash_table_obj = Hash_Table_linear_probing(500)\n",
    "\n",
    "# insert api\n",
    "http = urllib3.PoolManager()\n",
    "r1 = http.request('GET', \"https://raw.githubusercontent.com/aishwarya34/AlgorithmsIlluminated/master/500_twitch_usernames.txt\")\n",
    "IntegerMatrixStringJoin = r1.data.split('\\n')\n",
    "IntegerMatrixStringJoin = IntegerMatrixStringJoin[:-1]\n",
    "for username in IntegerMatrixStringJoin:\n",
    "    hash_table_obj.insert(username)\n",
    "        \n",
    "# visualize         \n",
    "hash_table_obj.probe_visualize()"
   ]
  },
  {
   "cell_type": "markdown",
   "metadata": {},
   "source": [
    "####  Lets now decrease the hash table size to 499 i.e one less than the number of elements to be inserted\n"
   ]
  },
  {
   "cell_type": "code",
   "execution_count": 154,
   "metadata": {},
   "outputs": [
    {
     "name": "stderr",
     "output_type": "stream",
     "text": [
      "/Users/aishwaya/anaconda2/lib/python2.7/site-packages/urllib3/connectionpool.py:858: InsecureRequestWarning: Unverified HTTPS request is being made. Adding certificate verification is strongly advised. See: https://urllib3.readthedocs.io/en/latest/advanced-usage.html#ssl-warnings\n",
      "  InsecureRequestWarning)\n"
     ]
    },
    {
     "data": {
      "image/png": "[encoded data removed]",
      "text/plain": [
       "<matplotlib.figure.Figure at 0x11c561f90>"
      ]
     },
     "metadata": {},
     "output_type": "display_data"
    }
   ],
   "source": [
    "hash_table_obj = Hash_Table_linear_probing(499)\n",
    "\n",
    "# insert api\n",
    "http = urllib3.PoolManager()\n",
    "r1 = http.request('GET', \"https://raw.githubusercontent.com/aishwarya34/AlgorithmsIlluminated/master/500_twitch_usernames.txt\")\n",
    "IntegerMatrixStringJoin = r1.data.split('\\n')\n",
    "IntegerMatrixStringJoin = IntegerMatrixStringJoin[:-1]\n",
    "for username in IntegerMatrixStringJoin:\n",
    "    hash_table_obj.insert(username)\n",
    "        \n",
    "# visualize         \n",
    "hash_table_obj.probe_visualize()"
   ]
  },
  {
   "cell_type": "markdown",
   "metadata": {},
   "source": [
    "# Hash Tables Applications\n",
    "## De-Duplication Problem"
   ]
  },
  {
   "cell_type": "code",
   "execution_count": 159,
   "metadata": {},
   "outputs": [
    {
     "name": "stderr",
     "output_type": "stream",
     "text": [
      "/Users/aishwaya/anaconda2/lib/python2.7/site-packages/urllib3/connectionpool.py:858: InsecureRequestWarning: Unverified HTTPS request is being made. Adding certificate verification is strongly advised. See: https://urllib3.readthedocs.io/en/latest/advanced-usage.html#ssl-warnings\n",
      "  InsecureRequestWarning)\n"
     ]
    },
    {
     "data": {
      "image/png": "[encoded data removed]",
      "text/plain": [
       "<matplotlib.figure.Figure at 0x1182e9d10>"
      ]
     },
     "metadata": {},
     "output_type": "display_data"
    }
   ],
   "source": [
    "import random\n",
    "from matplotlib import pyplot as plt\n",
    "\n",
    "de_duplicate = [0]*600\n",
    "indx = 0\n",
    "hash_table_obj = Hash_Table_chaining(1000)\n",
    "\n",
    "# insert api\n",
    "http = urllib3.PoolManager()\n",
    "r1 = http.request('GET', \"https://raw.githubusercontent.com/aishwarya34/AlgorithmsIlluminated/master/500_twitch_usernames.txt\")\n",
    "IntegerMatrixStringJoin = r1.data.split('\\n')\n",
    "IntegerMatrixStringJoin = IntegerMatrixStringJoin[:-1]\n",
    "\n",
    "for username in IntegerMatrixStringJoin:\n",
    "    if hash_table_obj.lookup(username) == None:\n",
    "        hash_table_obj.insert(username)\n",
    "        de_duplicate[indx] = 1\n",
    "        indx += 1\n",
    "        \n",
    "    \n",
    "indx = 500    \n",
    "random.shuffle(IntegerMatrixStringJoin)\n",
    "cut = 100\n",
    "list_1 = IntegerMatrixStringJoin[:cut]\n",
    "for username in list_1:\n",
    "    if hash_table_obj.lookup(username) == None:\n",
    "        hash_table_obj.insert(username)\n",
    "        de_duplicate[indx] = 1\n",
    "        indx += 1\n",
    "        \n",
    "        \n",
    "index = range(600)\n",
    "inserted = de_duplicate\n",
    "plt.bar(index, inserted)\n",
    "plt.xlabel('Keys in dataset ', fontsize=5)\n",
    "plt.ylabel('Keys inserted or not', fontsize=5)\n",
    "plt.title('De-Duplicate Visualization')\n",
    "plt.show()\n",
    "        "
   ]
  },
  {
   "cell_type": "markdown",
   "metadata": {},
   "source": [
    "## 2-SUM Problem\n",
    "\n",
    "##### Challenge Problem\n",
    "Download the following text file: algo1-programming_prob-2sum.txt\n",
    "\n",
    "The goal of this problem is to implement a variant of the 2-SUM algorithm covered in this week's lectures.\n",
    "\n",
    "The file contains 1 million integers, both positive and negative (there might be some repetitions!).This is your array of integers, with the $i^{th}$ row of the file specifying the $i^{th}$ entry of the array.\n",
    "\n",
    "Your task is to compute the number of target values $t$ in the interval $[-10000,10000]$ (inclusive) such that there are distinct numbers $x,y$ in the input file that satisfy $x+y=t$. (NOTE: ensuring distinctness requires a one-line addition to the algorithm from lecture.)\n",
    "\n",
    "Write your numeric answer (an integer between 0 and 20001) in the space provided.\n",
    "\n",
    "OPTIONAL CHALLENGE: If this problem is too easy for you, try implementing your own hash table for it. For example, you could compare performance under the chaining and open addressing approaches to resolving collisions.\n",
    "\n"
   ]
  },
  {
   "cell_type": "code",
   "execution_count": 8,
   "metadata": {},
   "outputs": [],
   "source": [
    "import urllib3\n",
    "\n",
    "\n",
    "class Hash_Table_chaining_application:\n",
    "    # performs de-duplication on insert\n",
    "    from random import randint\n",
    "    import matplotlib.pyplot as plt\n",
    "        \n",
    "    def __init__(self, size = 2000000):\n",
    "        self.hash_table = [None] * size\n",
    "        self.hash_function_family = [self.randint(1, size) for _ in range(0, 4)]\n",
    "        self.prime_mod = self._primes(size)[-1]\n",
    "        \n",
    "    def __repr__(self):\n",
    "        return str(self.hash_table)\n",
    "            \n",
    "    def __getitem__(self, index):\n",
    "        n = len(self.hash_table)\n",
    "        if n <= index:\n",
    "            return None\n",
    "        else:\n",
    "            return self.hash_table[index]\n",
    "    \n",
    "    def __setitem__(self, index, value):\n",
    "        self.hash_table[index] = value\n",
    "        \n",
    "    def __len__(self):  \n",
    "        return len(self.hash_table)\n",
    "    \n",
    "\n",
    "    def universal_hashing(self, element):\n",
    "        character_arr = list(element) \n",
    "        ord_arr = [ord(i) for i in character_arr]\n",
    "        # universal hashing using random choice from a family of hash functions\n",
    "        # our family of hash functions has to choose 4 random number from 1 to 1000 as we have n = 1000 = number of buckets\n",
    "        # thus our random hash function is equivalent to the gold standard of uniform random variable that\n",
    "        # would've chosen an index in the array of size 1000 \n",
    "        len25 = len(ord_arr) // 4\n",
    "        dot_sum_ord = 0\n",
    "        index = None\n",
    "        for piece in range(len(self.hash_function_family)):\n",
    "            dot_sum_ord += self.hash_function_family[piece] * sum(ord_arr[piece*len25:(piece+1)*len25]) \n",
    "            index = dot_sum_ord % self.prime_mod   # avoiding 2 or 10 and using prime close to n = 1000 = number of buckets\n",
    "        return index\n",
    "            \n",
    "            \n",
    "    def insert_de(self, element):\n",
    "        index = self.universal_hashing(element)\n",
    "        if self.lookup(element) != index:\n",
    "            if self.hash_table[index] == None:\n",
    "                self.hash_table[index] = [element]\n",
    "            else:\n",
    "                self.hash_table[index].append(element)\n",
    "            \n",
    "            \n",
    "    def lookup(self, element):\n",
    "        index = self.universal_hashing(element)\n",
    "        if self.hash_table[index] == None:\n",
    "            return None\n",
    "        elif element not in self.hash_table[index]:\n",
    "            return None\n",
    "        else:\n",
    "            return index\n",
    "        \n",
    "        \n",
    "    def yield_hashtable(self):\n",
    "        n = range(len(self.hash_table))\n",
    "        for i in n:\n",
    "            yield self.hash_table[i]\n",
    "    \n",
    "    \n",
    "        \n",
    "    def delete(self, element):\n",
    "        index = self.universal_hashing(element)\n",
    "        if self.hash_table[index] == None:\n",
    "            return None\n",
    "        elif element not in self.hash_table[index]:\n",
    "            return None\n",
    "        else:\n",
    "            self.hash_table[index].remove(element)\n",
    "            return index\n",
    "        \n",
    "        \n",
    "    def _load_index(self, index):\n",
    "        if self.hash_table[index] == None:\n",
    "            return 0\n",
    "        else:\n",
    "            return len(self.hash_table[index])\n",
    "        \n",
    "    \n",
    "    def load_visualize(self):\n",
    "        index = range(len(self.hash_table))\n",
    "        load = [self._load_index(i) for i in index]\n",
    "        self.plt.bar(index, load)\n",
    "        self.plt.xlabel('Hash table Indices', fontsize=5)\n",
    "        self.plt.ylabel('Load', fontsize=5)\n",
    "        #self.plt.xticks(index, label, fontsize=5, rotation=30)\n",
    "        self.plt.title('Hash table Load Visualization')\n",
    "        self.plt.show()\n",
    "        \n",
    "    \n",
    "\n",
    "    def _primes(self, n):\n",
    "        \"\"\" Input n>=6, Returns a list of primes, 2 <= p < n \"\"\"\n",
    "        n, correction = n-n%6+6, 2-(n%6>1)\n",
    "        sieve = [True] * (n//3)\n",
    "        for i in range(1,int(n**0.5)//3+1):\n",
    "            if sieve[i]:\n",
    "                k=3*i+1|1\n",
    "                sieve[      k*k//3      ::2*k] = [False] * ((n//6-k*k//6-1)//k+1)\n",
    "                sieve[k*(k-2*(i&1)+4)//3::2*k] = [False] * ((n//6-k*(k-2*(i&1)+4)//6-1)//k+1)\n",
    "        return [2,3] + [3*i+1|1 for i in range(1,n//3-correction) if sieve[i]]\n",
    "    "
   ]
  },
  {
   "cell_type": "code",
   "execution_count": 9,
   "metadata": {},
   "outputs": [
    {
     "name": "stderr",
     "output_type": "stream",
     "text": [
      "/Users/aishwaya/anaconda2/envs/python_3_6/lib/python3.6/site-packages/urllib3/connectionpool.py:847: InsecureRequestWarning: Unverified HTTPS request is being made. Adding certificate verification is strongly advised. See: https://urllib3.readthedocs.io/en/latest/advanced-usage.html#ssl-warnings\n",
      "  InsecureRequestWarning)\n",
      "IOPub data rate exceeded.\n",
      "The notebook server will temporarily stop sending output\n",
      "to the client in order to avoid crashing it.\n",
      "To change this limit, set the config variable\n",
      "`--NotebookApp.iopub_data_rate_limit`.\n",
      "\n",
      "Current values:\n",
      "NotebookApp.iopub_data_rate_limit=1000000.0 (bytes/sec)\n",
      "NotebookApp.rate_limit_window=3.0 (secs)\n",
      "\n"
     ]
    }
   ],
   "source": [
    "hash_table_obj = Hash_Table_chaining_application(1000)\n",
    "\n",
    "# insert api\n",
    "http = urllib3.PoolManager()\n",
    "r1 = http.request('GET', \"https://d18ky98rnyall9.cloudfront.net/_6ec67df2804ff4b58ab21c12edcb21f8_algo1-programming_prob-2sum.txt?Expires=1563408000&Signature=X9l~a1c-KsnWQjjSJvpDwjsuEvielfKXGx023wgP-HLX9L8LwJpUlji3G7qNl4~8jWI4kYs4l9kE6-Yl-gOspuPIXqH8OFICrb5QBMSmyXJwTsrGFEsAuhMtyZDb4SGWpgdrKGEct9rOqNpIW-DSFjrt3qnTViRFSf-nvuhygGo_&Key-Pair-Id=APKAJLTNE6QMUY6HBC5A\")\n",
    "IntegerMatrixStringJoin = r1.data.decode('utf8').split('\\n')\n",
    "IntegerMatrixStringJoin = IntegerMatrixStringJoin[:-1]\n",
    "for number_str in IntegerMatrixStringJoin:\n",
    "    hash_table_obj.insert_de(number_str)\n",
    "        \n",
    "# lookup api        \n",
    "print(hash_table_obj)\n",
    "#print(\"Element \\'watermelonfarmers\\' found at index : {}\".format(hash_table_obj.lookup('watermelonfarmers')))"
   ]
  },
  {
   "cell_type": "code",
   "execution_count": null,
   "metadata": {},
   "outputs": [],
   "source": [
    "# 2-SUM  ##################################### Takes a lot of time  #####################################\n",
    "print(len(hash_table_obj))\n",
    "\n",
    "count2sum = 0\n",
    "for target in range(-10000,10001):\n",
    "    gen = hash_table_obj.yield_hashtable()\n",
    "    for _ in range(len(hash_table_obj)):\n",
    "        li_int_str = gen.next()\n",
    "        if li_int_str != None:\n",
    "            for string in li_int_str:\n",
    "                part1 = int(string)\n",
    "                part2 = target - part1\n",
    "                part2_idx = hash_table_obj.lookup(str(part2))\n",
    "                if part2_idx != None:\n",
    "                    count2sum += 1\n",
    "                    print(count2sum)\n",
    "print(\"Number of 2-SUM for target values in range [-10000,10000]: {}\".format(count2sum))"
   ]
  },
  {
   "cell_type": "code",
   "execution_count": null,
   "metadata": {},
   "outputs": [],
   "source": []
  },
  {
   "cell_type": "code",
   "execution_count": null,
   "metadata": {},
   "outputs": [],
   "source": [
    "print(\"Number of 2-SUM for target values in range [-10000,10000]: {}\".format(count2sum))"
   ]
  },
  {
   "cell_type": "code",
   "execution_count": 13,
   "metadata": {},
   "outputs": [
    {
     "name": "stdout",
     "output_type": "stream",
     "text": [
      "[1, 2, 3, 4, 5, 6, 7, 8, 9]\n",
      "Found element 1 at index 0\n",
      "Found element 2 at index 1\n",
      "Found element 3 at index 2\n",
      "Found element 4 at index None\n",
      "Found element 5 at index 4\n",
      "Found element None at index None\n",
      "Found element None at index None\n",
      "Found element None at index None\n",
      "Found element None at index None\n",
      "Found element None at index None\n",
      "Found element None at index None\n",
      "1\n",
      "2\n",
      "3\n",
      "4\n",
      "5\n",
      "6\n",
      "7\n",
      "8\n",
      "9\n"
     ]
    }
   ],
   "source": [
    "class binary_search_array:\n",
    "    import random\n",
    "\n",
    "    def __init__(self, array):\n",
    "        self.theArray = list(set(self.quicksort_randomizedpivot(array)[0]))\n",
    "        \n",
    "    def __repr__(self):\n",
    "        return str(self.theArray)\n",
    "    \n",
    "    def __getitem__(self, index):\n",
    "        if index == None:\n",
    "            return None\n",
    "        n = len(self.theArray)\n",
    "        if n <= index:\n",
    "            return None\n",
    "        else:\n",
    "            return self.theArray[index]\n",
    "        \n",
    "    def __len__(self):  \n",
    "        return len(self.theArray)\n",
    "    \n",
    "    def yield_array(self):\n",
    "        n = range(len(self.theArray))\n",
    "        for i in n:\n",
    "            yield self.theArray[i]\n",
    "    \n",
    "        \n",
    "    def swap(self, element1, element2):\n",
    "        element1, element2 = element2, element1\n",
    "        return element1, element2\n",
    "\n",
    "    def partition(self, array, l, r):\n",
    "        #Partitions the input array in place and returns the index of the pivot element\n",
    "        #in the partitioned array and the number of comparisons performed which is required for the analysis\n",
    "        #of the number of comparisons performed.\n",
    "        i = l + 1\n",
    "        for j in range(1, r):\n",
    "            if array[0] > array[j]:\n",
    "                if j != i:\n",
    "                    array[i], array[j] = self.swap(array[i], array[j])   \n",
    "                i += 1\n",
    "        array[0], array[i-1] = self.swap(array[0], array[i-1]) \n",
    "        return array, i-1\n",
    "\n",
    "    def choose_pivot(self, array):\n",
    "        randomidx = self.random.randint(0,len(array)-1)\n",
    "        array[0], array[randomidx] = self.swap(array[0], array[randomidx])\n",
    "        return array\n",
    "\n",
    "    def quicksort_randomizedpivot(self, array , init_ncomparisons = 0):\n",
    "        global ncomparisons\n",
    "        if init_ncomparisons == 0:\n",
    "            ncomparisons = 0\n",
    "        n = len(array)\n",
    "        if n == 1:\n",
    "            return array, ncomparisons\n",
    "        if n > 1:\n",
    "            array = self.choose_pivot(array)   # Randomized algorithm: choosing pivot\n",
    "            array, pvtidx = self.partition(array, 0, n)\n",
    "            ncomparisons += n-1\n",
    "            if pvtidx != 0:\n",
    "                array[:pvtidx], _ = self.quicksort_randomizedpivot(array[:pvtidx], init_ncomparisons = 1)\n",
    "            if pvtidx != n-1:\n",
    "                array[pvtidx+1:], _ = self.quicksort_randomizedpivot(array[pvtidx+1:], init_ncomparisons = 1)\n",
    "        return array, ncomparisons\n",
    "\n",
    "    def binary_search(self, element, array = None, offset = 0):\n",
    "        #print(array)\n",
    "        if array is None:\n",
    "            array = self.theArray\n",
    "        n = len(array)\n",
    "        mid = len(array) // 2\n",
    "        if array[mid] == element:\n",
    "            return mid + offset\n",
    "        elif n == 0 or n == 1:\n",
    "            return None\n",
    "        elif mid != 0:\n",
    "            if array[mid] > element:\n",
    "                return self.binary_search(element, array[:mid], offset = offset)\n",
    "        elif array[mid] < element:\n",
    "            return self.binary_search(element, array[mid+1:], offset = offset + mid+1) \n",
    "        \n",
    "        \n",
    "    \n",
    "b = binary_search_array([2, 4, 1, 6, 9, 7, 3, 5, 8])\n",
    "print(b)\n",
    "print(\"Found element {} at index {}\".format(b[b.binary_search(1)] , b.binary_search(1)))\n",
    "print(\"Found element {} at index {}\".format(2 , b.binary_search(2)))\n",
    "print(\"Found element {} at index {}\".format(3 , b.binary_search(3)))\n",
    "print(\"Found element {} at index {}\".format(4 , b.binary_search(4)))\n",
    "print(\"Found element {} at index {}\".format(b[b.binary_search(5)] , b.binary_search(5)))\n",
    "print(\"Found element {} at index {}\".format(b[b.binary_search(6)] , b.binary_search(6)))\n",
    "print(\"Found element {} at index {}\".format(b[b.binary_search(7)] , b.binary_search(7)))\n",
    "print(\"Found element {} at index {}\".format(b[b.binary_search(8)] , b.binary_search(8)))\n",
    "print(\"Found element {} at index {}\".format(b[b.binary_search(9)] , b.binary_search(9)))\n",
    "print(\"Found element {} at index {}\".format(b[b.binary_search(10)] , b.binary_search(10)))\n",
    "print(\"Found element {} at index {}\".format(b[b.binary_search(0)] , b.binary_search(0)))\n",
    "\n",
    "\n",
    "gen = b.yield_array()\n",
    "for _ in range(len(b)):\n",
    "    print(next(gen))"
   ]
  },
  {
   "cell_type": "code",
   "execution_count": 14,
   "metadata": {},
   "outputs": [],
   "source": [
    "theIntegers = [int(number_str) for number_str in IntegerMatrixStringJoin]\n",
    "bsa = binary_search_array(theIntegers) "
   ]
  },
  {
   "cell_type": "markdown",
   "metadata": {},
   "source": [
    "manual below"
   ]
  },
  {
   "cell_type": "code",
   "execution_count": 17,
   "metadata": {},
   "outputs": [
    {
     "name": "stdout",
     "output_type": "stream",
     "text": [
      "-10000\n"
     ]
    },
    {
     "ename": "KeyboardInterrupt",
     "evalue": "",
     "output_type": "error",
     "traceback": [
      "\u001b[0;31m---------------------------------------------------------------------------\u001b[0m",
      "\u001b[0;31mKeyboardInterrupt\u001b[0m                         Traceback (most recent call last)",
      "\u001b[0;32m<ipython-input-17-2a54d10d4aa5>\u001b[0m in \u001b[0;36m<module>\u001b[0;34m\u001b[0m\n\u001b[1;32m      7\u001b[0m         \u001b[0mpart1\u001b[0m \u001b[0;34m=\u001b[0m \u001b[0mnext\u001b[0m\u001b[0;34m(\u001b[0m\u001b[0mgen\u001b[0m\u001b[0;34m)\u001b[0m\u001b[0;34m\u001b[0m\u001b[0;34m\u001b[0m\u001b[0m\n\u001b[1;32m      8\u001b[0m         \u001b[0mpart2\u001b[0m \u001b[0;34m=\u001b[0m \u001b[0mtarget\u001b[0m \u001b[0;34m-\u001b[0m \u001b[0mpart1\u001b[0m\u001b[0;34m\u001b[0m\u001b[0;34m\u001b[0m\u001b[0m\n\u001b[0;32m----> 9\u001b[0;31m         \u001b[0mpart2_idx\u001b[0m \u001b[0;34m=\u001b[0m \u001b[0mbsa\u001b[0m\u001b[0;34m.\u001b[0m\u001b[0mbinary_search\u001b[0m\u001b[0;34m(\u001b[0m\u001b[0mpart2\u001b[0m\u001b[0;34m,\u001b[0m \u001b[0marray\u001b[0m \u001b[0;34m=\u001b[0m \u001b[0;32mNone\u001b[0m\u001b[0;34m,\u001b[0m \u001b[0moffset\u001b[0m \u001b[0;34m=\u001b[0m \u001b[0;36m0\u001b[0m\u001b[0;34m)\u001b[0m\u001b[0;34m\u001b[0m\u001b[0;34m\u001b[0m\u001b[0m\n\u001b[0m\u001b[1;32m     10\u001b[0m         \u001b[0;31m#print(\"part1: {}, part2: {}, part2_idx: {}\".format(part1, part2, part2_idx))\u001b[0m\u001b[0;34m\u001b[0m\u001b[0;34m\u001b[0m\u001b[0;34m\u001b[0m\u001b[0m\n\u001b[1;32m     11\u001b[0m         \u001b[0;32mif\u001b[0m \u001b[0mpart2_idx\u001b[0m \u001b[0;34m!=\u001b[0m \u001b[0;32mNone\u001b[0m\u001b[0;34m:\u001b[0m\u001b[0;34m\u001b[0m\u001b[0;34m\u001b[0m\u001b[0m\n",
      "\u001b[0;32m<ipython-input-13-bef5fd97faed>\u001b[0m in \u001b[0;36mbinary_search\u001b[0;34m(self, element, array, offset)\u001b[0m\n\u001b[1;32m     77\u001b[0m         \u001b[0;32melif\u001b[0m \u001b[0mmid\u001b[0m \u001b[0;34m!=\u001b[0m \u001b[0;36m0\u001b[0m\u001b[0;34m:\u001b[0m\u001b[0;34m\u001b[0m\u001b[0;34m\u001b[0m\u001b[0m\n\u001b[1;32m     78\u001b[0m             \u001b[0;32mif\u001b[0m \u001b[0marray\u001b[0m\u001b[0;34m[\u001b[0m\u001b[0mmid\u001b[0m\u001b[0;34m]\u001b[0m \u001b[0;34m>\u001b[0m \u001b[0melement\u001b[0m\u001b[0;34m:\u001b[0m\u001b[0;34m\u001b[0m\u001b[0;34m\u001b[0m\u001b[0m\n\u001b[0;32m---> 79\u001b[0;31m                 \u001b[0;32mreturn\u001b[0m \u001b[0mself\u001b[0m\u001b[0;34m.\u001b[0m\u001b[0mbinary_search\u001b[0m\u001b[0;34m(\u001b[0m\u001b[0melement\u001b[0m\u001b[0;34m,\u001b[0m \u001b[0marray\u001b[0m\u001b[0;34m[\u001b[0m\u001b[0;34m:\u001b[0m\u001b[0mmid\u001b[0m\u001b[0;34m]\u001b[0m\u001b[0;34m,\u001b[0m \u001b[0moffset\u001b[0m \u001b[0;34m=\u001b[0m \u001b[0moffset\u001b[0m\u001b[0;34m)\u001b[0m\u001b[0;34m\u001b[0m\u001b[0;34m\u001b[0m\u001b[0m\n\u001b[0m\u001b[1;32m     80\u001b[0m         \u001b[0;32melif\u001b[0m \u001b[0marray\u001b[0m\u001b[0;34m[\u001b[0m\u001b[0mmid\u001b[0m\u001b[0;34m]\u001b[0m \u001b[0;34m<\u001b[0m \u001b[0melement\u001b[0m\u001b[0;34m:\u001b[0m\u001b[0;34m\u001b[0m\u001b[0;34m\u001b[0m\u001b[0m\n\u001b[1;32m     81\u001b[0m             \u001b[0;32mreturn\u001b[0m \u001b[0mself\u001b[0m\u001b[0;34m.\u001b[0m\u001b[0mbinary_search\u001b[0m\u001b[0;34m(\u001b[0m\u001b[0melement\u001b[0m\u001b[0;34m,\u001b[0m \u001b[0marray\u001b[0m\u001b[0;34m[\u001b[0m\u001b[0mmid\u001b[0m\u001b[0;34m+\u001b[0m\u001b[0;36m1\u001b[0m\u001b[0;34m:\u001b[0m\u001b[0;34m]\u001b[0m\u001b[0;34m,\u001b[0m \u001b[0moffset\u001b[0m \u001b[0;34m=\u001b[0m \u001b[0moffset\u001b[0m \u001b[0;34m+\u001b[0m \u001b[0mmid\u001b[0m\u001b[0;34m+\u001b[0m\u001b[0;36m1\u001b[0m\u001b[0;34m)\u001b[0m\u001b[0;34m\u001b[0m\u001b[0;34m\u001b[0m\u001b[0m\n",
      "\u001b[0;32m<ipython-input-13-bef5fd97faed>\u001b[0m in \u001b[0;36mbinary_search\u001b[0;34m(self, element, array, offset)\u001b[0m\n\u001b[1;32m     77\u001b[0m         \u001b[0;32melif\u001b[0m \u001b[0mmid\u001b[0m \u001b[0;34m!=\u001b[0m \u001b[0;36m0\u001b[0m\u001b[0;34m:\u001b[0m\u001b[0;34m\u001b[0m\u001b[0;34m\u001b[0m\u001b[0m\n\u001b[1;32m     78\u001b[0m             \u001b[0;32mif\u001b[0m \u001b[0marray\u001b[0m\u001b[0;34m[\u001b[0m\u001b[0mmid\u001b[0m\u001b[0;34m]\u001b[0m \u001b[0;34m>\u001b[0m \u001b[0melement\u001b[0m\u001b[0;34m:\u001b[0m\u001b[0;34m\u001b[0m\u001b[0;34m\u001b[0m\u001b[0m\n\u001b[0;32m---> 79\u001b[0;31m                 \u001b[0;32mreturn\u001b[0m \u001b[0mself\u001b[0m\u001b[0;34m.\u001b[0m\u001b[0mbinary_search\u001b[0m\u001b[0;34m(\u001b[0m\u001b[0melement\u001b[0m\u001b[0;34m,\u001b[0m \u001b[0marray\u001b[0m\u001b[0;34m[\u001b[0m\u001b[0;34m:\u001b[0m\u001b[0mmid\u001b[0m\u001b[0;34m]\u001b[0m\u001b[0;34m,\u001b[0m \u001b[0moffset\u001b[0m \u001b[0;34m=\u001b[0m \u001b[0moffset\u001b[0m\u001b[0;34m)\u001b[0m\u001b[0;34m\u001b[0m\u001b[0;34m\u001b[0m\u001b[0m\n\u001b[0m\u001b[1;32m     80\u001b[0m         \u001b[0;32melif\u001b[0m \u001b[0marray\u001b[0m\u001b[0;34m[\u001b[0m\u001b[0mmid\u001b[0m\u001b[0;34m]\u001b[0m \u001b[0;34m<\u001b[0m \u001b[0melement\u001b[0m\u001b[0;34m:\u001b[0m\u001b[0;34m\u001b[0m\u001b[0;34m\u001b[0m\u001b[0m\n\u001b[1;32m     81\u001b[0m             \u001b[0;32mreturn\u001b[0m \u001b[0mself\u001b[0m\u001b[0;34m.\u001b[0m\u001b[0mbinary_search\u001b[0m\u001b[0;34m(\u001b[0m\u001b[0melement\u001b[0m\u001b[0;34m,\u001b[0m \u001b[0marray\u001b[0m\u001b[0;34m[\u001b[0m\u001b[0mmid\u001b[0m\u001b[0;34m+\u001b[0m\u001b[0;36m1\u001b[0m\u001b[0;34m:\u001b[0m\u001b[0;34m]\u001b[0m\u001b[0;34m,\u001b[0m \u001b[0moffset\u001b[0m \u001b[0;34m=\u001b[0m \u001b[0moffset\u001b[0m \u001b[0;34m+\u001b[0m \u001b[0mmid\u001b[0m\u001b[0;34m+\u001b[0m\u001b[0;36m1\u001b[0m\u001b[0;34m)\u001b[0m\u001b[0;34m\u001b[0m\u001b[0;34m\u001b[0m\u001b[0m\n",
      "\u001b[0;31mKeyboardInterrupt\u001b[0m: "
     ]
    }
   ],
   "source": [
    "count2sum = 0\n",
    "for target in range(-10000,-5000):\n",
    "    print(target)\n",
    "    gen = bsa.yield_array()  # this would yield\n",
    "    for _ in range(len(bsa)):\n",
    "        \n",
    "        part1 = next(gen)\n",
    "        part2 = target - part1\n",
    "        part2_idx = bsa.binary_search(part2, array = None, offset = 0)\n",
    "        #print(\"part1: {}, part2: {}, part2_idx: {}\".format(part1, part2, part2_idx))\n",
    "        if part2_idx != None:\n",
    "            count2sum += 1\n",
    "            print(\"sum: \".format(count2sum))\n",
    "print(\"Number of 2-SUM for target values in range: {}\".format(count2sum))\n",
    "    "
   ]
  },
  {
   "cell_type": "code",
   "execution_count": null,
   "metadata": {},
   "outputs": [],
   "source": [
    "count2sum = 0\n",
    "for target in range(-5000,0):\n",
    "    print(target)\n",
    "    gen = bsa.yield_array()  # this would yield\n",
    "    for _ in range(len(bsa)):\n",
    "        part1 = next(gen)\n",
    "        part2 = target - part1\n",
    "        part2_idx = bsa.binary_search(part2, array = None, offset = 0)\n",
    "        print(\"part1: {}, part2: {}, part2_idx: {}\".format(part1, part2, part2_idx))\n",
    "        if part2_idx != None:\n",
    "            count2sum += 1\n",
    "            print(\"sum: \".format(count2sum))\n",
    "print(\"Number of 2-SUM for target values in range: {}\".format(count2sum))\n",
    "    "
   ]
  },
  {
   "cell_type": "code",
   "execution_count": null,
   "metadata": {},
   "outputs": [],
   "source": [
    "count2sum = 0\n",
    "for target in range(0,5000):\n",
    "    print(target)\n",
    "    gen = bsa.yield_array()  # this would yield\n",
    "    for _ in range(len(bsa)):\n",
    "        part1 = next(gen)\n",
    "        part2 = target - part1\n",
    "        part2_idx = bsa.binary_search(part2, array = None, offset = 0)\n",
    "        print(\"part1: {}, part2: {}, part2_idx: {}\".format(part1, part2, part2_idx))\n",
    "        if part2_idx != None:\n",
    "            count2sum += 1\n",
    "            print(\"sum: \".format(count2sum))\n",
    "print(\"Number of 2-SUM for target values in range: {}\".format(count2sum))\n",
    "    "
   ]
  },
  {
   "cell_type": "code",
   "execution_count": null,
   "metadata": {},
   "outputs": [],
   "source": [
    "count2sum = 0\n",
    "for target in range(5000,10001):\n",
    "    print(target)\n",
    "    gen = bsa.yield_array()  # this would yield\n",
    "    for _ in range(len(bsa)):\n",
    "        part1 = next(gen)\n",
    "        part2 = target - part1\n",
    "        part2_idx = bsa.binary_search(part2, array = None, offset = 0)\n",
    "        print(\"part1: {}, part2: {}, part2_idx: {}\".format(part1, part2, part2_idx))\n",
    "        if part2_idx != None:\n",
    "            count2sum += 1\n",
    "            print(\"sum: \".format(count2sum))\n",
    "print(\"Number of 2-SUM for target values in range: {}\".format(count2sum))\n",
    "    "
   ]
  },
  {
   "cell_type": "markdown",
   "metadata": {},
   "source": [
    "Thread below not coded full"
   ]
  },
  {
   "cell_type": "code",
   "execution_count": null,
   "metadata": {},
   "outputs": [],
   "source": [
    "import threading \n",
    "from multiprocessing import Queue \n",
    "\n",
    "def thread_worker(start, end, q):\n",
    "    count2sum = 0\n",
    "    #for target in range(-10000,10001):\n",
    "    print(range(start, end))\n",
    "    for target in range(start, end):\n",
    "        print(\"Target: {}\".format(target))\n",
    "        gen = bsa.yield_array()  # this would yield\n",
    "        for _ in range(len(bsa)):\n",
    "            part1 = next(gen)\n",
    "            part2 = target - part1\n",
    "            part2_idx = bsa.binary_search(part2, array = None, offset = 0)\n",
    "            print(\"part2_idx: \".format(part2_idx))\n",
    "            if part2_idx != None:\n",
    "                count2sum += 1\n",
    "                print(\"sum: \".format(count2sum))\n",
    "    print(\"Number of 2-SUM for target values in range: {}\".format(count2sum))\n",
    "    q.put(count2sum)\n",
    "\n",
    "\n"
   ]
  },
  {
   "cell_type": "code",
   "execution_count": null,
   "metadata": {},
   "outputs": [],
   "source": [
    "threads = []\n",
    "#count_2sum = []\n",
    "#for i in range(5):\n",
    "total_count_2sum = 0\n",
    "q_count_2sum = Queue()\n",
    "t = threading.Thread(target=thread_worker, args=(-10000, -9997, q_count_2sum))\n",
    "threads.append(t)\n",
    "t.start()\n",
    "while not q_count_2sum.empty():\n",
    "    total_count_2sum += q_count_2sum.get()\n",
    "print(\"\\nTotal count: {}\".format(total_count_2sum))\n"
   ]
  },
  {
   "cell_type": "markdown",
   "metadata": {},
   "source": [
    "# XVI. BLOOM FILTERS \n",
    "Bloom filters are variant on hash tables. The win that you get in Bloom filters is that they are more space efficient than run of the mill hash tables and they're going to handle, they do allow for errors, there is a non zero false positive probability when you do look ups but that's still a win for some applications. \n",
    "\n",
    "So, the first drawback of the Bloom filter is that because we want to be so space efficient, we don't even want to remember the object itself just whether or not we've seen it before. We're not going to be able to store the objects or even pointers to the objects in a Bloom filter. We're just going to remember what we've seen and what we haven't. \n",
    "\n",
    "The second con is at least in the vanilla implementation of Bloom filters that I'm going to describe here, deletions are not allowed. You can only insert, you can't delete. The situation with deletions is very much similar to hash tables implemented with open addressing. It's not that you can't have a Bloom filter that accommodates deletion, you can, there are very instances of it but that requires significantly more work and we're not going to discuss it here. \n",
    "\n",
    "Now, the third con and this is a drawback that we have not see previously using any data structures is Bloom filters can actually make mistakes. Now, what kind of mistake could this kind of data structure possibly make when all you're really doing is looking something up. Well, one of mistake would be a false negative and that means you have inserted something previously then you look it up and the hash table or the Bloom filter says, it's not there. So, Bloom filters will not have false negatives of this form. You've insert something, you look it up later, it's definitely going to confirm that you inserted it in the past. But Bloom filters will have false positives, that means that despite the fact you have never inserted say, a given IP address into the, into the Bloom filter, if you look it up later, it will say that you have. So, there will sometimes be in some sense phantom objects in Bloom filters, objects which it thinks have been inserted even though they haven't been. \n",
    "\n",
    "***\n",
    "\n",
    "    Use Bloom filters where you either really care about space and/or you don't really care about this false positive probability. \n",
    "\n",
    "***\n",
    "##### Bloom Filter implementation\n",
    "\n",
    "So, like hash tables, Bloom filters have essentially two ingredients. First of all, there's an array and second of all, there's a hash function or in fact, several hash functions. So, we're going to have a random access array except, instead of having n buckets or n slots as we've been calling them, each entry in this array is just going to be a single bit. Each entry in this array can only take on two values, zero or one. And the way they think about the space occupied by Bloom filters is in terms of the number of bits per object that has been inserted into the Bloom filter. So, if you have inserted the data set capital S, then the total number of bits is n, the number of objects that have been inserted is cardinality of s. So, n / |s| is the number of bits in this data structure that you are using per entry in the data set. Now, you can tune a Bloom filter so this ratio is any number of different quantities but for now, I encourage you to think of this ratio as being eight, that is for each object stored in the Bloom Filter, you are using only eight bits of memory.\n",
    "\n",
    "So, in a Bloom filter, its important to have not one hash function, but several hash functions. So, k is going to denote the number of hash functions in the Bloom filter which you think of k is some small constant somewhere, you know, three, four, five, or something like that. So, obviously it's a little bit more complicated to use multiple hash functions as supposed to just one hash function. But it's really not that big of deal. So, we'll call from our discussion of say, universal hashing, we have identified the entire families of hash functions which will work well on average. So, instead of choosing just using one hash function at random from universal family, you gave me k independent random choices from universal family. In fact, in practice, it seems to typically be enough to just use two different hash functions and then generate k different linear combinations of those two hash functions. But for the purposes of this video, let's just assume that we've done enough work to come up with k, different good hash functions and that's what we're going to be using in our Bloom filter. \n",
    "\n",
    "So, let's start by insertion. So, suppose we have some new IP address and we want to stick into these Bloom filter, what we do? Well, we'll just evaluate each of our k hash functions on this new object. Each of those tells us an index into our array of bits and we'll just set those k bits equal to one. And when we do this insert, we don't even bother to look at what the previous values of these bits were.. So, zero or one, we don't care. We'll just blithely go in and set this k bits equal to one, whatever they were before. \n",
    "\n",
    "So, what about looking up? How are we going to implement that? Well, all you have to do is check for the footprint that was inevitably left by a prior insertion. So, if we're looking up an IP address and we know was inserted sometime in the past, what happened when we evaluated the k hash functions, we went t o appropriate positions in the array and we set all of those bits to one. So now, I'll just check that, that indeed happened, that is when we get a new IP address, we're looking it up. We evaluate the hash functions, all k of them. We look at the corresponding k positions and we verified that indeed those k bits have been set to one.\n",
    "\n",
    "##### False Positive\n",
    "\n",
    "So, what I hope is clear fairly quickly from inspecting this very elegant code is that we will not ever have false negatives, yet, we might have false positives. \n",
    "\n",
    "Notice when a bit is one, it remains one forevermore. That bits are never reset back to zero. So, if anything was ever inserted in the subs when we look it up, definitely we well confirm that all those bits are one. So, we're never going to be rejected by something we inserted before. On the other hand, it is totally possible that we will have a false positive. It's totally possible that there will be a phantom object and we'll do a look up and the Bloom filter will turn yes when we never inserted that object. \n"
   ]
  },
  {
   "cell_type": "code",
   "execution_count": 92,
   "metadata": {},
   "outputs": [],
   "source": [
    "import urllib3\n",
    "\n",
    "\n",
    "class Bloom_Filter:\n",
    "    from random import randint\n",
    "    import matplotlib.pyplot as plt\n",
    "    \n",
    "    #import numpy as np\n",
    "    \n",
    "    def __init__(self, size = 1000, hash_func_num = 5):\n",
    "        self.bloom_filter = [0] * size\n",
    "        self.hash_function_family = [[self.randint(1, size) for _ in range(0, 4)] for _ in range(0, hash_func_num)]\n",
    "        \n",
    "    def __repr__(self):\n",
    "        return str(self.bloom_filter)\n",
    "            \n",
    "    def __getitem__(self, index):\n",
    "        n = len(self.bloom_filter)\n",
    "        if n <= index:\n",
    "            return None\n",
    "        else:\n",
    "            return self.bloom_filter[index]\n",
    "    \n",
    "    def __setitem__(self, index, value):\n",
    "        self.bloom_filter[index] = value\n",
    "\n",
    "    def universal_hashing(self, element):\n",
    "        character_arr = list(element) \n",
    "        ord_arr = [ord(i) for i in character_arr]\n",
    "        # bloom_filter using a family of hash functions\n",
    "        # our family of hash functions has to choose 4 random number from 1 to 1000 as we have n = 1000 = number of buckets\n",
    "        # thus our random hash function is equivalent to the gold standard of uniform random variable that\n",
    "        # would've chosen an index in the array of size 1000 \n",
    "        len25 = len(ord_arr) // 4\n",
    "        dot_sum_ord = 0\n",
    "        index = []\n",
    "        for hash_func in self.hash_function_family:\n",
    "            for piece in range(len(hash_func)):\n",
    "                dot_sum_ord += hash_func[piece] * sum(ord_arr[piece*len25:(piece+1)*len25]) \n",
    "                index.append(dot_sum_ord % 997)  # avoiding 2 or 10 and using prime close to n = 1000 = number of buckets\n",
    "        return index\n",
    "            \n",
    "            \n",
    "    def insert(self, element):\n",
    "        index = self.universal_hashing(element)\n",
    "        for i in index:\n",
    "            self.bloom_filter[i] = 1\n",
    "            \n",
    "            \n",
    "    def lookup(self, element):\n",
    "        index = self.universal_hashing(element)\n",
    "        value = [self.bloom_filter[i] for i in index]\n",
    "        if 0 in value:\n",
    "            return False\n",
    "        else:\n",
    "            return True\n",
    "        \n",
    "        \n",
    "    def _load_index(self, index):\n",
    "        if self.bloom_filter[index] == None:\n",
    "            return 0\n",
    "        else:\n",
    "            return 1\n",
    "        \n",
    "    \n",
    "    def load_visualize(self):\n",
    "        index = range(len(self.bloom_filter))\n",
    "        load = [self._load_index(i) for i in index]\n",
    "        self.plt.bar(index, load)\n",
    "        self.plt.xlabel('Hash table Indices', fontsize=5)\n",
    "        self.plt.ylabel('Load', fontsize=5)\n",
    "        #self.plt.xticks(index, label, fontsize=5, rotation=30)\n",
    "        self.plt.title('Hash table Load Visualization')\n",
    "        self.plt.show()\n",
    "    \n",
    "\n",
    "\n"
   ]
  },
  {
   "cell_type": "markdown",
   "metadata": {},
   "source": [
    "#### Testcases Bloom Filter\n",
    "1. \n",
    "Keep bloom filter size = 1000 & num of hash functions = 2 = ln 2 * b ≈ 2.408 and then check the false positive count.<br>\n",
    "Here we are inserting only 100 of 500 usernames in the bloom filter."
   ]
  },
  {
   "cell_type": "code",
   "execution_count": 155,
   "metadata": {},
   "outputs": [
    {
     "name": "stderr",
     "output_type": "stream",
     "text": [
      "/Users/aishwaya/anaconda2/lib/python2.7/site-packages/urllib3/connectionpool.py:858: InsecureRequestWarning: Unverified HTTPS request is being made. Adding certificate verification is strongly advised. See: https://urllib3.readthedocs.io/en/latest/advanced-usage.html#ssl-warnings\n",
      "  InsecureRequestWarning)\n"
     ]
    },
    {
     "name": "stdout",
     "output_type": "stream",
     "text": [
      "Total False Positives: 9/400 = 0.0225\n"
     ]
    },
    {
     "data": {
      "image/png": "[encoded data removed]",
      "text/plain": [
       "<matplotlib.figure.Figure at 0x11c926e50>"
      ]
     },
     "metadata": {},
     "output_type": "display_data"
    }
   ],
   "source": [
    "import random\n",
    "\n",
    "bloom_filter_obj = Bloom_Filter(1000, hash_func_num = 2)\n",
    "\n",
    "# insert api\n",
    "http = urllib3.PoolManager()\n",
    "r1 = http.request('GET', \"https://raw.githubusercontent.com/aishwarya34/AlgorithmsIlluminated/master/500_twitch_usernames.txt\")\n",
    "IntegerMatrixStringJoin = r1.data.split('\\n')\n",
    "IntegerMatrixStringJoin = IntegerMatrixStringJoin[:-1]\n",
    "random.shuffle(IntegerMatrixStringJoin)\n",
    "\n",
    "cut = 100\n",
    "list_1 = IntegerMatrixStringJoin[:cut]\n",
    "list_2 = IntegerMatrixStringJoin[cut:]\n",
    "for username in list_1:\n",
    "    bloom_filter_obj.insert(username)\n",
    "    \n",
    "# lookup api   to check false positives on usernames not inserted into the bloom filter   \n",
    "false_positive = 0\n",
    "for li in list_2:\n",
    "    false_positive += bloom_filter_obj.lookup(li)\n",
    "print(\"Total False Positives: {}/400 = {}\".format(false_positive, false_positive/400.0))\n",
    "\n",
    "bloom_filter_obj.load_visualize()\n",
    "        "
   ]
  },
  {
   "cell_type": "markdown",
   "metadata": {},
   "source": [
    "2.)\n",
    "Keep bloom filter size = 1000 & num of hash functions = 5 and then check the false positive count.<br>\n",
    "Here we are inserting only 100 of 500 usernames in the bloom filter."
   ]
  },
  {
   "cell_type": "code",
   "execution_count": 93,
   "metadata": {},
   "outputs": [
    {
     "name": "stdout",
     "output_type": "stream",
     "text": [
      "[1, 1, 1, 1, 0, 1, 1, 1, 1, 1, 1, 1, 1, 1, 1, 1, 1, 1, 1, 1, 1, 1, 1, 1, 1, 1, 1, 0, 1, 1, 1, 1, 1, 1, 0, 1, 1, 1, 1, 0, 1, 1, 1, 1, 0, 0, 1, 1, 1, 1, 0, 1, 1, 1, 1, 1, 1, 1, 1, 1, 1, 1, 1, 1, 1, 0, 1, 1, 1, 0, 1, 0, 1, 1, 1, 1, 0, 0, 1, 1, 1, 1, 1, 1, 1, 0, 1, 1, 1, 1, 1, 1, 1, 0, 1, 1, 0, 0, 1, 1, 1, 1, 1, 1, 1, 1, 1, 1, 1, 1, 1, 1, 1, 1, 1, 1, 1, 1, 1, 1, 1, 1, 1, 1, 1, 1, 1, 1, 1, 1, 1, 1, 1, 1, 1, 1, 1, 1, 1, 1, 0, 1, 1, 1, 1, 1, 0, 1, 1, 0, 1, 0, 0, 1, 1, 1, 1, 0, 1, 1, 1, 1, 0, 1, 1, 0, 1, 1, 1, 1, 1, 1, 1, 1, 1, 1, 1, 1, 1, 1, 1, 1, 1, 1, 1, 1, 1, 1, 1, 0, 0, 1, 1, 1, 1, 0, 1, 1, 1, 1, 1, 1, 1, 0, 1, 1, 1, 1, 1, 1, 1, 0, 1, 1, 1, 1, 1, 1, 1, 1, 1, 1, 1, 1, 1, 1, 1, 1, 1, 1, 1, 1, 1, 1, 0, 1, 1, 1, 1, 1, 1, 0, 1, 0, 1, 1, 1, 1, 1, 1, 1, 0, 1, 1, 1, 1, 1, 1, 1, 0, 0, 1, 1, 1, 1, 0, 0, 0, 1, 1, 0, 0, 1, 1, 0, 1, 1, 1, 1, 1, 0, 1, 1, 1, 0, 1, 1, 1, 1, 0, 1, 1, 1, 1, 1, 0, 1, 1, 0, 1, 1, 0, 1, 1, 1, 1, 0, 1, 1, 1, 0, 1, 1, 1, 1, 0, 1, 0, 1, 1, 0, 1, 0, 1, 1, 1, 1, 1, 1, 1, 1, 1, 0, 1, 1, 1, 1, 1, 0, 1, 1, 1, 1, 1, 1, 1, 0, 1, 1, 1, 1, 1, 0, 1, 1, 1, 1, 1, 1, 1, 1, 1, 0, 1, 1, 0, 1, 1, 1, 1, 1, 1, 1, 1, 1, 0, 1, 1, 1, 1, 1, 1, 1, 1, 0, 1, 0, 1, 1, 1, 1, 1, 0, 1, 0, 1, 1, 0, 1, 1, 1, 1, 0, 0, 1, 1, 1, 0, 0, 0, 0, 1, 1, 1, 1, 1, 1, 0, 1, 0, 1, 1, 1, 1, 1, 1, 1, 1, 1, 1, 1, 1, 1, 0, 1, 1, 1, 1, 1, 1, 0, 1, 1, 1, 1, 1, 0, 1, 1, 0, 1, 1, 1, 1, 1, 1, 1, 1, 0, 1, 1, 1, 1, 1, 1, 1, 1, 1, 1, 1, 1, 1, 1, 1, 1, 1, 1, 1, 0, 1, 1, 1, 0, 1, 1, 1, 1, 1, 1, 1, 1, 1, 1, 1, 0, 1, 1, 1, 0, 1, 1, 1, 1, 1, 0, 1, 1, 0, 1, 1, 1, 0, 1, 1, 1, 0, 1, 1, 1, 0, 1, 1, 1, 1, 1, 1, 1, 1, 1, 1, 1, 1, 0, 0, 1, 1, 1, 1, 1, 1, 1, 1, 1, 1, 1, 1, 1, 1, 1, 1, 1, 1, 0, 1, 1, 1, 1, 1, 1, 0, 0, 1, 0, 1, 1, 1, 0, 1, 1, 1, 1, 1, 1, 1, 1, 1, 1, 1, 0, 1, 1, 1, 1, 1, 1, 1, 1, 1, 1, 1, 1, 0, 0, 1, 1, 1, 0, 1, 1, 1, 1, 1, 1, 1, 1, 1, 1, 1, 1, 1, 1, 1, 1, 1, 1, 1, 1, 1, 1, 0, 1, 1, 0, 1, 1, 1, 1, 1, 1, 1, 1, 1, 1, 1, 1, 1, 0, 1, 1, 1, 1, 1, 1, 1, 1, 1, 1, 1, 0, 1, 1, 1, 1, 1, 1, 1, 1, 0, 1, 1, 1, 1, 1, 1, 1, 1, 1, 1, 1, 1, 1, 1, 1, 1, 1, 1, 1, 1, 1, 1, 1, 1, 1, 0, 1, 1, 1, 0, 1, 1, 1, 1, 1, 0, 1, 0, 1, 1, 1, 0, 1, 1, 1, 1, 1, 1, 0, 1, 1, 1, 1, 1, 1, 1, 1, 1, 1, 1, 1, 1, 1, 1, 1, 1, 1, 0, 1, 0, 1, 1, 1, 1, 0, 1, 1, 1, 1, 1, 1, 1, 1, 1, 1, 1, 0, 1, 1, 1, 1, 1, 1, 1, 1, 1, 0, 1, 1, 1, 1, 1, 0, 1, 1, 1, 0, 1, 0, 1, 1, 0, 1, 0, 1, 1, 1, 1, 1, 1, 1, 1, 1, 0, 1, 1, 1, 0, 0, 1, 1, 1, 1, 1, 1, 1, 1, 1, 1, 1, 1, 1, 1, 1, 1, 1, 1, 1, 1, 1, 1, 1, 1, 1, 0, 1, 0, 1, 1, 1, 1, 1, 1, 1, 1, 1, 0, 1, 1, 1, 1, 1, 1, 1, 1, 0, 1, 1, 1, 1, 1, 1, 1, 1, 1, 1, 1, 1, 1, 1, 1, 1, 1, 1, 1, 1, 1, 1, 1, 1, 1, 1, 1, 1, 0, 1, 1, 1, 1, 0, 1, 1, 1, 1, 1, 1, 1, 1, 1, 1, 0, 1, 1, 1, 1, 1, 1, 1, 1, 0, 1, 1, 0, 1, 1, 1, 1, 1, 1, 1, 1, 1, 1, 1, 1, 1, 1, 1, 1, 1, 1, 1, 1, 0, 1, 0, 0, 1, 1, 1, 0, 0, 1, 1, 1, 1, 1, 1, 1, 1, 0, 0, 0, 1, 1, 1, 1, 1, 1, 0, 1, 1, 1, 1, 1, 1, 1, 1, 0, 1, 1, 1, 1, 1, 1, 1, 1, 0, 1, 1, 1, 1, 1, 1, 1, 1, 1, 1, 1, 1, 1, 1, 0, 1, 1, 0, 1, 1, 0, 1, 1, 1, 1, 0, 1, 1, 0, 1, 1, 1, 1, 1, 1, 1, 1, 0, 1, 1, 1, 0, 0, 0]\n"
     ]
    },
    {
     "name": "stderr",
     "output_type": "stream",
     "text": [
      "/Users/aishwaya/anaconda2/lib/python2.7/site-packages/urllib3/connectionpool.py:858: InsecureRequestWarning: Unverified HTTPS request is being made. Adding certificate verification is strongly advised. See: https://urllib3.readthedocs.io/en/latest/advanced-usage.html#ssl-warnings\n",
      "  InsecureRequestWarning)\n"
     ]
    }
   ],
   "source": [
    "import random\n",
    "\n",
    "bloom_filter_obj = Bloom_Filter(1000)\n",
    "\n",
    "# insert api\n",
    "http = urllib3.PoolManager()\n",
    "r1 = http.request('GET', \"https://raw.githubusercontent.com/aishwarya34/AlgorithmsIlluminated/master/500_twitch_usernames.txt\")\n",
    "IntegerMatrixStringJoin = r1.data.split('\\n')\n",
    "IntegerMatrixStringJoin = IntegerMatrixStringJoin[:-1]\n",
    "random.shuffle(IntegerMatrixStringJoin)\n",
    "\n",
    "cut = 100\n",
    "list_1 = IntegerMatrixStringJoin[:cut]\n",
    "list_2 = IntegerMatrixStringJoin[cut:]\n",
    "for username in list_1:\n",
    "    bloom_filter_obj.insert(username)\n",
    "        "
   ]
  },
  {
   "cell_type": "code",
   "execution_count": 96,
   "metadata": {},
   "outputs": [
    {
     "name": "stdout",
     "output_type": "stream",
     "text": [
      "Total False Positives: 28/400 = 0.07\n"
     ]
    }
   ],
   "source": [
    "# lookup api   to check false positives on usernames not inserted into the bloom filter   \n",
    "false_positive = 0\n",
    "for li in list_2:\n",
    "    false_positive += bloom_filter_obj.lookup(li)\n",
    "print(\"Total False Positives: {}/400 = {}\".format(false_positive, false_positive/400.0))\n",
    "\n"
   ]
  },
  {
   "cell_type": "code",
   "execution_count": 97,
   "metadata": {},
   "outputs": [
    {
     "data": {
      "image/png": "[encoded data removed]",
      "text/plain": [
       "<matplotlib.figure.Figure at 0x11c033250>"
      ]
     },
     "metadata": {},
     "output_type": "display_data"
    }
   ],
   "source": [
    "bloom_filter_obj.load_visualize()"
   ]
  },
  {
   "cell_type": "markdown",
   "metadata": {},
   "source": [
    "3) Keep bloom filter size = 1000 & num of hash functions = 6 and then check the false positive count.<br>\n",
    "    Here we are inserting only 100 of 500 usernames in the bloom filter.<br>\n",
    "    We see that the number of false positive have increased"
   ]
  },
  {
   "cell_type": "code",
   "execution_count": 100,
   "metadata": {},
   "outputs": [
    {
     "name": "stderr",
     "output_type": "stream",
     "text": [
      "/Users/aishwaya/anaconda2/lib/python2.7/site-packages/urllib3/connectionpool.py:858: InsecureRequestWarning: Unverified HTTPS request is being made. Adding certificate verification is strongly advised. See: https://urllib3.readthedocs.io/en/latest/advanced-usage.html#ssl-warnings\n",
      "  InsecureRequestWarning)\n"
     ]
    },
    {
     "name": "stdout",
     "output_type": "stream",
     "text": [
      "Total False Positives: 31/400 = 0.0775\n"
     ]
    },
    {
     "data": {
      "image/png": "[encoded data removed]",
      "text/plain": [
       "<matplotlib.figure.Figure at 0x117d6e850>"
      ]
     },
     "metadata": {},
     "output_type": "display_data"
    }
   ],
   "source": [
    "import random\n",
    "\n",
    "bloom_filter_obj = Bloom_Filter(1000, hash_func_num = 6)\n",
    "\n",
    "# insert api\n",
    "http = urllib3.PoolManager()\n",
    "r1 = http.request('GET', \"https://raw.githubusercontent.com/aishwarya34/AlgorithmsIlluminated/master/500_twitch_usernames.txt\")\n",
    "IntegerMatrixStringJoin = r1.data.split('\\n')\n",
    "IntegerMatrixStringJoin = IntegerMatrixStringJoin[:-1]\n",
    "random.shuffle(IntegerMatrixStringJoin)\n",
    "\n",
    "cut = 100\n",
    "list_1 = IntegerMatrixStringJoin[:cut]\n",
    "list_2 = IntegerMatrixStringJoin[cut:]\n",
    "for username in list_1:\n",
    "    bloom_filter_obj.insert(username)\n",
    "    \n",
    "# lookup api   to check false positives on usernames not inserted into the bloom filter   \n",
    "false_positive = 0\n",
    "for li in list_2:\n",
    "    false_positive += bloom_filter_obj.lookup(li)\n",
    "print(\"Total False Positives: {}/400 = {}\".format(false_positive, false_positive/400.0))\n",
    "\n",
    "bloom_filter_obj.load_visualize()\n",
    "        "
   ]
  },
  {
   "cell_type": "markdown",
   "metadata": {},
   "source": [
    "4) Keep bloom filter size = 2000 & num of hash functions = 5 and then check the false positive count.<br>\n",
    "    Here we are inserting only 100 of 500 usernames in the bloom filter. <br>\n",
    "    We see that the number of false positive have decreased"
   ]
  },
  {
   "cell_type": "code",
   "execution_count": 104,
   "metadata": {},
   "outputs": [
    {
     "name": "stderr",
     "output_type": "stream",
     "text": [
      "/Users/aishwaya/anaconda2/lib/python2.7/site-packages/urllib3/connectionpool.py:858: InsecureRequestWarning: Unverified HTTPS request is being made. Adding certificate verification is strongly advised. See: https://urllib3.readthedocs.io/en/latest/advanced-usage.html#ssl-warnings\n",
      "  InsecureRequestWarning)\n"
     ]
    },
    {
     "name": "stdout",
     "output_type": "stream",
     "text": [
      "Total False Positives: 21/400 = 0.0525\n"
     ]
    },
    {
     "data": {
      "image/png": "[encoded data removed]",
      "text/plain": [
       "<matplotlib.figure.Figure at 0x10fd86450>"
      ]
     },
     "metadata": {},
     "output_type": "display_data"
    }
   ],
   "source": [
    "import random\n",
    "\n",
    "bloom_filter_obj = Bloom_Filter(size = 2000, hash_func_num = 5)\n",
    "\n",
    "# insert api\n",
    "http = urllib3.PoolManager()\n",
    "r1 = http.request('GET', \"https://raw.githubusercontent.com/aishwarya34/AlgorithmsIlluminated/master/500_twitch_usernames.txt\")\n",
    "IntegerMatrixStringJoin = r1.data.split('\\n')\n",
    "IntegerMatrixStringJoin = IntegerMatrixStringJoin[:-1]\n",
    "random.shuffle(IntegerMatrixStringJoin)\n",
    "\n",
    "cut = 100\n",
    "list_1 = IntegerMatrixStringJoin[:cut]\n",
    "list_2 = IntegerMatrixStringJoin[cut:]\n",
    "for username in list_1:\n",
    "    bloom_filter_obj.insert(username)\n",
    "    \n",
    "# lookup api   to check false positives on usernames not inserted into the bloom filter   \n",
    "false_positive = 0\n",
    "for li in list_2:\n",
    "    false_positive += bloom_filter_obj.lookup(li)\n",
    "print(\"Total False Positives: {}/400 = {}\".format(false_positive, false_positive/400.0))\n",
    "\n",
    "bloom_filter_obj.load_visualize()\n",
    "        "
   ]
  },
  {
   "cell_type": "markdown",
   "metadata": {},
   "source": [
    "5) Keep bloom filter size = 1000 & num of hash functions = 5 and then check the false positive count.<br>\n",
    "    Here we are inserting only 200 of 500 usernames in the bloom filter. <br>\n",
    "    We see that the number of false positive have increased dramatically"
   ]
  },
  {
   "cell_type": "code",
   "execution_count": 106,
   "metadata": {},
   "outputs": [
    {
     "name": "stderr",
     "output_type": "stream",
     "text": [
      "/Users/aishwaya/anaconda2/lib/python2.7/site-packages/urllib3/connectionpool.py:858: InsecureRequestWarning: Unverified HTTPS request is being made. Adding certificate verification is strongly advised. See: https://urllib3.readthedocs.io/en/latest/advanced-usage.html#ssl-warnings\n",
      "  InsecureRequestWarning)\n"
     ]
    },
    {
     "name": "stdout",
     "output_type": "stream",
     "text": [
      "Total False Positives: 206/400 = 0.515\n"
     ]
    },
    {
     "data": {
      "image/png": "[encoded data removed]",
      "text/plain": [
       "<matplotlib.figure.Figure at 0x11c203a50>"
      ]
     },
     "metadata": {},
     "output_type": "display_data"
    }
   ],
   "source": [
    "import random\n",
    "\n",
    "bloom_filter_obj = Bloom_Filter(size = 1000, hash_func_num = 5)\n",
    "\n",
    "# insert api\n",
    "http = urllib3.PoolManager()\n",
    "r1 = http.request('GET', \"https://raw.githubusercontent.com/aishwarya34/AlgorithmsIlluminated/master/500_twitch_usernames.txt\")\n",
    "IntegerMatrixStringJoin = r1.data.split('\\n')\n",
    "IntegerMatrixStringJoin = IntegerMatrixStringJoin[:-1]\n",
    "random.shuffle(IntegerMatrixStringJoin)\n",
    "\n",
    "cut = 200\n",
    "list_1 = IntegerMatrixStringJoin[:cut]\n",
    "list_2 = IntegerMatrixStringJoin[cut:]\n",
    "for username in list_1:\n",
    "    bloom_filter_obj.insert(username)\n",
    "    \n",
    "# lookup api   to check false positives on usernames not inserted into the bloom filter   \n",
    "false_positive = 0\n",
    "for li in list_2:\n",
    "    false_positive += bloom_filter_obj.lookup(li)\n",
    "print(\"Total False Positives: {}/400 = {}\".format(false_positive, false_positive/400.0))\n",
    "\n",
    "bloom_filter_obj.load_visualize()\n",
    "        "
   ]
  },
  {
   "cell_type": "code",
   "execution_count": null,
   "metadata": {},
   "outputs": [],
   "source": []
  }
 ],
 "metadata": {
  "kernelspec": {
   "display_name": "Python 3",
   "language": "python",
   "name": "python3"
  },
  "language_info": {
   "codemirror_mode": {
    "name": "ipython",
    "version": 3
   },
   "file_extension": ".py",
   "mimetype": "text/x-python",
   "name": "python",
   "nbconvert_exporter": "python",
   "pygments_lexer": "ipython3",
   "version": "3.6.8"
  }
 },
 "nbformat": 4,
 "nbformat_minor": 2
}
