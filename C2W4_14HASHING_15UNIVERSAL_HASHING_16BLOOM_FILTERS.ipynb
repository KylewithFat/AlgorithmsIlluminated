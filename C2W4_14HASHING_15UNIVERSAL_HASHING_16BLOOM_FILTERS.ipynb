{
 "cells": [
  {
   "cell_type": "markdown",
   "metadata": {},
   "source": [
    "# XIV. HASHING: THE BASICS \n",
    "You can think about the purpose of the hash table is to maintain a possibly evolving set of things. Where of course the set of things that you're maintaining, you know, will vary with the application. It can be any number of things. So if you're running an e-commerce website, maybe you're keeping track of transactions. You know, again, maybe you're keeping track of people, like for example, your friends and various data about them. So maybe you're keeping track of I-P addresses, for example if you wanna know, who was, were there unique visitors to your websites. And so on. So a little bit more formally, you know, the basic operations, you need to be able to insert stuff into a hash table. In many, but not all applications, you need to be able to delete stuff as well. And typically the most important operation is look-up. And for all these three operation you do it in a key based way. Where as usual a key should just be a unique identifier for the record that you're concerned with.\n",
    "\n",
    "The caveat is that, unlike most of the problems that we've solved in this course, hash tables don't enjoy worst case guarantees. You cannot say for a given hash table that for every possible data set you're gonna get cost and time. What's true is that for non-pathological data, you will get cost and time operations in a properly implemented hash table.\n",
    "\n",
    "***\n",
    "##### Properties of Hash function:\n",
    "1. Should lead to good performance (i.e. should spread data out)\n",
    "2. Should be easy to evaluate / fast to calculate\n",
    "<br>\n",
    " And in particular good hash functions that have the two properties we identified above. But I have to warn you, if you ask ten different, you know, serious hardcore programmers, you know, about their approach to designing hash functions, you're likely to get ten somewhat different answers. So the design of hash functions is a tricky topic, and, it's as much art as science at this point.\n",
    "*** \n",
    "\n",
    "##### Resolving Collisions: \n",
    "    1. Chaining  \n",
    "    2. Open addressing(linear probing and double hashing)\n",
    "    \n",
    "***\n",
    "##### linear probing\n",
    "In linear probing, even in a best case scenario, it's going to be subject to clumping. You're going to have contiguous Groups of slots which are all full, and that's because of the linear probing strategy. \n",
    "\n",
    "***\n",
    "\n",
    "## Quick and Dirty Hash Function\n",
    "In particular if you just need a hash function, and you need a quick and dirty one, you don't want to spend too much time on it. The method that I'm going to talk about below is a common way of doing it. On the other hand, if you're designing a hash function for some really mission-critical code, you should learn more than what I'm gonna tell you about below. So you, you should do more research about what are the best hash functions, what's the state of the art, if you have a super important hash function.\n",
    "\n",
    "There are standard methods for doing that, it's easy to find resources to, to give you example code for converting strings to integers you know, I'll just say one or two sentences about it. So you know each character in a string it is easy to regard as a number in various ways. Either you know just say it is ASCII, well ASCII code then you just have to aggregate all of the different numbers, one number per character into some overall number and so one thing you can do is you can iterate over the characters one at a time. You can keep a running sum. And with each character, you can multiply the running sum by some constant, and then add the new letter to it, and then, if you need to, take a module list to prevent overflow.\n",
    "\n",
    "![Quick and Dirty Hash Function](images/4_quick_and_dirty_hash_function.png)\n",
    "\n",
    "\n",
    "# XV. UNIVERSAL HASHING \n",
    "If we have our set h that we know exactly what it is. What does it mean that it's universal? It means for each pair of distinct keys, for example for each pair of IP addresses, the probability that a random hash function from our family script h causes a collision, maps these two IP addresses to the same bucket should be no worse than with perfectly random hashing. So no worse than 1/n where n is the number of buckets, say like 997.\n",
    "So  if you draw a hash function uniformly at random from a universal family of hash functions, then you're guaranteed expected constant time for all of the supported operations. \n",
    "\n",
    "![UNIVERSAL HASHING](images/5_universal_hashing.png)\n",
    "\n",
    "\n",
    "So hash tables support various operations, Insert, Delete and Lookup. But really if we can just bound a running time of an unsuccessful lookup, that's going to be enough to bound the running time of all of these operations. \n",
    "\n",
    "So, as long as you have a hash function which you can compute quickly in constant time. And as long as you keep the load under control so the number of buckets is commensurate with the size of the data set that you're storing. That's why, universal hash functions in a hash table with chaining guarantee expected constant time performance.\n",
    "\n",
    "***\n",
    "\n",
    "Below we have implemented hash table datastructure using universal hashing using Chaining to resolve collision"
   ]
  },
  {
   "cell_type": "code",
   "execution_count": 78,
   "metadata": {},
   "outputs": [],
   "source": [
    "import urllib3\n",
    "\n",
    "\n",
    "class Hash_Table_chaining:\n",
    "    from random import randint\n",
    "    import matplotlib.pyplot as plt\n",
    "    \n",
    "    #import numpy as np\n",
    "    \n",
    "    def __init__(self, size = 1000):\n",
    "        self.hash_table = [None] * size\n",
    "        self.random_nos = [self.randint(1, size) for _ in range(0, 4)]\n",
    "        \n",
    "    def __repr__(self):\n",
    "        return str(self.hash_table)\n",
    "            \n",
    "    def __getitem__(self, index):\n",
    "        n = len(self.hash_table)\n",
    "        if n <= index:\n",
    "            return None\n",
    "        else:\n",
    "            return self.hash_table[index]\n",
    "    \n",
    "    def __setitem__(self, index, value):\n",
    "        self.hash_table[index] = value\n",
    "\n",
    "    def universal_hashing(self, element):\n",
    "        character_arr = list(element) \n",
    "        ord_arr = [ord(i) for i in character_arr]\n",
    "        # universal hashing using random choice from a family of hash functions\n",
    "        # our family of hash functions has to choose 4 random number from 1 to 1000 as we have n = 1000 = number of buckets\n",
    "        # thus our random hash function is equivalent to the gold standard of uniform random variable that\n",
    "        # would've chosen an index in the array of size 1000 \n",
    "        len25 = len(ord_arr) // 4\n",
    "        dot_sum_ord = 0\n",
    "        index = None\n",
    "        for piece in range(len(self.random_nos)):\n",
    "            dot_sum_ord += self.random_nos[piece] * sum(ord_arr[piece*len25:(piece+1)*len25]) \n",
    "            index = dot_sum_ord % 997  # avoiding 2 or 10 and using prime close to n = 1000 = number of buckets\n",
    "        return index\n",
    "            \n",
    "            \n",
    "    def insert(self, element):\n",
    "        index = self.universal_hashing(element)\n",
    "        if self.hash_table[index] == None:\n",
    "            self.hash_table[index] = [element]\n",
    "        else:\n",
    "            self.hash_table[index].append(element)\n",
    "            \n",
    "            \n",
    "    def lookup(self, element):\n",
    "        index = self.universal_hashing(element)\n",
    "        if self.hash_table[index] == None:\n",
    "            return None\n",
    "        elif element not in self.hash_table[index]:\n",
    "            return None\n",
    "        else:\n",
    "            return index\n",
    "        \n",
    "    def delete(self, element):\n",
    "        index = self.universal_hashing(element)\n",
    "        if self.hash_table[index] == None:\n",
    "            return None\n",
    "        elif element not in self.hash_table[index]:\n",
    "            return None\n",
    "        else:\n",
    "            self.hash_table[index].remove(element)\n",
    "            return index\n",
    "        \n",
    "        \n",
    "    def _load_index(self, index):\n",
    "        if self.hash_table[index] == None:\n",
    "            return 0\n",
    "        else:\n",
    "            return len(self.hash_table[index])\n",
    "        \n",
    "    \n",
    "    def load_visualize(self):\n",
    "        index = range(len(self.hash_table))\n",
    "        load = [self._load_index(i) for i in index]\n",
    "        self.plt.bar(index, load)\n",
    "        self.plt.xlabel('Hash table Indices', fontsize=5)\n",
    "        self.plt.ylabel('Load', fontsize=5)\n",
    "        #self.plt.xticks(index, label, fontsize=5, rotation=30)\n",
    "        self.plt.title('Hash table Load Visualization')\n",
    "        self.plt.show()\n",
    "    \n"
   ]
  },
  {
   "cell_type": "code",
   "execution_count": 79,
   "metadata": {},
   "outputs": [
    {
     "name": "stdout",
     "output_type": "stream",
     "text": [
      "Element 'watermelonfarmers' found at index : 201\n"
     ]
    },
    {
     "name": "stderr",
     "output_type": "stream",
     "text": [
      "/Users/aishwaya/anaconda2/lib/python2.7/site-packages/urllib3/connectionpool.py:858: InsecureRequestWarning: Unverified HTTPS request is being made. Adding certificate verification is strongly advised. See: https://urllib3.readthedocs.io/en/latest/advanced-usage.html#ssl-warnings\n",
      "  InsecureRequestWarning)\n"
     ]
    }
   ],
   "source": [
    "hash_table_obj = Hash_Table_chaining(1000)\n",
    "\n",
    "# insert api\n",
    "http = urllib3.PoolManager()\n",
    "r1 = http.request('GET', \"https://raw.githubusercontent.com/aishwarya34/AlgorithmsIlluminated/master/500_twitch_usernames.txt\")\n",
    "IntegerMatrixStringJoin = r1.data.split('\\n')\n",
    "IntegerMatrixStringJoin = IntegerMatrixStringJoin[:-1]\n",
    "for username in IntegerMatrixStringJoin:\n",
    "    hash_table_obj.insert(username)\n",
    "        \n",
    "# lookup api        \n",
    "#print(hash_table_obj)\n",
    "print(\"Element \\'watermelonfarmers\\' found at index : {}\".format(hash_table_obj.lookup('watermelonfarmers')))"
   ]
  },
  {
   "cell_type": "code",
   "execution_count": 81,
   "metadata": {},
   "outputs": [
    {
     "name": "stdout",
     "output_type": "stream",
     "text": [
      "None\n",
      "None\n",
      "['watermelonfarmers']\n"
     ]
    }
   ],
   "source": [
    "# __getitem__ and __setitem__\n",
    "print(hash_table_obj[0])\n",
    "hash_table_obj[0] = None\n",
    "print(hash_table_obj[0])\n",
    "print(hash_table_obj[201])"
   ]
  },
  {
   "cell_type": "code",
   "execution_count": 82,
   "metadata": {},
   "outputs": [
    {
     "name": "stdout",
     "output_type": "stream",
     "text": [
      "Element 'watermelonfarmers' found at index : 201\n",
      " 'watermelonfarmers' deleted at index : 201\n",
      "Element 'watermelonfarmers' found at index : None\n"
     ]
    }
   ],
   "source": [
    "# delete api\n",
    "print(\"Element \\'watermelonfarmers\\' found at index : {}\".format(hash_table_obj.lookup('watermelonfarmers')))\n",
    "print(\" \\'watermelonfarmers\\' deleted at index : {}\".format(hash_table_obj.delete('watermelonfarmers')))\n",
    "print(\"Element \\'watermelonfarmers\\' found at index : {}\".format(hash_table_obj.lookup('watermelonfarmers')))"
   ]
  },
  {
   "cell_type": "markdown",
   "metadata": {},
   "source": [
    "### You can see below the minimum load is 0 and maximum load is 5"
   ]
  },
  {
   "cell_type": "code",
   "execution_count": 83,
   "metadata": {},
   "outputs": [
    {
     "data": {
      "image/png": "[encoded data removed]",
      "text/plain": [
       "<matplotlib.figure.Figure at 0x11c855610>"
      ]
     },
     "metadata": {},
     "output_type": "display_data"
    }
   ],
   "source": [
    "hash_table_obj.load_visualize()"
   ]
  },
  {
   "cell_type": "markdown",
   "metadata": {},
   "source": [
    "# XVI. BLOOM FILTERS \n",
    "Bloom filters are variant on hash tables. The win that you get in Bloom filters is that they are more space efficient than run of the mill hash tables and they're going to handle, they do allow for errors, there is a non zero false positive probability when you do look ups but that's still a win for some applications. \n",
    "\n",
    "So, the first drawback of the Bloom filter is that because we want to be so space efficient, we don't even want to remember the object itself just whether or not we've seen it before. We're not going to be able to store the objects or even pointers to the objects in a Bloom filter. We're just going to remember what we've seen and what we haven't. \n",
    "\n",
    "The second con is at least in the vanilla implementation of Bloom filters that I'm going to describe here, deletions are not allowed. You can only insert, you can't delete. The situation with deletions is very much similar to hash tables implemented with open addressing. It's not that you can't have a Bloom filter that accommodates deletion, you can, there are very instances of it but that requires significantly more work and we're not going to discuss it here. \n",
    "\n",
    "Now, the third con and this is a drawback that we have not see previously using any data structures is Bloom filters can actually make mistakes. Now, what kind of mistake could this kind of data structure possibly make when all you're really doing is looking something up. Well, one of mistake would be a false negative and that means you have inserted something previously then you look it up and the hash table or the Bloom filter says, it's not there. So, Bloom filters will not have false negatives of this form. You've insert something, you look it up later, it's definitely going to confirm that you inserted it in the past. But Bloom filters will have false positives, that means that despite the fact you have never inserted say, a given IP address into the, into the Bloom filter, if you look it up later, it will say that you have. So, there will sometimes be in some sense phantom objects in Bloom filters, objects which it thinks have been inserted even though they haven't been. \n",
    "\n",
    "***\n",
    "\n",
    "    Use Bloom filters where you either really care about space and/or you don't really care about this false positive probability. \n",
    "\n",
    "***\n",
    "##### Bloom Filter implementation\n",
    "\n",
    "So, like hash tables, Bloom filters have essentially two ingredients. First of all, there's an array and second of all, there's a hash function or in fact, several hash functions. So, we're going to have a random access array except, instead of having n buckets or n slots as we've been calling them, each entry in this array is just going to be a single bit. Each entry in this array can only take on two values, zero or one. And the way they think about the space occupied by Bloom filters is in terms of the number of bits per object that has been inserted into the Bloom filter. So, if you have inserted the data set capital S, then the total number of bits is n, the number of objects that have been inserted is cardinality of s. So, n / |s| is the number of bits in this data structure that you are using per entry in the data set. Now, you can tune a Bloom filter so this ratio is any number of different quantities but for now, I encourage you to think of this ratio as being eight, that is for each object stored in the Bloom Filter, you are using only eight bits of memory.\n",
    "\n",
    "So, in a Bloom filter, its important to have not one hash function, but several hash functions. So, k is going to denote the number of hash functions in the Bloom filter which you think of k is some small constant somewhere, you know, three, four, five, or something like that. So, obviously it's a little bit more complicated to use multiple hash functions as supposed to just one hash function. But it's really not that big of deal. So, we'll call from our discussion of say, universal hashing, we have identified the entire families of hash functions which will work well on average. So, instead of choosing just using one hash function at random from universal family, you gave me k independent random choices from universal family. In fact, in practice, it seems to typically be enough to just use two different hash functions and then generate k different linear combinations of those two hash functions. But for the purposes of this video, let's just assume that we've done enough work to come up with k, different good hash functions and that's what we're going to be using in our Bloom filter. \n",
    "\n",
    "So, let's start by insertion. So, suppose we have some new IP address and we want to stick into these Bloom filter, what we do? Well, we'll just evaluate each of our k hash functions on this new object. Each of those tells us an index into our array of bits and we'll just set those k bits equal to one. And when we do this insert, we don't even bother to look at what the previous values of these bits were.. So, zero or one, we don't care. We'll just blithely go in and set this k bits equal to one, whatever they were before. \n",
    "\n",
    "So, what about looking up? How are we going to implement that? Well, all you have to do is check for the footprint that was inevitably left by a prior insertion. So, if we're looking up an IP address and we know was inserted sometime in the past, what happened when we evaluated the k hash functions, we went t o appropriate positions in the array and we set all of those bits to one. So now, I'll just check that, that indeed happened, that is when we get a new IP address, we're looking it up. We evaluate the hash functions, all k of them. We look at the corresponding k positions and we verified that indeed those k bits have been set to one.\n",
    "\n",
    "##### False Positive\n",
    "\n",
    "So, what I hope is clear fairly quickly from inspecting this very elegant code is that we will not ever have false negatives, yet, we might have false positives. \n",
    "\n",
    "Notice when a bit is one, it remains one forevermore. That bits are never reset back to zero. So, if anything was ever inserted in the subs when we look it up, definitely we well confirm that all those bits are one. So, we're never going to be rejected by something we inserted before. On the other hand, it is totally possible that we will have a false positive. It's totally possible that there will be a phantom object and we'll do a look up and the Bloom filter will turn yes when we never inserted that object. \n"
   ]
  },
  {
   "cell_type": "code",
   "execution_count": 92,
   "metadata": {},
   "outputs": [],
   "source": [
    "import urllib3\n",
    "\n",
    "\n",
    "class Bloom_Filter:\n",
    "    from random import randint\n",
    "    import matplotlib.pyplot as plt\n",
    "    \n",
    "    #import numpy as np\n",
    "    \n",
    "    def __init__(self, size = 1000, hash_func_num = 5):\n",
    "        self.bloom_filter = [0] * size\n",
    "        self.hash_function_family = [[self.randint(1, size) for _ in range(0, 4)] for _ in range(0, hash_func_num)]\n",
    "        \n",
    "    def __repr__(self):\n",
    "        return str(self.bloom_filter)\n",
    "            \n",
    "    def __getitem__(self, index):\n",
    "        n = len(self.bloom_filter)\n",
    "        if n <= index:\n",
    "            return None\n",
    "        else:\n",
    "            return self.bloom_filter[index]\n",
    "    \n",
    "    def __setitem__(self, index, value):\n",
    "        self.bloom_filter[index] = value\n",
    "\n",
    "    def universal_hashing(self, element):\n",
    "        character_arr = list(element) \n",
    "        ord_arr = [ord(i) for i in character_arr]\n",
    "        # bloom_filter using a family of hash functions\n",
    "        # our family of hash functions has to choose 4 random number from 1 to 1000 as we have n = 1000 = number of buckets\n",
    "        # thus our random hash function is equivalent to the gold standard of uniform random variable that\n",
    "        # would've chosen an index in the array of size 1000 \n",
    "        len25 = len(ord_arr) // 4\n",
    "        dot_sum_ord = 0\n",
    "        index = []\n",
    "        for hash_func in self.hash_function_family:\n",
    "            for piece in range(len(hash_func)):\n",
    "                dot_sum_ord += hash_func[piece] * sum(ord_arr[piece*len25:(piece+1)*len25]) \n",
    "                index.append(dot_sum_ord % 997)  # avoiding 2 or 10 and using prime close to n = 1000 = number of buckets\n",
    "        return index\n",
    "            \n",
    "            \n",
    "    def insert(self, element):\n",
    "        index = self.universal_hashing(element)\n",
    "        for i in index:\n",
    "            self.bloom_filter[i] = 1\n",
    "            \n",
    "            \n",
    "    def lookup(self, element):\n",
    "        index = self.universal_hashing(element)\n",
    "        value = [self.bloom_filter[i] for i in index]\n",
    "        if 0 in value:\n",
    "            return False\n",
    "        else:\n",
    "            return True\n",
    "        \n",
    "        \n",
    "    def _load_index(self, index):\n",
    "        if self.bloom_filter[index] == None:\n",
    "            return 0\n",
    "        else:\n",
    "            return 1\n",
    "        \n",
    "    \n",
    "    def load_visualize(self):\n",
    "        index = range(len(self.bloom_filter))\n",
    "        load = [self._load_index(i) for i in index]\n",
    "        self.plt.bar(index, load)\n",
    "        self.plt.xlabel('Hash table Indices', fontsize=5)\n",
    "        self.plt.ylabel('Load', fontsize=5)\n",
    "        #self.plt.xticks(index, label, fontsize=5, rotation=30)\n",
    "        self.plt.title('Hash table Load Visualization')\n",
    "        self.plt.show()\n",
    "    \n",
    "\n",
    "\n"
   ]
  },
  {
   "cell_type": "markdown",
   "metadata": {},
   "source": [
    "#### Testcases Bloom Filter\n",
    "1. \n",
    "Keep bloom filter size = 1000 & num of hash functions = 5 and then check the false positive count.<br>\n",
    "Here we are inserting only 100 of 500 usernames in the bloom filter."
   ]
  },
  {
   "cell_type": "code",
   "execution_count": 93,
   "metadata": {},
   "outputs": [
    {
     "name": "stdout",
     "output_type": "stream",
     "text": [
      "[1, 1, 1, 1, 0, 1, 1, 1, 1, 1, 1, 1, 1, 1, 1, 1, 1, 1, 1, 1, 1, 1, 1, 1, 1, 1, 1, 0, 1, 1, 1, 1, 1, 1, 0, 1, 1, 1, 1, 0, 1, 1, 1, 1, 0, 0, 1, 1, 1, 1, 0, 1, 1, 1, 1, 1, 1, 1, 1, 1, 1, 1, 1, 1, 1, 0, 1, 1, 1, 0, 1, 0, 1, 1, 1, 1, 0, 0, 1, 1, 1, 1, 1, 1, 1, 0, 1, 1, 1, 1, 1, 1, 1, 0, 1, 1, 0, 0, 1, 1, 1, 1, 1, 1, 1, 1, 1, 1, 1, 1, 1, 1, 1, 1, 1, 1, 1, 1, 1, 1, 1, 1, 1, 1, 1, 1, 1, 1, 1, 1, 1, 1, 1, 1, 1, 1, 1, 1, 1, 1, 0, 1, 1, 1, 1, 1, 0, 1, 1, 0, 1, 0, 0, 1, 1, 1, 1, 0, 1, 1, 1, 1, 0, 1, 1, 0, 1, 1, 1, 1, 1, 1, 1, 1, 1, 1, 1, 1, 1, 1, 1, 1, 1, 1, 1, 1, 1, 1, 1, 0, 0, 1, 1, 1, 1, 0, 1, 1, 1, 1, 1, 1, 1, 0, 1, 1, 1, 1, 1, 1, 1, 0, 1, 1, 1, 1, 1, 1, 1, 1, 1, 1, 1, 1, 1, 1, 1, 1, 1, 1, 1, 1, 1, 1, 0, 1, 1, 1, 1, 1, 1, 0, 1, 0, 1, 1, 1, 1, 1, 1, 1, 0, 1, 1, 1, 1, 1, 1, 1, 0, 0, 1, 1, 1, 1, 0, 0, 0, 1, 1, 0, 0, 1, 1, 0, 1, 1, 1, 1, 1, 0, 1, 1, 1, 0, 1, 1, 1, 1, 0, 1, 1, 1, 1, 1, 0, 1, 1, 0, 1, 1, 0, 1, 1, 1, 1, 0, 1, 1, 1, 0, 1, 1, 1, 1, 0, 1, 0, 1, 1, 0, 1, 0, 1, 1, 1, 1, 1, 1, 1, 1, 1, 0, 1, 1, 1, 1, 1, 0, 1, 1, 1, 1, 1, 1, 1, 0, 1, 1, 1, 1, 1, 0, 1, 1, 1, 1, 1, 1, 1, 1, 1, 0, 1, 1, 0, 1, 1, 1, 1, 1, 1, 1, 1, 1, 0, 1, 1, 1, 1, 1, 1, 1, 1, 0, 1, 0, 1, 1, 1, 1, 1, 0, 1, 0, 1, 1, 0, 1, 1, 1, 1, 0, 0, 1, 1, 1, 0, 0, 0, 0, 1, 1, 1, 1, 1, 1, 0, 1, 0, 1, 1, 1, 1, 1, 1, 1, 1, 1, 1, 1, 1, 1, 0, 1, 1, 1, 1, 1, 1, 0, 1, 1, 1, 1, 1, 0, 1, 1, 0, 1, 1, 1, 1, 1, 1, 1, 1, 0, 1, 1, 1, 1, 1, 1, 1, 1, 1, 1, 1, 1, 1, 1, 1, 1, 1, 1, 1, 0, 1, 1, 1, 0, 1, 1, 1, 1, 1, 1, 1, 1, 1, 1, 1, 0, 1, 1, 1, 0, 1, 1, 1, 1, 1, 0, 1, 1, 0, 1, 1, 1, 0, 1, 1, 1, 0, 1, 1, 1, 0, 1, 1, 1, 1, 1, 1, 1, 1, 1, 1, 1, 1, 0, 0, 1, 1, 1, 1, 1, 1, 1, 1, 1, 1, 1, 1, 1, 1, 1, 1, 1, 1, 0, 1, 1, 1, 1, 1, 1, 0, 0, 1, 0, 1, 1, 1, 0, 1, 1, 1, 1, 1, 1, 1, 1, 1, 1, 1, 0, 1, 1, 1, 1, 1, 1, 1, 1, 1, 1, 1, 1, 0, 0, 1, 1, 1, 0, 1, 1, 1, 1, 1, 1, 1, 1, 1, 1, 1, 1, 1, 1, 1, 1, 1, 1, 1, 1, 1, 1, 0, 1, 1, 0, 1, 1, 1, 1, 1, 1, 1, 1, 1, 1, 1, 1, 1, 0, 1, 1, 1, 1, 1, 1, 1, 1, 1, 1, 1, 0, 1, 1, 1, 1, 1, 1, 1, 1, 0, 1, 1, 1, 1, 1, 1, 1, 1, 1, 1, 1, 1, 1, 1, 1, 1, 1, 1, 1, 1, 1, 1, 1, 1, 1, 0, 1, 1, 1, 0, 1, 1, 1, 1, 1, 0, 1, 0, 1, 1, 1, 0, 1, 1, 1, 1, 1, 1, 0, 1, 1, 1, 1, 1, 1, 1, 1, 1, 1, 1, 1, 1, 1, 1, 1, 1, 1, 0, 1, 0, 1, 1, 1, 1, 0, 1, 1, 1, 1, 1, 1, 1, 1, 1, 1, 1, 0, 1, 1, 1, 1, 1, 1, 1, 1, 1, 0, 1, 1, 1, 1, 1, 0, 1, 1, 1, 0, 1, 0, 1, 1, 0, 1, 0, 1, 1, 1, 1, 1, 1, 1, 1, 1, 0, 1, 1, 1, 0, 0, 1, 1, 1, 1, 1, 1, 1, 1, 1, 1, 1, 1, 1, 1, 1, 1, 1, 1, 1, 1, 1, 1, 1, 1, 1, 0, 1, 0, 1, 1, 1, 1, 1, 1, 1, 1, 1, 0, 1, 1, 1, 1, 1, 1, 1, 1, 0, 1, 1, 1, 1, 1, 1, 1, 1, 1, 1, 1, 1, 1, 1, 1, 1, 1, 1, 1, 1, 1, 1, 1, 1, 1, 1, 1, 1, 0, 1, 1, 1, 1, 0, 1, 1, 1, 1, 1, 1, 1, 1, 1, 1, 0, 1, 1, 1, 1, 1, 1, 1, 1, 0, 1, 1, 0, 1, 1, 1, 1, 1, 1, 1, 1, 1, 1, 1, 1, 1, 1, 1, 1, 1, 1, 1, 1, 0, 1, 0, 0, 1, 1, 1, 0, 0, 1, 1, 1, 1, 1, 1, 1, 1, 0, 0, 0, 1, 1, 1, 1, 1, 1, 0, 1, 1, 1, 1, 1, 1, 1, 1, 0, 1, 1, 1, 1, 1, 1, 1, 1, 0, 1, 1, 1, 1, 1, 1, 1, 1, 1, 1, 1, 1, 1, 1, 0, 1, 1, 0, 1, 1, 0, 1, 1, 1, 1, 0, 1, 1, 0, 1, 1, 1, 1, 1, 1, 1, 1, 0, 1, 1, 1, 0, 0, 0]\n"
     ]
    },
    {
     "name": "stderr",
     "output_type": "stream",
     "text": [
      "/Users/aishwaya/anaconda2/lib/python2.7/site-packages/urllib3/connectionpool.py:858: InsecureRequestWarning: Unverified HTTPS request is being made. Adding certificate verification is strongly advised. See: https://urllib3.readthedocs.io/en/latest/advanced-usage.html#ssl-warnings\n",
      "  InsecureRequestWarning)\n"
     ]
    }
   ],
   "source": [
    "import random\n",
    "\n",
    "bloom_filter_obj = Bloom_Filter(1000)\n",
    "\n",
    "# insert api\n",
    "http = urllib3.PoolManager()\n",
    "r1 = http.request('GET', \"https://raw.githubusercontent.com/aishwarya34/AlgorithmsIlluminated/master/500_twitch_usernames.txt\")\n",
    "IntegerMatrixStringJoin = r1.data.split('\\n')\n",
    "IntegerMatrixStringJoin = IntegerMatrixStringJoin[:-1]\n",
    "random.shuffle(IntegerMatrixStringJoin)\n",
    "\n",
    "cut = 100\n",
    "list_1 = IntegerMatrixStringJoin[:cut]\n",
    "list_2 = IntegerMatrixStringJoin[cut:]\n",
    "for username in list_1:\n",
    "    bloom_filter_obj.insert(username)\n",
    "        "
   ]
  },
  {
   "cell_type": "code",
   "execution_count": 96,
   "metadata": {},
   "outputs": [
    {
     "name": "stdout",
     "output_type": "stream",
     "text": [
      "Total False Positives: 28/400 = 0.07\n"
     ]
    }
   ],
   "source": [
    "# lookup api   to check false positives on usernames not inserted into the bloom filter   \n",
    "false_positive = 0\n",
    "for li in list_2:\n",
    "    false_positive += bloom_filter_obj.lookup(li)\n",
    "print(\"Total False Positives: {}/400 = {}\".format(false_positive, false_positive/400.0))\n",
    "\n"
   ]
  },
  {
   "cell_type": "code",
   "execution_count": 97,
   "metadata": {},
   "outputs": [
    {
     "data": {
      "image/png": "[encoded data removed]",
      "text/plain": [
       "<matplotlib.figure.Figure at 0x11c033250>"
      ]
     },
     "metadata": {},
     "output_type": "display_data"
    }
   ],
   "source": [
    "bloom_filter_obj.load_visualize()"
   ]
  },
  {
   "cell_type": "markdown",
   "metadata": {},
   "source": [
    "2) Keep bloom filter size = 1000 & num of hash functions = 6 and then check the false positive count.<br>\n",
    "    Here we are inserting only 100 of 500 usernames in the bloom filter.<br>\n",
    "    We see that the number of false positive have increased"
   ]
  },
  {
   "cell_type": "code",
   "execution_count": 100,
   "metadata": {},
   "outputs": [
    {
     "name": "stderr",
     "output_type": "stream",
     "text": [
      "/Users/aishwaya/anaconda2/lib/python2.7/site-packages/urllib3/connectionpool.py:858: InsecureRequestWarning: Unverified HTTPS request is being made. Adding certificate verification is strongly advised. See: https://urllib3.readthedocs.io/en/latest/advanced-usage.html#ssl-warnings\n",
      "  InsecureRequestWarning)\n"
     ]
    },
    {
     "name": "stdout",
     "output_type": "stream",
     "text": [
      "Total False Positives: 31/400 = 0.0775\n"
     ]
    },
    {
     "data": {
      "image/png": "[encoded data removed]",
      "text/plain": [
       "<matplotlib.figure.Figure at 0x117d6e850>"
      ]
     },
     "metadata": {},
     "output_type": "display_data"
    }
   ],
   "source": [
    "import random\n",
    "\n",
    "bloom_filter_obj = Bloom_Filter(1000, hash_func_num = 6)\n",
    "\n",
    "# insert api\n",
    "http = urllib3.PoolManager()\n",
    "r1 = http.request('GET', \"https://raw.githubusercontent.com/aishwarya34/AlgorithmsIlluminated/master/500_twitch_usernames.txt\")\n",
    "IntegerMatrixStringJoin = r1.data.split('\\n')\n",
    "IntegerMatrixStringJoin = IntegerMatrixStringJoin[:-1]\n",
    "random.shuffle(IntegerMatrixStringJoin)\n",
    "\n",
    "cut = 100\n",
    "list_1 = IntegerMatrixStringJoin[:cut]\n",
    "list_2 = IntegerMatrixStringJoin[cut:]\n",
    "for username in list_1:\n",
    "    bloom_filter_obj.insert(username)\n",
    "    \n",
    "# lookup api   to check false positives on usernames not inserted into the bloom filter   \n",
    "false_positive = 0\n",
    "for li in list_2:\n",
    "    false_positive += bloom_filter_obj.lookup(li)\n",
    "print(\"Total False Positives: {}/400 = {}\".format(false_positive, false_positive/400.0))\n",
    "\n",
    "bloom_filter_obj.load_visualize()\n",
    "        "
   ]
  },
  {
   "cell_type": "markdown",
   "metadata": {},
   "source": [
    "3) Keep bloom filter size = 2000 & num of hash functions = 5 and then check the false positive count.<br>\n",
    "    Here we are inserting only 100 of 500 usernames in the bloom filter. <br>\n",
    "    We see that the number of false positive have decreased"
   ]
  },
  {
   "cell_type": "code",
   "execution_count": 104,
   "metadata": {},
   "outputs": [
    {
     "name": "stderr",
     "output_type": "stream",
     "text": [
      "/Users/aishwaya/anaconda2/lib/python2.7/site-packages/urllib3/connectionpool.py:858: InsecureRequestWarning: Unverified HTTPS request is being made. Adding certificate verification is strongly advised. See: https://urllib3.readthedocs.io/en/latest/advanced-usage.html#ssl-warnings\n",
      "  InsecureRequestWarning)\n"
     ]
    },
    {
     "name": "stdout",
     "output_type": "stream",
     "text": [
      "Total False Positives: 21/400 = 0.0525\n"
     ]
    },
    {
     "data": {
      "image/png": "[encoded data removed]",
      "text/plain": [
       "<matplotlib.figure.Figure at 0x10fd86450>"
      ]
     },
     "metadata": {},
     "output_type": "display_data"
    }
   ],
   "source": [
    "import random\n",
    "\n",
    "bloom_filter_obj = Bloom_Filter(size = 2000, hash_func_num = 5)\n",
    "\n",
    "# insert api\n",
    "http = urllib3.PoolManager()\n",
    "r1 = http.request('GET', \"https://raw.githubusercontent.com/aishwarya34/AlgorithmsIlluminated/master/500_twitch_usernames.txt\")\n",
    "IntegerMatrixStringJoin = r1.data.split('\\n')\n",
    "IntegerMatrixStringJoin = IntegerMatrixStringJoin[:-1]\n",
    "random.shuffle(IntegerMatrixStringJoin)\n",
    "\n",
    "cut = 100\n",
    "list_1 = IntegerMatrixStringJoin[:cut]\n",
    "list_2 = IntegerMatrixStringJoin[cut:]\n",
    "for username in list_1:\n",
    "    bloom_filter_obj.insert(username)\n",
    "    \n",
    "# lookup api   to check false positives on usernames not inserted into the bloom filter   \n",
    "false_positive = 0\n",
    "for li in list_2:\n",
    "    false_positive += bloom_filter_obj.lookup(li)\n",
    "print(\"Total False Positives: {}/400 = {}\".format(false_positive, false_positive/400.0))\n",
    "\n",
    "bloom_filter_obj.load_visualize()\n",
    "        "
   ]
  },
  {
   "cell_type": "markdown",
   "metadata": {},
   "source": [
    "4) Keep bloom filter size = 1000 & num of hash functions = 5 and then check the false positive count.<br>\n",
    "    Here we are inserting only 200 of 500 usernames in the bloom filter. <br>\n",
    "    We see that the number of false positive have increased dramatically"
   ]
  },
  {
   "cell_type": "code",
   "execution_count": 106,
   "metadata": {},
   "outputs": [
    {
     "name": "stderr",
     "output_type": "stream",
     "text": [
      "/Users/aishwaya/anaconda2/lib/python2.7/site-packages/urllib3/connectionpool.py:858: InsecureRequestWarning: Unverified HTTPS request is being made. Adding certificate verification is strongly advised. See: https://urllib3.readthedocs.io/en/latest/advanced-usage.html#ssl-warnings\n",
      "  InsecureRequestWarning)\n"
     ]
    },
    {
     "name": "stdout",
     "output_type": "stream",
     "text": [
      "Total False Positives: 206/400 = 0.515\n"
     ]
    },
    {
     "data": {
      "image/png": "[encoded data removed]",
      "text/plain": [
       "<matplotlib.figure.Figure at 0x11c203a50>"
      ]
     },
     "metadata": {},
     "output_type": "display_data"
    }
   ],
   "source": [
    "import random\n",
    "\n",
    "bloom_filter_obj = Bloom_Filter(size = 1000, hash_func_num = 5)\n",
    "\n",
    "# insert api\n",
    "http = urllib3.PoolManager()\n",
    "r1 = http.request('GET', \"https://raw.githubusercontent.com/aishwarya34/AlgorithmsIlluminated/master/500_twitch_usernames.txt\")\n",
    "IntegerMatrixStringJoin = r1.data.split('\\n')\n",
    "IntegerMatrixStringJoin = IntegerMatrixStringJoin[:-1]\n",
    "random.shuffle(IntegerMatrixStringJoin)\n",
    "\n",
    "cut = 200\n",
    "list_1 = IntegerMatrixStringJoin[:cut]\n",
    "list_2 = IntegerMatrixStringJoin[cut:]\n",
    "for username in list_1:\n",
    "    bloom_filter_obj.insert(username)\n",
    "    \n",
    "# lookup api   to check false positives on usernames not inserted into the bloom filter   \n",
    "false_positive = 0\n",
    "for li in list_2:\n",
    "    false_positive += bloom_filter_obj.lookup(li)\n",
    "print(\"Total False Positives: {}/400 = {}\".format(false_positive, false_positive/400.0))\n",
    "\n",
    "bloom_filter_obj.load_visualize()\n",
    "        "
   ]
  },
  {
   "cell_type": "code",
   "execution_count": null,
   "metadata": {},
   "outputs": [],
   "source": []
  }
 ],
 "metadata": {
  "kernelspec": {
   "display_name": "Python 2",
   "language": "python",
   "name": "python2"
  },
  "language_info": {
   "codemirror_mode": {
    "name": "ipython",
    "version": 2
   },
   "file_extension": ".py",
   "mimetype": "text/x-python",
   "name": "python",
   "nbconvert_exporter": "python",
   "pygments_lexer": "ipython2",
   "version": "2.7.14"
  }
 },
 "nbformat": 4,
 "nbformat_minor": 2
}
