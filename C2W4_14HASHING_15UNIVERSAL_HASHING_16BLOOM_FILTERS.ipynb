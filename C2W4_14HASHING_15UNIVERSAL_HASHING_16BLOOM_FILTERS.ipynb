{
 "cells": [
  {
   "cell_type": "markdown",
   "metadata": {},
   "source": [
    "# XIV. HASHING: THE BASICS \n",
    "You can think about the purpose of the hash table is to maintain a possibly evolving set of things. Where of course the set of things that you're maintaining, you know, will vary with the application. It can be any number of things. So if you're running an e-commerce website, maybe you're keeping track of transactions. You know, again, maybe you're keeping track of people, like for example, your friends and various data about them. So maybe you're keeping track of I-P addresses, for example if you wanna know, who was, were there unique visitors to your websites. And so on. So a little bit more formally, you know, the basic operations, you need to be able to insert stuff into a hash table. In many, but not all applications, you need to be able to delete stuff as well. And typically the most important operation is look-up. And for all these three operation you do it in a key based way. Where as usual a key should just be a unique identifier for the record that you're concerned with.\n",
    "\n",
    "The caveat is that, unlike most of the problems that we've solved in this course, hash tables don't enjoy worst case guarantees. You cannot say for a given hash table that for every possible data set you're gonna get cost and time. What's true is that for non-pathological data, you will get cost and time operations in a properly implemented hash table.\n",
    "\n",
    "***\n",
    "##### Properties of Hash function:\n",
    "1. Should lead to good performance (i.e. should spread data out)\n",
    "2. Should be easy to evaluate / fast to calculate\n",
    "<br>\n",
    " And in particular good hash functions that have the two properties we identified above. But I have to warn you, if you ask ten different, you know, serious hardcore programmers, you know, about their approach to designing hash functions, you're likely to get ten somewhat different answers. So the design of hash functions is a tricky topic, and, it's as much art as science at this point.\n",
    "*** \n",
    "\n",
    "##### Resolving Collisions: \n",
    "    1. Chaining  \n",
    "    2. Open addressing(linear probing and double hashing)\n",
    "    \n",
    "***\n",
    "##### linear probing\n",
    "In linear probing, even in a best case scenario, it's going to be subject to clumping. You're going to have contiguous Groups of slots which are all full, and that's because of the linear probing strategy. \n",
    "\n",
    "***\n",
    "\n",
    "## Quick and Dirty Hash Function\n",
    "In particular if you just need a hash function, and you need a quick and dirty one, you don't want to spend too much time on it. The method that I'm going to talk about below is a common way of doing it. On the other hand, if you're designing a hash function for some really mission-critical code, you should learn more than what I'm gonna tell you about below. So you, you should do more research about what are the best hash functions, what's the state of the art, if you have a super important hash function.\n",
    "\n",
    "There are standard methods for doing that, it's easy to find resources to, to give you example code for converting strings to integers you know, I'll just say one or two sentences about it. So you know each character in a string it is easy to regard as a number in various ways. Either you know just say it is ASCII, well ASCII code then you just have to aggregate all of the different numbers, one number per character into some overall number and so one thing you can do is you can iterate over the characters one at a time. You can keep a running sum. And with each character, you can multiply the running sum by some constant, and then add the new letter to it, and then, if you need to, take a module list to prevent overflow.\n",
    "\n",
    "![Quick and Dirty Hash Function](images/4_quick_and_dirty_hash_function.png)\n",
    "\n",
    "\n",
    "# XV. UNIVERSAL HASHING \n",
    "If we have our set h that we know exactly what it is. What does it mean that it's universal? It means for each pair of distinct keys, for example for each pair of IP addresses, the probability that a random hash function from our family script h causes a collision, maps these two IP addresses to the same bucket should be no worse than with perfectly random hashing. So no worse than 1/n where n is the number of buckets, say like 997.\n",
    "So  if you draw a hash function uniformly at random from a universal family of hash functions, then you're guaranteed expected constant time for all of the supported operations. \n",
    "\n",
    "![UNIVERSAL HASHING](images/5_universal_hashing.png)\n",
    "\n",
    "\n",
    "So hash tables support various operations, Insert, Delete and Lookup. But really if we can just bound a running time of an unsuccessful lookup, that's going to be enough to bound the running time of all of these operations. \n",
    "\n",
    "So, as long as you have a hash function which you can compute quickly in constant time. And as long as you keep the load under control so the number of buckets is commensurate with the size of the data set that you're storing. That's why, universal hash functions in a hash table with chaining guarantee expected constant time performance.\n"
   ]
  },
  {
   "cell_type": "code",
   "execution_count": 62,
   "metadata": {},
   "outputs": [],
   "source": [
    "import urllib3\n",
    "\n",
    "\n",
    "class Hash_Table_chaining:\n",
    "    from random import randint\n",
    "    import matplotlib.pyplot as plt\n",
    "    \n",
    "    #import numpy as np\n",
    "    \n",
    "    def __init__(self, size = 10):\n",
    "        self.hash_table = [None] * size\n",
    "        self.random_nos = [self.randint(1, 1000) for _ in range(0, 4)]\n",
    "        \n",
    "    def __repr__(self):\n",
    "        return str(self.hash_table)\n",
    "            \n",
    "    def __getitem__(self, index):\n",
    "        n = len(self.hash_table)\n",
    "        if n <= index:\n",
    "            return None\n",
    "        else:\n",
    "            return self.hash_table[index]\n",
    "    \n",
    "    def __setitem__(self, index, value):\n",
    "        self.hash_table[index] = value\n",
    "\n",
    "    def universal_hashing(self, element):\n",
    "        character_arr = list(element) \n",
    "        ord_arr = [ord(i) for i in character_arr]\n",
    "        # universal hashing using random choice from a family of hash functions\n",
    "        # our family of hash functions has to choose 4 random number from 1 to 1000 as we have n = 1000 = number of buckets\n",
    "        # thus our random hash function is equivalent to the gold standard of uniform random variable that\n",
    "        # would've chosen an index in the array of size 1000 \n",
    "        len25 = len(ord_arr) // 4\n",
    "        dot_sum_ord = 0\n",
    "        index = None\n",
    "        for piece in range(len(self.random_nos)):\n",
    "            dot_sum_ord += self.random_nos[piece] * sum(ord_arr[piece*len25:(piece+1)*len25]) \n",
    "            index = dot_sum_ord % 997  # avoiding 2 or 10 and using prime close to n = 1000 = number of buckets\n",
    "        return index\n",
    "            \n",
    "            \n",
    "    def insert(self, element):\n",
    "        index = self.universal_hashing(element)\n",
    "        if self.hash_table[index] == None:\n",
    "            self.hash_table[index] = [element]\n",
    "        else:\n",
    "            self.hash_table[index].append(element)\n",
    "            \n",
    "            \n",
    "    def lookup(self, element):\n",
    "        index = self.universal_hashing(element)\n",
    "        if self.hash_table[index] == None:\n",
    "            return None\n",
    "        elif element not in self.hash_table[index]:\n",
    "            return None\n",
    "        else:\n",
    "            return index\n",
    "        \n",
    "    def delete(self, element):\n",
    "        index = self.universal_hashing(element)\n",
    "        if self.hash_table[index] == None:\n",
    "            return None\n",
    "        elif element not in self.hash_table[index]:\n",
    "            return None\n",
    "        else:\n",
    "            self.hash_table[index].remove(element)\n",
    "            return index\n",
    "        \n",
    "        \n",
    "    def _load_index(self, index):\n",
    "        if self.hash_table[index] == None:\n",
    "            return 0\n",
    "        else:\n",
    "            return len(self.hash_table[index])\n",
    "        \n",
    "    \n",
    "    def load_visualize(self):\n",
    "        index = range(len(self.hash_table))\n",
    "        load = [self._load_index(i) for i in index]\n",
    "        self.plt.bar(index, load)\n",
    "        self.plt.xlabel('Hash table Indices', fontsize=5)\n",
    "        self.plt.ylabel('Load', fontsize=5)\n",
    "        #self.plt.xticks(index, label, fontsize=5, rotation=30)\n",
    "        self.plt.title('Hash table Load Visualization')\n",
    "        self.plt.show()\n",
    "    \n"
   ]
  },
  {
   "cell_type": "code",
   "execution_count": 66,
   "metadata": {},
   "outputs": [
    {
     "name": "stdout",
     "output_type": "stream",
     "text": [
      "Element 'watermelonfarmers' found at index : 352\n"
     ]
    },
    {
     "name": "stderr",
     "output_type": "stream",
     "text": [
      "/Users/aishwaya/anaconda2/lib/python2.7/site-packages/urllib3/connectionpool.py:858: InsecureRequestWarning: Unverified HTTPS request is being made. Adding certificate verification is strongly advised. See: https://urllib3.readthedocs.io/en/latest/advanced-usage.html#ssl-warnings\n",
      "  InsecureRequestWarning)\n"
     ]
    }
   ],
   "source": [
    "hash_table_obj = Hash_Table_chaining(1000)\n",
    "\n",
    "# insert api\n",
    "http = urllib3.PoolManager()\n",
    "r1 = http.request('GET', \"https://raw.githubusercontent.com/aishwarya34/AlgorithmsIlluminated/master/500_twitch_usernames.txt\")\n",
    "IntegerMatrixStringJoin = r1.data.split('\\n')\n",
    "IntegerMatrixStringJoin = IntegerMatrixStringJoin[:-1]\n",
    "for username in IntegerMatrixStringJoin:\n",
    "    hash_table_obj.insert(username)\n",
    "        \n",
    "# lookup api        \n",
    "#print(hash_table_obj)\n",
    "print(\"Element \\'watermelonfarmers\\' found at index : {}\".format(hash_table_obj.lookup('watermelonfarmers')))"
   ]
  },
  {
   "cell_type": "code",
   "execution_count": 67,
   "metadata": {},
   "outputs": [
    {
     "name": "stdout",
     "output_type": "stream",
     "text": [
      "None\n",
      "None\n",
      "['watermelonfarmers']\n"
     ]
    }
   ],
   "source": [
    "# __getitem__ and __setitem__\n",
    "print(hash_table_obj[0])\n",
    "hash_table_obj[0] = None\n",
    "print(hash_table_obj[0])\n",
    "print(hash_table_obj[352])"
   ]
  },
  {
   "cell_type": "code",
   "execution_count": 68,
   "metadata": {},
   "outputs": [
    {
     "name": "stdout",
     "output_type": "stream",
     "text": [
      "Element 'watermelonfarmers' found at index : 352\n",
      " 'watermelonfarmers' deleted at index : 352\n",
      "Element 'watermelonfarmers' found at index : None\n"
     ]
    }
   ],
   "source": [
    "# delete api\n",
    "print(\"Element \\'watermelonfarmers\\' found at index : {}\".format(hash_table_obj.lookup('watermelonfarmers')))\n",
    "print(\" \\'watermelonfarmers\\' deleted at index : {}\".format(hash_table_obj.delete('watermelonfarmers')))\n",
    "print(\"Element \\'watermelonfarmers\\' found at index : {}\".format(hash_table_obj.lookup('watermelonfarmers')))"
   ]
  },
  {
   "cell_type": "markdown",
   "metadata": {},
   "source": [
    "### You can see below the minimum load is 0 and maximum load is 3"
   ]
  },
  {
   "cell_type": "code",
   "execution_count": 53,
   "metadata": {},
   "outputs": [
    {
     "data": {
      "image/png": "[encoded data removed]",
      "text/plain": [
       "<matplotlib.figure.Figure at 0x10fede090>"
      ]
     },
     "metadata": {},
     "output_type": "display_data"
    }
   ],
   "source": [
    "hash_table_obj.load_visualize()"
   ]
  },
  {
   "cell_type": "code",
   "execution_count": null,
   "metadata": {},
   "outputs": [],
   "source": []
  }
 ],
 "metadata": {
  "kernelspec": {
   "display_name": "Python 2",
   "language": "python",
   "name": "python2"
  },
  "language_info": {
   "codemirror_mode": {
    "name": "ipython",
    "version": 2
   },
   "file_extension": ".py",
   "mimetype": "text/x-python",
   "name": "python",
   "nbconvert_exporter": "python",
   "pygments_lexer": "ipython2",
   "version": "2.7.14"
  }
 },
 "nbformat": 4,
 "nbformat_minor": 2
}
